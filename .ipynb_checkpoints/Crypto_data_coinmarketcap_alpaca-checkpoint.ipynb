{
 "cells": [
  {
   "cell_type": "code",
   "execution_count": 12,
   "id": "be0e58f0-ec51-42ab-b1f9-d3e7c42ff3b4",
   "metadata": {},
   "outputs": [],
   "source": [
    "import pandas as pd\n",
    "import os\n",
    "import json\n",
    "import requests\n",
    "import datetime\n",
    "import hvplot.pandas\n",
    "from dotenv import load_dotenv\n",
    "import alpaca_trade_api as tradeapi"
   ]
  },
  {
   "cell_type": "code",
   "execution_count": 13,
   "id": "be9a3163-c43f-4c85-b6e8-0180f176581d",
   "metadata": {},
   "outputs": [
    {
     "data": {
      "text/plain": [
       "True"
      ]
     },
     "execution_count": 13,
     "metadata": {},
     "output_type": "execute_result"
    }
   ],
   "source": [
    "load_dotenv()"
   ]
  },
  {
   "cell_type": "code",
   "execution_count": 14,
   "id": "f4f39f2f-196b-47d8-a519-dcbcbcd35dac",
   "metadata": {},
   "outputs": [],
   "source": [
    "api_key = os.getenv(\"Coin_market_cap_api\")\n",
    "\n",
    "latest_listings_url = f\"https://pro-api.coinmarketcap.com/v1/cryptocurrency/listings/latest?CMC_PRO_API_KEY={api_key}\"\n",
    "\n",
    "listings_response = requests.get(latest_listings_url).json()"
   ]
  },
  {
   "cell_type": "code",
   "execution_count": 15,
   "id": "ec915810-7476-40c6-98b3-da0f208d375c",
   "metadata": {},
   "outputs": [],
   "source": [
    "def price_func(coin_data_target):\n",
    "    data = listings_response['data'] \n",
    "    for coin in data: \n",
    "        if coin['symbol'] == coin_data_target: \n",
    "            price = coin['quote']['USD']['price'] \n",
    "            volume = coin['quote']['USD']['volume_24h']\n",
    "            per_change24h = coin['quote']['USD']['percent_change_24h']\n",
    "            market_cap = coin['quote']['USD']['market_cap']\n",
    "            last_updated = coin['quote']['USD']['last_updated']\n",
    "\n",
    "            timestamp = datetime.datetime.strptime(last_updated, \"%Y-%m-%dT%H:%M:%S.%fZ\") #changes timestamp from ISO 8601 to be readable\n",
    "            formatted_time = timestamp.strftime(\"%m/%d/%Y %I:%M %p \")\n",
    "\n",
    "            print(f'{coin_data_target} is currently ${price:0.2f} / 24 hour volume is currently ${volume:0.2f} / 24 hour change is currently {per_change24h:0.2f}% / Market cap is currently {market_cap:0.2f} / The last time this data was updated - {formatted_time}')\n"
   ]
  },
  {
   "cell_type": "code",
   "execution_count": 16,
   "id": "bb66f8e2-3a91-4d73-bb06-d81d14acbbef",
   "metadata": {},
   "outputs": [],
   "source": [
    "def coin_pick_func(target):\n",
    "    data = listings_response['data'] # this gives us a LIST of coins: [BTC, ETH, USD]\n",
    "    new_list = []\n",
    "    for coin in data: # loop through the list of coins \n",
    "        if coin['symbol'] == target:\n",
    "            # new_list.append(coin['quote']['USD']['price'])\n",
    "            return coin['quote']['USD']['price']        "
   ]
  },
  {
   "cell_type": "code",
   "execution_count": 17,
   "id": "fc256c11-34bc-41a4-8629-eeab829d5173",
   "metadata": {},
   "outputs": [],
   "source": [
    "def time_format_func(target):\n",
    "    data = listings_response['data'] # this gives us a LIST of coins: [BTC, ETH, USD]\n",
    "    for coin in data: # loop through the list of coins \n",
    "        if coin['symbol'] == target:\n",
    "            last_updated = coin['quote']['USD']['last_updated']\n",
    "            formatted_time1 = datetime.datetime.strptime(last_updated, \"%Y-%m-%dT%H:%M:%S.%fZ\")\n",
    "            formatted_time2 = formatted_time1.strftime(\"%m/%d/%Y %I:%M %p\")\n",
    "            return formatted_time2"
   ]
  },
  {
   "cell_type": "code",
   "execution_count": 18,
   "id": "15f3b109-4223-4936-b919-ef686d60e015",
   "metadata": {},
   "outputs": [],
   "source": [
    "def top_coin_scatter():\n",
    "    eth = (coin_pick_func('ETH'))\n",
    "    btc = (coin_pick_func('BTC'))\n",
    "    avax = (coin_pick_func('AVAX'))\n",
    "    bnb = (coin_pick_func('BNB'))\n",
    "    xrp = (coin_pick_func('XRP'))\n",
    "    sol = (coin_pick_func('SOL'))\n",
    "    time = (time_format_func('ETH'))\n",
    "    df = pd.DataFrame(data = {'ETH' : [eth], 'BTC' : [btc], 'AVAX' : [avax], 'BNB' : [bnb], 'XRP' : [xrp], 'SOL' : [sol]})\n",
    "    charted = df.hvplot(kind='scatter', title=time)\n",
    "    return charted"
   ]
  },
  {
   "cell_type": "code",
   "execution_count": 19,
   "id": "17f78e74-1237-4047-8870-d4d3483f313a",
   "metadata": {},
   "outputs": [
    {
     "ename": "KeyError",
     "evalue": "'data'",
     "output_type": "error",
     "traceback": [
      "\u001b[0;31m---------------------------------------------------------------------------\u001b[0m",
      "\u001b[0;31mKeyError\u001b[0m                                  Traceback (most recent call last)",
      "\u001b[0;32m/var/folders/28/bq100fc94b77cqwg73d976d00000gn/T/ipykernel_30420/1279595925.py\u001b[0m in \u001b[0;36m<module>\u001b[0;34m\u001b[0m\n\u001b[0;32m----> 1\u001b[0;31m \u001b[0mtop_coin_scatter\u001b[0m\u001b[0;34m(\u001b[0m\u001b[0;34m)\u001b[0m\u001b[0;34m\u001b[0m\u001b[0;34m\u001b[0m\u001b[0m\n\u001b[0m",
      "\u001b[0;32m/var/folders/28/bq100fc94b77cqwg73d976d00000gn/T/ipykernel_30420/669114762.py\u001b[0m in \u001b[0;36mtop_coin_scatter\u001b[0;34m()\u001b[0m\n\u001b[1;32m      1\u001b[0m \u001b[0;32mdef\u001b[0m \u001b[0mtop_coin_scatter\u001b[0m\u001b[0;34m(\u001b[0m\u001b[0;34m)\u001b[0m\u001b[0;34m:\u001b[0m\u001b[0;34m\u001b[0m\u001b[0;34m\u001b[0m\u001b[0m\n\u001b[0;32m----> 2\u001b[0;31m     \u001b[0meth\u001b[0m \u001b[0;34m=\u001b[0m \u001b[0;34m(\u001b[0m\u001b[0mcoin_pick_func\u001b[0m\u001b[0;34m(\u001b[0m\u001b[0;34m'ETH'\u001b[0m\u001b[0;34m)\u001b[0m\u001b[0;34m)\u001b[0m\u001b[0;34m\u001b[0m\u001b[0;34m\u001b[0m\u001b[0m\n\u001b[0m\u001b[1;32m      3\u001b[0m     \u001b[0mbtc\u001b[0m \u001b[0;34m=\u001b[0m \u001b[0;34m(\u001b[0m\u001b[0mcoin_pick_func\u001b[0m\u001b[0;34m(\u001b[0m\u001b[0;34m'BTC'\u001b[0m\u001b[0;34m)\u001b[0m\u001b[0;34m)\u001b[0m\u001b[0;34m\u001b[0m\u001b[0;34m\u001b[0m\u001b[0m\n\u001b[1;32m      4\u001b[0m     \u001b[0mavax\u001b[0m \u001b[0;34m=\u001b[0m \u001b[0;34m(\u001b[0m\u001b[0mcoin_pick_func\u001b[0m\u001b[0;34m(\u001b[0m\u001b[0;34m'AVAX'\u001b[0m\u001b[0;34m)\u001b[0m\u001b[0;34m)\u001b[0m\u001b[0;34m\u001b[0m\u001b[0;34m\u001b[0m\u001b[0m\n\u001b[1;32m      5\u001b[0m     \u001b[0mbnb\u001b[0m \u001b[0;34m=\u001b[0m \u001b[0;34m(\u001b[0m\u001b[0mcoin_pick_func\u001b[0m\u001b[0;34m(\u001b[0m\u001b[0;34m'BNB'\u001b[0m\u001b[0;34m)\u001b[0m\u001b[0;34m)\u001b[0m\u001b[0;34m\u001b[0m\u001b[0;34m\u001b[0m\u001b[0m\n",
      "\u001b[0;32m/var/folders/28/bq100fc94b77cqwg73d976d00000gn/T/ipykernel_30420/3484194574.py\u001b[0m in \u001b[0;36mcoin_pick_func\u001b[0;34m(target)\u001b[0m\n\u001b[1;32m      1\u001b[0m \u001b[0;32mdef\u001b[0m \u001b[0mcoin_pick_func\u001b[0m\u001b[0;34m(\u001b[0m\u001b[0mtarget\u001b[0m\u001b[0;34m)\u001b[0m\u001b[0;34m:\u001b[0m\u001b[0;34m\u001b[0m\u001b[0;34m\u001b[0m\u001b[0m\n\u001b[0;32m----> 2\u001b[0;31m     \u001b[0mdata\u001b[0m \u001b[0;34m=\u001b[0m \u001b[0mlistings_response\u001b[0m\u001b[0;34m[\u001b[0m\u001b[0;34m'data'\u001b[0m\u001b[0;34m]\u001b[0m \u001b[0;31m# this gives us a LIST of coins: [BTC, ETH, USD]\u001b[0m\u001b[0;34m\u001b[0m\u001b[0;34m\u001b[0m\u001b[0m\n\u001b[0m\u001b[1;32m      3\u001b[0m     \u001b[0mnew_list\u001b[0m \u001b[0;34m=\u001b[0m \u001b[0;34m[\u001b[0m\u001b[0;34m]\u001b[0m\u001b[0;34m\u001b[0m\u001b[0;34m\u001b[0m\u001b[0m\n\u001b[1;32m      4\u001b[0m     \u001b[0;32mfor\u001b[0m \u001b[0mcoin\u001b[0m \u001b[0;32min\u001b[0m \u001b[0mdata\u001b[0m\u001b[0;34m:\u001b[0m \u001b[0;31m# loop through the list of coins\u001b[0m\u001b[0;34m\u001b[0m\u001b[0;34m\u001b[0m\u001b[0m\n\u001b[1;32m      5\u001b[0m         \u001b[0;32mif\u001b[0m \u001b[0mcoin\u001b[0m\u001b[0;34m[\u001b[0m\u001b[0;34m'symbol'\u001b[0m\u001b[0;34m]\u001b[0m \u001b[0;34m==\u001b[0m \u001b[0mtarget\u001b[0m\u001b[0;34m:\u001b[0m\u001b[0;34m\u001b[0m\u001b[0;34m\u001b[0m\u001b[0m\n",
      "\u001b[0;31mKeyError\u001b[0m: 'data'"
     ]
    }
   ],
   "source": [
    "top_coin_scatter()"
   ]
  },
  {
   "cell_type": "code",
   "execution_count": 20,
   "id": "c7e11f11-dd12-41ec-90cc-14e10025073c",
   "metadata": {},
   "outputs": [
    {
     "ename": "ValueError",
     "evalue": "('Key ID must be given to access Alpaca trade API', ' (env: APCA_API_KEY_ID)')",
     "output_type": "error",
     "traceback": [
      "\u001b[0;31m---------------------------------------------------------------------------\u001b[0m",
      "\u001b[0;31mValueError\u001b[0m                                Traceback (most recent call last)",
      "\u001b[0;32m/var/folders/28/bq100fc94b77cqwg73d976d00000gn/T/ipykernel_30420/3844838436.py\u001b[0m in \u001b[0;36m<module>\u001b[0;34m\u001b[0m\n\u001b[1;32m      6\u001b[0m     \u001b[0malpaca_api_key\u001b[0m\u001b[0;34m,\u001b[0m\u001b[0;34m\u001b[0m\u001b[0;34m\u001b[0m\u001b[0m\n\u001b[1;32m      7\u001b[0m     \u001b[0malpaca_secret_key\u001b[0m\u001b[0;34m,\u001b[0m\u001b[0;34m\u001b[0m\u001b[0;34m\u001b[0m\u001b[0m\n\u001b[0;32m----> 8\u001b[0;31m     api_version=\"v2\")\n\u001b[0m",
      "\u001b[0;32m~/opt/anaconda3/envs/dev/lib/python3.7/site-packages/alpaca_trade_api/rest.py\u001b[0m in \u001b[0;36m__init__\u001b[0;34m(self, key_id, secret_key, base_url, api_version, oauth, raw_data)\u001b[0m\n\u001b[1;32m    167\u001b[0m         \"\"\"\n\u001b[1;32m    168\u001b[0m         self._key_id, self._secret_key, self._oauth = get_credentials(\n\u001b[0;32m--> 169\u001b[0;31m             key_id, secret_key, oauth)\n\u001b[0m\u001b[1;32m    170\u001b[0m         \u001b[0mself\u001b[0m\u001b[0;34m.\u001b[0m\u001b[0m_base_url\u001b[0m\u001b[0;34m:\u001b[0m \u001b[0mURL\u001b[0m \u001b[0;34m=\u001b[0m \u001b[0mURL\u001b[0m\u001b[0;34m(\u001b[0m\u001b[0mbase_url\u001b[0m \u001b[0;32mor\u001b[0m \u001b[0mget_base_url\u001b[0m\u001b[0;34m(\u001b[0m\u001b[0;34m)\u001b[0m\u001b[0;34m)\u001b[0m\u001b[0;34m\u001b[0m\u001b[0;34m\u001b[0m\u001b[0m\n\u001b[1;32m    171\u001b[0m         \u001b[0mself\u001b[0m\u001b[0;34m.\u001b[0m\u001b[0m_api_version\u001b[0m \u001b[0;34m=\u001b[0m \u001b[0mget_api_version\u001b[0m\u001b[0;34m(\u001b[0m\u001b[0mapi_version\u001b[0m\u001b[0;34m)\u001b[0m\u001b[0;34m\u001b[0m\u001b[0;34m\u001b[0m\u001b[0m\n",
      "\u001b[0;32m~/opt/anaconda3/envs/dev/lib/python3.7/site-packages/alpaca_trade_api/common.py\u001b[0m in \u001b[0;36mget_credentials\u001b[0;34m(key_id, secret_key, oauth)\u001b[0m\n\u001b[1;32m     83\u001b[0m     \u001b[0;32mif\u001b[0m \u001b[0mkey_id\u001b[0m \u001b[0;32mis\u001b[0m \u001b[0;32mNone\u001b[0m \u001b[0;32mand\u001b[0m \u001b[0moauth\u001b[0m \u001b[0;32mis\u001b[0m \u001b[0;32mNone\u001b[0m\u001b[0;34m:\u001b[0m\u001b[0;34m\u001b[0m\u001b[0;34m\u001b[0m\u001b[0m\n\u001b[1;32m     84\u001b[0m         raise ValueError('Key ID must be given to access Alpaca trade API',\n\u001b[0;32m---> 85\u001b[0;31m                          ' (env: APCA_API_KEY_ID)')\n\u001b[0m\u001b[1;32m     86\u001b[0m \u001b[0;34m\u001b[0m\u001b[0m\n\u001b[1;32m     87\u001b[0m     \u001b[0msecret_key\u001b[0m \u001b[0;34m=\u001b[0m \u001b[0msecret_key\u001b[0m \u001b[0;32mor\u001b[0m \u001b[0mos\u001b[0m\u001b[0;34m.\u001b[0m\u001b[0menviron\u001b[0m\u001b[0;34m.\u001b[0m\u001b[0mget\u001b[0m\u001b[0;34m(\u001b[0m\u001b[0;34m'APCA_API_SECRET_KEY'\u001b[0m\u001b[0;34m)\u001b[0m\u001b[0;34m\u001b[0m\u001b[0;34m\u001b[0m\u001b[0m\n",
      "\u001b[0;31mValueError\u001b[0m: ('Key ID must be given to access Alpaca trade API', ' (env: APCA_API_KEY_ID)')"
     ]
    }
   ],
   "source": [
    "alpaca_api_key = os.getenv('ALPACA_API_KEY')\n",
    "\n",
    "alpaca_secret_key = os.getenv('ALPACA_SECRET_KEY')\n",
    "\n",
    "alpaca = tradeapi.REST(\n",
    "    alpaca_api_key,\n",
    "    alpaca_secret_key,\n",
    "    api_version=\"v2\")"
   ]
  },
  {
   "cell_type": "code",
   "execution_count": 21,
   "id": "53b1e24e-3872-4ed5-8aef-9c3cbee6ac5a",
   "metadata": {},
   "outputs": [
    {
     "ename": "NameError",
     "evalue": "name 'alpaca' is not defined",
     "output_type": "error",
     "traceback": [
      "\u001b[0;31m---------------------------------------------------------------------------\u001b[0m",
      "\u001b[0;31mNameError\u001b[0m                                 Traceback (most recent call last)",
      "\u001b[0;32m/var/folders/28/bq100fc94b77cqwg73d976d00000gn/T/ipykernel_30420/3688090117.py\u001b[0m in \u001b[0;36m<module>\u001b[0;34m\u001b[0m\n\u001b[0;32m----> 1\u001b[0;31m \u001b[0mbtc_bar_data\u001b[0m \u001b[0;34m=\u001b[0m \u001b[0malpaca\u001b[0m\u001b[0;34m.\u001b[0m\u001b[0mget_crypto_bars\u001b[0m\u001b[0;34m(\u001b[0m\u001b[0;34m'BTCUSD'\u001b[0m\u001b[0;34m,\u001b[0m \u001b[0;34m'1Day'\u001b[0m\u001b[0;34m,\u001b[0m \u001b[0;34m\"2020-03-09\"\u001b[0m\u001b[0;34m,\u001b[0m \u001b[0;34m\"2022-05-18\"\u001b[0m\u001b[0;34m)\u001b[0m\u001b[0;34m.\u001b[0m\u001b[0mdf\u001b[0m\u001b[0;34m\u001b[0m\u001b[0;34m\u001b[0m\u001b[0m\n\u001b[0m\u001b[1;32m      2\u001b[0m \u001b[0;34m\u001b[0m\u001b[0m\n\u001b[1;32m      3\u001b[0m \u001b[0meth_bar_data\u001b[0m \u001b[0;34m=\u001b[0m \u001b[0malpaca\u001b[0m\u001b[0;34m.\u001b[0m\u001b[0mget_crypto_bars\u001b[0m\u001b[0;34m(\u001b[0m\u001b[0;34m'ETHUSD'\u001b[0m\u001b[0;34m,\u001b[0m \u001b[0;34m'1Day'\u001b[0m\u001b[0;34m,\u001b[0m \u001b[0;34m\"2020-03-09\"\u001b[0m\u001b[0;34m,\u001b[0m \u001b[0;34m\"2022-05-18\"\u001b[0m\u001b[0;34m)\u001b[0m\u001b[0;34m.\u001b[0m\u001b[0mdf\u001b[0m\u001b[0;34m\u001b[0m\u001b[0;34m\u001b[0m\u001b[0m\n\u001b[1;32m      4\u001b[0m \u001b[0;34m\u001b[0m\u001b[0m\n\u001b[1;32m      5\u001b[0m \u001b[0mavax_bar_data\u001b[0m \u001b[0;34m=\u001b[0m \u001b[0malpaca\u001b[0m\u001b[0;34m.\u001b[0m\u001b[0mget_crypto_bars\u001b[0m\u001b[0;34m(\u001b[0m\u001b[0;34m'AVAXUSD'\u001b[0m\u001b[0;34m,\u001b[0m \u001b[0;34m'1Day'\u001b[0m\u001b[0;34m,\u001b[0m \u001b[0;34m\"2022-03-22\"\u001b[0m\u001b[0;34m,\u001b[0m \u001b[0;34m\"2022-05-18\"\u001b[0m\u001b[0;34m)\u001b[0m\u001b[0;34m.\u001b[0m\u001b[0mdf\u001b[0m\u001b[0;34m\u001b[0m\u001b[0;34m\u001b[0m\u001b[0m\n",
      "\u001b[0;31mNameError\u001b[0m: name 'alpaca' is not defined"
     ]
    }
   ],
   "source": [
    "btc_bar_data = alpaca.get_crypto_bars('BTCUSD', '1Day', \"2020-03-09\", \"2022-05-18\").df\n",
    "\n",
    "eth_bar_data = alpaca.get_crypto_bars('ETHUSD', '1Day', \"2020-03-09\", \"2022-05-18\").df\n",
    "\n",
    "avax_bar_data = alpaca.get_crypto_bars('AVAXUSD', '1Day', \"2022-03-22\", \"2022-05-18\").df\n",
    "\n",
    "aave_bar_data = alpaca.get_crypto_bars('AAVEUSD', '1Day', \"2021-06-21\", \"2022-05-18\").df\n",
    "\n",
    "sol_bar_data = alpaca.get_crypto_bars('SOLUSD', '1Day', \"2020-11-28\", \"2022-05-18\").df\n",
    "\n",
    "btc_closing = btc_bar_data['close']\n",
    "\n",
    "eth_closing = eth_bar_data['close']\n",
    "\n",
    "avax_closing = avax_bar_data['close']\n",
    "\n",
    "aave_closing = aave_bar_data['close']\n",
    "\n",
    "sol_closing = sol_bar_data['close']\n"
   ]
  },
  {
   "cell_type": "code",
   "execution_count": 22,
   "id": "59835051-3f7f-49a1-b5bc-0987047148c2",
   "metadata": {},
   "outputs": [
    {
     "ename": "NameError",
     "evalue": "name 'btc_closing' is not defined",
     "output_type": "error",
     "traceback": [
      "\u001b[0;31m---------------------------------------------------------------------------\u001b[0m",
      "\u001b[0;31mNameError\u001b[0m                                 Traceback (most recent call last)",
      "\u001b[0;32m/var/folders/28/bq100fc94b77cqwg73d976d00000gn/T/ipykernel_30420/637680979.py\u001b[0m in \u001b[0;36m<module>\u001b[0;34m\u001b[0m\n\u001b[0;32m----> 1\u001b[0;31m \u001b[0mbtc_closing\u001b[0m\u001b[0;34m.\u001b[0m\u001b[0mplot\u001b[0m\u001b[0;34m(\u001b[0m\u001b[0mlegend\u001b[0m\u001b[0;34m=\u001b[0m\u001b[0;32mTrue\u001b[0m\u001b[0;34m,\u001b[0m \u001b[0mfigsize\u001b[0m\u001b[0;34m=\u001b[0m\u001b[0;34m(\u001b[0m\u001b[0;36m15\u001b[0m\u001b[0;34m,\u001b[0m \u001b[0;36m7\u001b[0m\u001b[0;34m)\u001b[0m\u001b[0;34m,\u001b[0m \u001b[0mtitle\u001b[0m\u001b[0;34m=\u001b[0m\u001b[0;34m\"BTC v ETH\"\u001b[0m\u001b[0;34m,\u001b[0m \u001b[0mcolor\u001b[0m\u001b[0;34m=\u001b[0m\u001b[0;34m\"blue\"\u001b[0m\u001b[0;34m,\u001b[0m \u001b[0mlabel\u001b[0m\u001b[0;34m=\u001b[0m\u001b[0;34m\"BTC\"\u001b[0m\u001b[0;34m)\u001b[0m\u001b[0;34m\u001b[0m\u001b[0;34m\u001b[0m\u001b[0m\n\u001b[0m\u001b[1;32m      2\u001b[0m \u001b[0meth_closing\u001b[0m\u001b[0;34m.\u001b[0m\u001b[0mplot\u001b[0m\u001b[0;34m(\u001b[0m\u001b[0mlegend\u001b[0m\u001b[0;34m=\u001b[0m\u001b[0;32mTrue\u001b[0m\u001b[0;34m,\u001b[0m \u001b[0mfigsize\u001b[0m\u001b[0;34m=\u001b[0m\u001b[0;34m(\u001b[0m\u001b[0;36m15\u001b[0m\u001b[0;34m,\u001b[0m \u001b[0;36m7\u001b[0m\u001b[0;34m)\u001b[0m\u001b[0;34m,\u001b[0m \u001b[0mcolor\u001b[0m\u001b[0;34m=\u001b[0m\u001b[0;34m\"orange\"\u001b[0m\u001b[0;34m,\u001b[0m \u001b[0mlabel\u001b[0m\u001b[0;34m=\u001b[0m\u001b[0;34m\"ETH\"\u001b[0m\u001b[0;34m)\u001b[0m\u001b[0;34m\u001b[0m\u001b[0;34m\u001b[0m\u001b[0m\n",
      "\u001b[0;31mNameError\u001b[0m: name 'btc_closing' is not defined"
     ]
    }
   ],
   "source": [
    "btc_closing.plot(legend=True, figsize=(15, 7), title=\"BTC v ETH\", color=\"blue\", label=\"BTC\")\n",
    "eth_closing.plot(legend=True, figsize=(15, 7), color=\"orange\", label=\"ETH\")"
   ]
  },
  {
   "cell_type": "code",
   "execution_count": 23,
   "id": "ad561117-0a63-4646-b44e-8294fb85f3a8",
   "metadata": {},
   "outputs": [
    {
     "ename": "NameError",
     "evalue": "name 'avax_closing' is not defined",
     "output_type": "error",
     "traceback": [
      "\u001b[0;31m---------------------------------------------------------------------------\u001b[0m",
      "\u001b[0;31mNameError\u001b[0m                                 Traceback (most recent call last)",
      "\u001b[0;32m/var/folders/28/bq100fc94b77cqwg73d976d00000gn/T/ipykernel_30420/4162857855.py\u001b[0m in \u001b[0;36m<module>\u001b[0;34m\u001b[0m\n\u001b[0;32m----> 1\u001b[0;31m \u001b[0mavax_closing\u001b[0m\u001b[0;34m.\u001b[0m\u001b[0mplot\u001b[0m\u001b[0;34m(\u001b[0m\u001b[0mlegend\u001b[0m\u001b[0;34m=\u001b[0m\u001b[0;32mTrue\u001b[0m\u001b[0;34m,\u001b[0m \u001b[0mfigsize\u001b[0m\u001b[0;34m=\u001b[0m\u001b[0;34m(\u001b[0m\u001b[0;36m15\u001b[0m\u001b[0;34m,\u001b[0m \u001b[0;36m7\u001b[0m\u001b[0;34m)\u001b[0m\u001b[0;34m,\u001b[0m \u001b[0mtitle\u001b[0m\u001b[0;34m=\u001b[0m\u001b[0;34m\"AVAX v AAVE v SOL\"\u001b[0m\u001b[0;34m,\u001b[0m \u001b[0mcolor\u001b[0m\u001b[0;34m=\u001b[0m\u001b[0;34m\"red\"\u001b[0m\u001b[0;34m,\u001b[0m \u001b[0mlabel\u001b[0m\u001b[0;34m=\u001b[0m\u001b[0;34m\"AVAX\"\u001b[0m\u001b[0;34m)\u001b[0m\u001b[0;34m\u001b[0m\u001b[0;34m\u001b[0m\u001b[0m\n\u001b[0m\u001b[1;32m      2\u001b[0m \u001b[0maave_closing\u001b[0m\u001b[0;34m.\u001b[0m\u001b[0mplot\u001b[0m\u001b[0;34m(\u001b[0m\u001b[0mlegend\u001b[0m\u001b[0;34m=\u001b[0m\u001b[0;32mTrue\u001b[0m\u001b[0;34m,\u001b[0m \u001b[0mfigsize\u001b[0m\u001b[0;34m=\u001b[0m\u001b[0;34m(\u001b[0m\u001b[0;36m15\u001b[0m\u001b[0;34m,\u001b[0m \u001b[0;36m7\u001b[0m\u001b[0;34m)\u001b[0m\u001b[0;34m,\u001b[0m \u001b[0mcolor\u001b[0m\u001b[0;34m=\u001b[0m\u001b[0;34m\"purple\"\u001b[0m\u001b[0;34m,\u001b[0m \u001b[0mlabel\u001b[0m\u001b[0;34m=\u001b[0m\u001b[0;34m\"AAVE\"\u001b[0m\u001b[0;34m)\u001b[0m\u001b[0;34m\u001b[0m\u001b[0;34m\u001b[0m\u001b[0m\n\u001b[1;32m      3\u001b[0m \u001b[0msol_closing\u001b[0m\u001b[0;34m.\u001b[0m\u001b[0mplot\u001b[0m\u001b[0;34m(\u001b[0m\u001b[0mlegend\u001b[0m\u001b[0;34m=\u001b[0m\u001b[0;32mTrue\u001b[0m\u001b[0;34m,\u001b[0m \u001b[0mfigsize\u001b[0m\u001b[0;34m=\u001b[0m\u001b[0;34m(\u001b[0m\u001b[0;36m15\u001b[0m\u001b[0;34m,\u001b[0m \u001b[0;36m7\u001b[0m\u001b[0;34m)\u001b[0m\u001b[0;34m,\u001b[0m \u001b[0mcolor\u001b[0m\u001b[0;34m=\u001b[0m\u001b[0;34m\"green\"\u001b[0m\u001b[0;34m,\u001b[0m \u001b[0mlabel\u001b[0m\u001b[0;34m=\u001b[0m\u001b[0;34m\"SOL\"\u001b[0m\u001b[0;34m)\u001b[0m\u001b[0;34m\u001b[0m\u001b[0;34m\u001b[0m\u001b[0m\n",
      "\u001b[0;31mNameError\u001b[0m: name 'avax_closing' is not defined"
     ]
    }
   ],
   "source": [
    "avax_closing.plot(legend=True, figsize=(15, 7), title=\"AVAX v AAVE v SOL\", color=\"red\", label=\"AVAX\")\n",
    "aave_closing.plot(legend=True, figsize=(15, 7), color=\"purple\", label=\"AAVE\")\n",
    "sol_closing.plot(legend=True, figsize=(15, 7), color=\"green\", label=\"SOL\")"
   ]
  },
  {
   "cell_type": "code",
   "execution_count": null,
   "id": "450aa514-92e6-4608-83d3-365923358b11",
   "metadata": {},
   "outputs": [],
   "source": []
  }
 ],
 "metadata": {
  "kernelspec": {
   "display_name": "Python 3 (ipykernel)",
   "language": "python",
   "name": "python3"
  },
  "language_info": {
   "codemirror_mode": {
    "name": "ipython",
    "version": 3
   },
   "file_extension": ".py",
   "mimetype": "text/x-python",
   "name": "python",
   "nbconvert_exporter": "python",
   "pygments_lexer": "ipython3",
   "version": "3.7.11"
  }
 },
 "nbformat": 4,
 "nbformat_minor": 5
}
