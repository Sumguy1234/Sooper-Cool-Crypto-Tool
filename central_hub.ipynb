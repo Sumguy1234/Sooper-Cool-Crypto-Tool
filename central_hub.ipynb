{
 "cells": [
  {
   "cell_type": "code",
   "execution_count": 1,
   "id": "f71bd928",
   "metadata": {},
   "outputs": [],
   "source": [
    "# This is the main node of the crypto tool. Uses functions from the other application specific moudles to aggregate\n",
    "# data and information for cryptocurrency and blockchain analyses.\n",
    "\n",
    "#Blueprints\n",
    "#Necessary imports for interaction with other modules and potentially soliciting user inputs\n",
    "#Section for gas function demonstrations and analyses\n",
    "#Section for Ethereum in depth analysis and montecarlo projections data displays\n",
    "#Section for Charting tool, solicit user input for variables that are used to generate a chart\n",
    "#Section for arbitrage tracking tool, display arbitrage analysis and lay foundation for real time tracking"
   ]
  },
  {
   "cell_type": "code",
   "execution_count": null,
   "id": "92cf532e",
   "metadata": {},
   "outputs": [],
   "source": []
  }
 ],
 "metadata": {
  "kernelspec": {
   "display_name": "Python 3 (ipykernel)",
   "language": "python",
   "name": "python3"
  },
  "language_info": {
   "codemirror_mode": {
    "name": "ipython",
    "version": 3
   },
   "file_extension": ".py",
   "mimetype": "text/x-python",
   "name": "python",
   "nbconvert_exporter": "python",
   "pygments_lexer": "ipython3",
   "version": "3.7.13"
  }
 },
 "nbformat": 4,
 "nbformat_minor": 5
}
