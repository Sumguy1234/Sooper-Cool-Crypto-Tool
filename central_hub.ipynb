{
 "cells": [
  {
   "cell_type": "code",
   "execution_count": 1,
   "id": "f71bd928",
   "metadata": {},
   "outputs": [],
   "source": [
    "# This is the main node of the crypto tool. Uses functions from the other application specific moudles to aggregate\n",
    "# data and information for cryptocurrency and blockchain analyses.\n",
    "\n",
    "#Blueprints\n",
    "#Necessary imports for interaction with other modules and potentially soliciting user inputs\n",
    "#Section for gas function demonstrations and analyses\n",
    "#Section for Ethereum in depth analysis and montecarlo projections data displays\n",
    "#Section for Charting tool, solicit user input for variables that are used to generate a chart\n",
    "#Section for arbitrage tracking tool, display arbitrage analysis and lay foundation for real time tracking"
   ]
  },
  {
   "cell_type": "code",
   "execution_count": 2,
   "id": "92cf532e",
   "metadata": {},
   "outputs": [],
   "source": [
    "# Imports here. .py modules and libraries\n",
    "import ipywidgets as widgets\n",
    "from dotenv import load_dotenv\n",
    "# from utils.pyfile import function_names comma seperated"
   ]
  },
  {
   "cell_type": "code",
   "execution_count": 3,
   "id": "9b7c9f08",
   "metadata": {},
   "outputs": [],
   "source": [
    "# Import API keys .env file load_dotenv"
   ]
  },
  {
   "cell_type": "code",
   "execution_count": 4,
   "id": "9083e810",
   "metadata": {},
   "outputs": [
    {
     "data": {
      "application/vnd.jupyter.widget-view+json": {
       "model_id": "c86ac350adf344c6ac3cb1ee51a84f67",
       "version_major": 2,
       "version_minor": 0
      },
      "text/plain": [
       "Dropdown(description='Chain', options=('AVAX', 'BSC', 'ETH', 'BTC'), value='AVAX')"
      ]
     },
     "metadata": {},
     "output_type": "display_data"
    },
    {
     "data": {
      "application/vnd.jupyter.widget-view+json": {
       "model_id": "f255d1baff304c1b80b9abbd20bbb785",
       "version_major": 2,
       "version_minor": 0
      },
      "text/plain": [
       "Dropdown(description='Chain', options=('AVAX', 'BSC', 'ETH', 'All'), value='AVAX')"
      ]
     },
     "metadata": {},
     "output_type": "display_data"
    }
   ],
   "source": [
    "# Gas tracker, updates on run with real time information\n",
    "# Selector to select which gas the user would like to see\n",
    "# Selector for chart tool to select which coins gas to display\n",
    "\n",
    "\n",
    "chain_selector = widgets.Dropdown(\n",
    "    options=['AVAX','BSC','ETH', 'BTC'],\n",
    "    value='AVAX',\n",
    "    description='Chain',\n",
    "    disabled=False)\n",
    "chain_selector_two = widgets.Dropdown(\n",
    "    options=['AVAX','BSC','ETH','All'],\n",
    "    value='AVAX',\n",
    "    description='Chain',\n",
    "    disabled=False)\n",
    "display(chain_selector)\n",
    "display(chain_selector_two)"
   ]
  },
  {
   "cell_type": "code",
   "execution_count": 5,
   "id": "60d04d5d",
   "metadata": {},
   "outputs": [],
   "source": [
    "#current_gas_function(chain_selector)\n",
    "\n",
    "# if chain_selector.value == 'All':\n",
    "    \n",
    "#     eth_gas_url = 'https://owlracle.info/eth/gas' functionalize\n",
    "#     avax_gas_url = 'https://owlracle.info/avax/gas' functionalize\n",
    "#     bsc_gas_url = 'https://owlracle.info/bnb/gas' functionalize\n",
    "    \n",
    "#     eth_gas_response function\n",
    "#     avax_gas_response function\n",
    "#     bsc_gas_response function\n",
    "    \n",
    "#     eth_gas_gwei_import = eth_gas_gwei function\n",
    "#     avax_gas_gwei_import = avax_gas_gwei function\n",
    "#     bsc_gas_gwei_import = bsc_gas_gwei function\n",
    "    \n",
    "#     eth_gwei_to_eth = eth_gas_gwei_import / 1000000000\n",
    "#     avax_gwei_to_avax = avax_gas_gwei_import * .00000006\n",
    "#     bsc_gwei_to_bnb = bsc_gas_gwei_import * .00000001\n",
    "    \n",
    "#     # change these prints to be functions imported from gas module\n",
    "#     print(f'The current price of ETH gas is {eth_gas_gwei_import:.2f} gwei or {eth_gwei_to_eth:.8f} ETH. The current price of AVAX gas is {avax_gas_gwei_import:.2f} or {avax_gwei_to_avax:.8f} AVAX. The current price of BSC gas is {bsc_gas_gwei_import:.2f} or {bsc_gwei_to_bnb:.8f} BNB.')\n",
    "    \n",
    "# elif chain_selector.value == 'AVAX':\n",
    "    \n",
    "# elif chain_selector.value == 'BSC':\n",
    "    \n",
    "# elif chain_selector.value == 'ETH':\n",
    "    \n",
    "# else:\n",
    "#     print('Error, no chain selected')\n",
    "    \n",
    "# Clickable button to run master function to execute"
   ]
  },
  {
   "cell_type": "code",
   "execution_count": 6,
   "id": "4fd5222b",
   "metadata": {},
   "outputs": [],
   "source": [
    "# Historic gas price charting\n",
    "\n",
    "# Create URL/function to call URL and generate response variable\n",
    "# DataFrame creation from response, maybe function in source file to clean data and create usable df then display chart\n",
    "# if 'all' selected, display all 3 on an overlay chart together, combined_gas_overview_df"
   ]
  },
  {
   "cell_type": "code",
   "execution_count": 7,
   "id": "3d5c29a7",
   "metadata": {},
   "outputs": [],
   "source": [
    "# Section for in depth ETH analysis, future versions may include analytics on bsc and AVAX"
   ]
  },
  {
   "cell_type": "code",
   "execution_count": 8,
   "id": "0541170b",
   "metadata": {},
   "outputs": [],
   "source": [
    "# Charting tool. Prompts/options for start/end dates user wants to view, coin in question"
   ]
  },
  {
   "cell_type": "code",
   "execution_count": null,
   "id": "bd8d7974",
   "metadata": {},
   "outputs": [],
   "source": []
  },
  {
   "cell_type": "code",
   "execution_count": null,
   "id": "c099484d",
   "metadata": {},
   "outputs": [],
   "source": []
  },
  {
   "cell_type": "code",
   "execution_count": null,
   "id": "05a82f5b",
   "metadata": {},
   "outputs": [],
   "source": []
  },
  {
   "cell_type": "code",
   "execution_count": null,
   "id": "899ccbbd",
   "metadata": {},
   "outputs": [],
   "source": []
  },
  {
   "cell_type": "code",
   "execution_count": null,
   "id": "fbc25407",
   "metadata": {},
   "outputs": [],
   "source": []
  },
  {
   "cell_type": "code",
   "execution_count": null,
   "id": "774471d8",
   "metadata": {},
   "outputs": [],
   "source": []
  },
  {
   "cell_type": "code",
   "execution_count": null,
   "id": "cd3aa7a4",
   "metadata": {},
   "outputs": [],
   "source": []
  },
  {
   "cell_type": "code",
   "execution_count": 9,
   "id": "a07cf215",
   "metadata": {},
   "outputs": [],
   "source": [
    "# Arbitrage analytics tool. Starting with BTC. Display findings, foundation for real time arbitrage tracking app\n",
    "#import .py file"
   ]
  },
  {
   "cell_type": "code",
   "execution_count": 16,
   "id": "23635ceb",
   "metadata": {},
   "outputs": [
    {
     "name": "stdout",
     "output_type": "stream",
     "text": [
      "Arbitrage Tool Inputs\n"
     ]
    },
    {
     "data": {
      "text/plain": [
       "None"
      ]
     },
     "metadata": {},
     "output_type": "display_data"
    },
    {
     "data": {
      "application/vnd.jupyter.widget-view+json": {
       "model_id": "f754b31f01ba4f87b5948d3a2251a83a",
       "version_major": 2,
       "version_minor": 0
      },
      "text/plain": [
       "Dropdown(description='Exchange', index=2, options=('bitstamp', 'coinbase', ''), value='')"
      ]
     },
     "metadata": {},
     "output_type": "display_data"
    },
    {
     "data": {
      "application/vnd.jupyter.widget-view+json": {
       "model_id": "5fcd19f6acc8429a9845eb36940dcb71",
       "version_major": 2,
       "version_minor": 0
      },
      "text/plain": [
       "DatePicker(value=None, description='Start Date')"
      ]
     },
     "metadata": {},
     "output_type": "display_data"
    },
    {
     "data": {
      "application/vnd.jupyter.widget-view+json": {
       "model_id": "ec099c8ae47446dab9234ef1985b9446",
       "version_major": 2,
       "version_minor": 0
      },
      "text/plain": [
       "DatePicker(value=None, description='End Date')"
      ]
     },
     "metadata": {},
     "output_type": "display_data"
    }
   ],
   "source": [
    "# Variable Inputs\n",
    "btc_arbitrage_exchange_selector = widgets.Dropdown(\n",
    "    options=['bitstamp','coinbase',''],\n",
    "    value='',\n",
    "    description='Exchange',\n",
    "    disabled=False)\n",
    "\n",
    "arbitrage_start_date = widgets.DatePicker(\n",
    "    description='Start Date',\n",
    "    disabled=False\n",
    ")\n",
    "\n",
    "arbitrage_end_date = widgets.DatePicker(\n",
    "    description='End Date',\n",
    "    disabled=False\n",
    ")\n",
    "\n",
    "display(print('Arbitrage Tool Inputs'))\n",
    "display(btc_arbitrage_exchange_selector)\n",
    "display(arbitrage_start_date)\n",
    "display(arbitrage_end_date)\n",
    "\n",
    "def get_btc_onexchng_hourly(exchange,start, end):\n",
    "    print('it works')"
   ]
  },
  {
   "cell_type": "code",
   "execution_count": 35,
   "id": "5157277c",
   "metadata": {},
   "outputs": [
    {
     "data": {
      "application/vnd.jupyter.widget-view+json": {
       "model_id": "10d4a726ca8e414cb287c97dbf365082",
       "version_major": 2,
       "version_minor": 0
      },
      "text/plain": [
       "VBox(children=(Button(description='Click me', icon='check', style=ButtonStyle(), tooltip='Click me'), Output()…"
      ]
     },
     "metadata": {},
     "output_type": "display_data"
    }
   ],
   "source": [
    "button_arbitrage = widgets.Button(\n",
    "    description='Click me',\n",
    "    disabled=False,\n",
    "    button_style='', # 'success', 'info', 'warning', 'danger' or ''\n",
    "    tooltip='Click me',\n",
    "    icon='check' # (FontAwesome names without the `fa-` prefix)\n",
    ")\n",
    "output=widgets.Output()\n",
    "\n",
    "def on_button_clicked(_):\n",
    "    with output:\n",
    "            \n",
    "            get_btc_onexchng_hourly(btc_arbitrage_exchange_selector,arbitrage_start_date,arbitrage_end_date)\n",
    "# button.on_click(get_btc_onexchng_hourly(btc_arbitrage_exchange_selector,arbitrage_start_date,arbitrage_end_date))\n",
    "button_arbitrage.on_click(on_button_clicked)\n",
    "widgets.VBox([button,output])"
   ]
  },
  {
   "cell_type": "code",
   "execution_count": 41,
   "id": "c3b4c28b",
   "metadata": {},
   "outputs": [
    {
     "name": "stdout",
     "output_type": "stream",
     "text": [
      "Bitcoin Hourly Data Checker\n"
     ]
    },
    {
     "data": {
      "application/vnd.jupyter.widget-view+json": {
       "model_id": "b9e1007e05b44ddd8046d2a7d32d5e61",
       "version_major": 2,
       "version_minor": 0
      },
      "text/plain": [
       "DatePicker(value=None, description='Start Date')"
      ]
     },
     "metadata": {},
     "output_type": "display_data"
    },
    {
     "data": {
      "application/vnd.jupyter.widget-view+json": {
       "model_id": "f0ce9191927a438c82e971e5d394fd1f",
       "version_major": 2,
       "version_minor": 0
      },
      "text/plain": [
       "DatePicker(value=None, description='End Date')"
      ]
     },
     "metadata": {},
     "output_type": "display_data"
    },
    {
     "data": {
      "application/vnd.jupyter.widget-view+json": {
       "model_id": "b357349b45f14e7ba5dda254579f9b2c",
       "version_major": 2,
       "version_minor": 0
      },
      "text/plain": [
       "Button(description='Click me', icon='check', style=ButtonStyle(), tooltip='Click me')"
      ]
     },
     "metadata": {},
     "output_type": "display_data"
    },
    {
     "data": {
      "application/vnd.jupyter.widget-view+json": {
       "model_id": "85abfa5d81a1475789af5e6c86111a88",
       "version_major": 2,
       "version_minor": 0
      },
      "text/plain": [
       "Output()"
      ]
     },
     "metadata": {},
     "output_type": "display_data"
    }
   ],
   "source": [
    "#Hourly Data Checker\n",
    "\n",
    "button_hourly_data = widgets.Button(\n",
    "    description='Click me',\n",
    "    disabled=False,\n",
    "    button_style='', # 'success', 'info', 'warning', 'danger' or ''\n",
    "    tooltip='Click me',\n",
    "    icon='check' # (FontAwesome names without the `fa-` prefix)\n",
    ")\n",
    "output_hourly_data=widgets.Output()\n",
    "\n",
    "def on_button_clicked_hourly_data(_):\n",
    "    with output_hourly_data:\n",
    "        #Function Call Here\n",
    "        print('nice')\n",
    "\n",
    "    \n",
    "print('Bitcoin Hourly Data Checker')\n",
    "hourly_start_date = widgets.DatePicker(\n",
    "    description='Start Date',\n",
    "    disabled=False\n",
    ")\n",
    "\n",
    "hourly_end_date = widgets.DatePicker(\n",
    "    description='End Date',\n",
    "    disabled=False\n",
    ")\n",
    "\n",
    "display(hourly_start_date)\n",
    "display(hourly_end_date)\n",
    "\n",
    "button_hourly_data.on_click(on_button_clicked_hourly_data)\n",
    "\n",
    "display(button_hourly_data,output_hourly_data)"
   ]
  },
  {
   "cell_type": "code",
   "execution_count": 43,
   "id": "3e522859",
   "metadata": {},
   "outputs": [
    {
     "name": "stdout",
     "output_type": "stream",
     "text": [
      "Choose a coin to pull hourly data on\n"
     ]
    },
    {
     "data": {
      "application/vnd.jupyter.widget-view+json": {
       "model_id": "410d0ada31a741f3ad31d02d6159fb71",
       "version_major": 2,
       "version_minor": 0
      },
      "text/plain": [
       "DatePicker(value=None, description='Start Date')"
      ]
     },
     "metadata": {},
     "output_type": "display_data"
    },
    {
     "data": {
      "application/vnd.jupyter.widget-view+json": {
       "model_id": "56cac21621cf453585ef26de6f3ffe74",
       "version_major": 2,
       "version_minor": 0
      },
      "text/plain": [
       "DatePicker(value=None, description='End Date')"
      ]
     },
     "metadata": {},
     "output_type": "display_data"
    },
    {
     "data": {
      "application/vnd.jupyter.widget-view+json": {
       "model_id": "93a48b834ada479ba1a9cb4e48323072",
       "version_major": 2,
       "version_minor": 0
      },
      "text/plain": [
       "Button(description='Run', icon='check', style=ButtonStyle(), tooltip='Run the data')"
      ]
     },
     "metadata": {},
     "output_type": "display_data"
    },
    {
     "data": {
      "application/vnd.jupyter.widget-view+json": {
       "model_id": "c97732c51c62454fa6756df3884bface",
       "version_major": 2,
       "version_minor": 0
      },
      "text/plain": [
       "Output()"
      ]
     },
     "metadata": {},
     "output_type": "display_data"
    }
   ],
   "source": [
    "# Select a coin for hourly data\n",
    "\n",
    "button_dynamic_hourly_data = widgets.Button(\n",
    "    description='Run',\n",
    "    disabled=False,\n",
    "    button_style='',\n",
    "    tooltip='Run the data',\n",
    "    icon='check'\n",
    ")\n",
    "output_dynamic_hourly_data=widgets.Output()\n",
    "\n",
    "def on_button_clicked_dynamic_data(_):\n",
    "    with output_dynamic_hourly_data:\n",
    "        print('dope')\n",
    "\n",
    "print('Choose a coin to pull hourly data on')\n",
    "dynamic_start_date=widgets.DatePicker(\n",
    "    description='Start Date',\n",
    "    disabled=False\n",
    ")\n",
    "\n",
    "dynamic_end_date=widgets.DatePicker(\n",
    "    description='End Date',\n",
    "    disabled=False\n",
    ")\n",
    "\n",
    "display(dynamic_start_date)\n",
    "display(dynamic_end_date)\n",
    "button_dynamic_hourly_data.on_click(on_button_clicked_dynamic_data)\n",
    "display(button_dynamic_hourly_data,output_dynamic_hourly_data)"
   ]
  },
  {
   "cell_type": "code",
   "execution_count": null,
   "id": "0623398b",
   "metadata": {},
   "outputs": [],
   "source": []
  }
 ],
 "metadata": {
  "kernelspec": {
   "display_name": "Python 3 (ipykernel)",
   "language": "python",
   "name": "python3"
  },
  "language_info": {
   "codemirror_mode": {
    "name": "ipython",
    "version": 3
   },
   "file_extension": ".py",
   "mimetype": "text/x-python",
   "name": "python",
   "nbconvert_exporter": "python",
   "pygments_lexer": "ipython3",
   "version": "3.7.11"
  }
 },
 "nbformat": 4,
 "nbformat_minor": 5
}
