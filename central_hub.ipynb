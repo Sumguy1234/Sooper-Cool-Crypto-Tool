{
 "cells": [
  {
   "cell_type": "code",
   "execution_count": 1,
   "id": "f71bd928",
   "metadata": {},
   "outputs": [],
   "source": [
    "# This is the main node of the crypto tool. Uses functions from the other application specific moudles to aggregate\n",
    "# data and information for cryptocurrency and blockchain analyses.\n",
    "\n",
    "#Blueprints\n",
    "#Necessary imports for interaction with other modules and potentially soliciting user inputs\n",
    "#Section for gas function demonstrations and analyses\n",
    "#Section for Ethereum in depth analysis and montecarlo projections data displays\n",
    "#Section for Charting tool, solicit user input for variables that are used to generate a chart\n",
    "#Section for arbitrage tracking tool, display arbitrage analysis and lay foundation for real time tracking"
   ]
  },
  {
   "cell_type": "code",
   "execution_count": 21,
   "id": "92cf532e",
   "metadata": {},
   "outputs": [],
   "source": [
    "# Imports here. .py modules and libraries\n",
    "import ipywidgets as widgets\n",
    "from dotenv import load_dotenv\n",
    "# from utils.pyfile import function_names comma seperated"
   ]
  },
  {
   "cell_type": "code",
   "execution_count": null,
   "id": "9b7c9f08",
   "metadata": {},
   "outputs": [],
   "source": [
    "# Import API keys .env file load_dotenv"
   ]
  },
  {
   "cell_type": "code",
   "execution_count": 32,
   "id": "9083e810",
   "metadata": {},
   "outputs": [
    {
     "data": {
      "application/vnd.jupyter.widget-view+json": {
       "model_id": "3a899ecbcdfb4a7cb885d1a8a9bb5a81",
       "version_major": 2,
       "version_minor": 0
      },
      "text/plain": [
       "Dropdown(description='Chain', options=('AVAX', 'BSC', 'ETH', 'All'), value='AVAX')"
      ]
     },
     "metadata": {},
     "output_type": "display_data"
    },
    {
     "data": {
      "application/vnd.jupyter.widget-view+json": {
       "model_id": "792fcf58a58c4cba95faef4ec0b381eb",
       "version_major": 2,
       "version_minor": 0
      },
      "text/plain": [
       "Dropdown(description='Chain', options=('AVAX', 'BSC', 'ETH', 'All'), value='AVAX')"
      ]
     },
     "metadata": {},
     "output_type": "display_data"
    }
   ],
   "source": [
    "# Gas tracker, updates on run with real time information\n",
    "# Selector to select which gas the user would like to see\n",
    "# Selector for chart tool to select which coins gas to display\n",
    "\n",
    "\n",
    "chain_selector = widgets.Dropdown(\n",
    "    options=['AVAX','BSC','ETH','All'],\n",
    "    value='AVAX',\n",
    "    description='Chain',\n",
    "    disabled=False)\n",
    "chain_selector_two = widgets.Dropdown(\n",
    "    options=['AVAX','BSC','ETH','All'],\n",
    "    value='AVAX',\n",
    "    description='Chain',\n",
    "    disabled=False)\n",
    "display(chain_selector)\n",
    "display(chain_selector_two)"
   ]
  },
  {
   "cell_type": "code",
   "execution_count": 33,
   "id": "60d04d5d",
   "metadata": {},
   "outputs": [],
   "source": [
    "#current_gas_function(chain_selector)\n",
    "\n",
    "# if chain_selector.value == 'All':\n",
    "    \n",
    "#     eth_gas_url = 'https://owlracle.info/eth/gas' functionalize\n",
    "#     avax_gas_url = 'https://owlracle.info/avax/gas' functionalize\n",
    "#     bsc_gas_url = 'https://owlracle.info/bnb/gas' functionalize\n",
    "    \n",
    "#     eth_gas_response function\n",
    "#     avax_gas_response function\n",
    "#     bsc_gas_response function\n",
    "    \n",
    "#     eth_gas_gwei_import = eth_gas_gwei function\n",
    "#     avax_gas_gwei_import = avax_gas_gwei function\n",
    "#     bsc_gas_gwei_import = bsc_gas_gwei function\n",
    "    \n",
    "#     eth_gwei_to_eth = eth_gas_gwei_import / 1000000000\n",
    "#     avax_gwei_to_avax = avax_gas_gwei_import * .00000006\n",
    "#     bsc_gwei_to_bnb = bsc_gas_gwei_import * .00000001\n",
    "    \n",
    "#     # change these prints to be functions imported from gas module\n",
    "#     print(f'The current price of ETH gas is {eth_gas_gwei_import:.2f} gwei or {eth_gwei_to_eth:.8f} ETH. The current price of AVAX gas is {avax_gas_gwei_import:.2f} or {avax_gwei_to_avax:.8f} AVAX. The current price of BSC gas is {bsc_gas_gwei_import:.2f} or {bsc_gwei_to_bnb:.8f} BNB.')\n",
    "    \n",
    "# elif chain_selector.value == 'AVAX':\n",
    "    \n",
    "# elif chain_selector.value == 'BSC':\n",
    "    \n",
    "# elif chain_selector.value == 'ETH':\n",
    "    \n",
    "# else:\n",
    "#     print('Error, no chain selected')\n",
    "    \n",
    "# Clickable button to run master function to execute"
   ]
  },
  {
   "cell_type": "code",
   "execution_count": 24,
   "id": "4fd5222b",
   "metadata": {},
   "outputs": [],
   "source": [
    "# Historic gas price charting\n",
    "\n",
    "# Create URL/function to call URL and generate response variable\n",
    "# DataFrame creation from response, maybe function in source file to clean data and create usable df then display chart\n",
    "# if 'all' selected, display all 3 on an overlay chart together, combined_gas_overview_df"
   ]
  },
  {
   "cell_type": "code",
   "execution_count": 23,
   "id": "3d5c29a7",
   "metadata": {},
   "outputs": [],
   "source": [
    "# Section for in depth ETH analysis, future versions may include analytics on bsc and AVAX"
   ]
  },
  {
   "cell_type": "code",
   "execution_count": 25,
   "id": "0541170b",
   "metadata": {},
   "outputs": [],
   "source": [
    "# Charting tool. Prompts/options for start/end dates user wants to view, coin in question"
   ]
  },
  {
   "cell_type": "code",
   "execution_count": 26,
   "id": "a07cf215",
   "metadata": {},
   "outputs": [],
   "source": [
    "# Arbitrage analytics tool. Starting with BTC. Display findings, foundation for real time arbitrage tracking app"
   ]
  },
  {
   "cell_type": "code",
   "execution_count": null,
   "id": "23635ceb",
   "metadata": {},
   "outputs": [],
   "source": []
  },
  {
   "cell_type": "code",
   "execution_count": null,
   "id": "5157277c",
   "metadata": {},
   "outputs": [],
   "source": []
  }
 ],
 "metadata": {
  "kernelspec": {
   "display_name": "Python 3 (ipykernel)",
   "language": "python",
   "name": "python3"
  },
  "language_info": {
   "codemirror_mode": {
    "name": "ipython",
    "version": 3
   },
   "file_extension": ".py",
   "mimetype": "text/x-python",
   "name": "python",
   "nbconvert_exporter": "python",
   "pygments_lexer": "ipython3",
   "version": "3.7.13"
  }
 },
 "nbformat": 4,
 "nbformat_minor": 5
}
