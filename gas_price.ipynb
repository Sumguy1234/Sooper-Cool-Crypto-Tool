{
 "cells": [
  {
   "cell_type": "code",
   "execution_count": 36,
   "id": "4cfe94c9-9244-4931-a6aa-44be4ffbb31f",
   "metadata": {},
   "outputs": [],
   "source": [
    "import pandas as pd\n",
    "import hvplot.pandas\n",
    "from pathlib import Path\n",
    "import os\n",
    "import json\n",
    "import requests\n",
    "from dotenv import load_dotenv\n",
    "import matplotlib.pyplot as plt\n",
    "from bokeh.models.formatters import DatetimeTickFormatter"
   ]
  },
  {
   "cell_type": "code",
   "execution_count": 37,
   "id": "a2e2edb8-3b73-440a-8e4f-ec42160661c8",
   "metadata": {},
   "outputs": [
    {
     "data": {
      "text/plain": [
       "True"
      ]
     },
     "execution_count": 37,
     "metadata": {},
     "output_type": "execute_result"
    }
   ],
   "source": [
    "load_dotenv()"
   ]
  },
  {
   "cell_type": "code",
   "execution_count": 38,
   "id": "ed30ebdf-a7cb-4b82-806e-84f607f374f1",
   "metadata": {},
   "outputs": [],
   "source": [
    "api_key = os.getenv(\"API_KEY\")"
   ]
  },
  {
   "cell_type": "code",
   "execution_count": 39,
   "id": "c5e48835-231a-412b-a1fe-cd784f03994f",
   "metadata": {},
   "outputs": [],
   "source": [
    "def get_current_gas(coin):\n",
    "    url = f\"https://owlracle.info/{str(coin).lower()}/gas\"\n",
    "    response = requests.get(url).json()\n",
    "    gas_gwei = response['speeds'][1]['gasPrice']\n",
    "    gas_eth = gas_gwei/1000000000\n",
    "    gas_avax = gas_gwei*.00000006\n",
    "    gas_bsc = gas_gwei*.00000001\n",
    "    gas_poly = gas_gwei*.00000354\n",
    "    if coin == 'eth':\n",
    "        print(f\"The current standard ETH gas price is {gas_gwei:.2f} gwei or {gas_eth:.8f} ETH\")\n",
    "    elif coin == 'avax':\n",
    "        print(f\"The current standard AVAX gas price is {gas_gwei:.2f} gwei or {gas_avax:.8f} AVAX\")\n",
    "    elif coin == 'bsc':\n",
    "        print(f\"The current standard BNB gas price is {gas_gwei:.2f} gwei or {gas_bsc:.8f} BNB\")\n",
    "    elif coin == 'poly':\n",
    "        print(f\"The current standard POLY gas price is {gas_gwei:.2f} gwei or {gas_poly:.8f} MATIC\")\n",
    "              \n",
    "    \n",
    "    return"
   ]
  },
  {
   "cell_type": "code",
   "execution_count": 56,
   "id": "61934898-f380-4ceb-9d19-a7dc2febcb7c",
   "metadata": {},
   "outputs": [
    {
     "ename": "KeyError",
     "evalue": "'speeds'",
     "output_type": "error",
     "traceback": [
      "\u001b[0;31m---------------------------------------------------------------------------\u001b[0m",
      "\u001b[0;31mKeyError\u001b[0m                                  Traceback (most recent call last)",
      "\u001b[0;32m/var/folders/8f/kqt88s7968z8lc9x2fkjx10w0000gn/T/ipykernel_39948/2258587884.py\u001b[0m in \u001b[0;36m<module>\u001b[0;34m\u001b[0m\n\u001b[0;32m----> 1\u001b[0;31m \u001b[0mget_current_gas\u001b[0m\u001b[0;34m(\u001b[0m\u001b[0;34m'eth'\u001b[0m\u001b[0;34m)\u001b[0m\u001b[0;34m\u001b[0m\u001b[0;34m\u001b[0m\u001b[0m\n\u001b[0m",
      "\u001b[0;32m/var/folders/8f/kqt88s7968z8lc9x2fkjx10w0000gn/T/ipykernel_39948/4185723064.py\u001b[0m in \u001b[0;36mget_current_gas\u001b[0;34m(coin)\u001b[0m\n\u001b[1;32m      2\u001b[0m     \u001b[0murl\u001b[0m \u001b[0;34m=\u001b[0m \u001b[0;34mf\"https://owlracle.info/{str(coin).lower()}/gas\"\u001b[0m\u001b[0;34m\u001b[0m\u001b[0;34m\u001b[0m\u001b[0m\n\u001b[1;32m      3\u001b[0m     \u001b[0mresponse\u001b[0m \u001b[0;34m=\u001b[0m \u001b[0mrequests\u001b[0m\u001b[0;34m.\u001b[0m\u001b[0mget\u001b[0m\u001b[0;34m(\u001b[0m\u001b[0murl\u001b[0m\u001b[0;34m)\u001b[0m\u001b[0;34m.\u001b[0m\u001b[0mjson\u001b[0m\u001b[0;34m(\u001b[0m\u001b[0;34m)\u001b[0m\u001b[0;34m\u001b[0m\u001b[0;34m\u001b[0m\u001b[0m\n\u001b[0;32m----> 4\u001b[0;31m     \u001b[0mgas_gwei\u001b[0m \u001b[0;34m=\u001b[0m \u001b[0mresponse\u001b[0m\u001b[0;34m[\u001b[0m\u001b[0;34m'speeds'\u001b[0m\u001b[0;34m]\u001b[0m\u001b[0;34m[\u001b[0m\u001b[0;36m1\u001b[0m\u001b[0;34m]\u001b[0m\u001b[0;34m[\u001b[0m\u001b[0;34m'gasPrice'\u001b[0m\u001b[0;34m]\u001b[0m\u001b[0;34m\u001b[0m\u001b[0;34m\u001b[0m\u001b[0m\n\u001b[0m\u001b[1;32m      5\u001b[0m     \u001b[0mgas_eth\u001b[0m \u001b[0;34m=\u001b[0m \u001b[0mgas_gwei\u001b[0m\u001b[0;34m/\u001b[0m\u001b[0;36m1000000000\u001b[0m\u001b[0;34m\u001b[0m\u001b[0;34m\u001b[0m\u001b[0m\n\u001b[1;32m      6\u001b[0m     \u001b[0mgas_avax\u001b[0m \u001b[0;34m=\u001b[0m \u001b[0mgas_gwei\u001b[0m\u001b[0;34m*\u001b[0m\u001b[0;36m.00000006\u001b[0m\u001b[0;34m\u001b[0m\u001b[0;34m\u001b[0m\u001b[0m\n",
      "\u001b[0;31mKeyError\u001b[0m: 'speeds'"
     ]
    }
   ],
   "source": [
    "get_current_gas('eth')"
   ]
  },
  {
   "cell_type": "code",
   "execution_count": null,
   "id": "f01cc8d1-b8f4-4e46-9667-8e91d8938fc2",
   "metadata": {},
   "outputs": [],
   "source": []
  },
  {
   "cell_type": "code",
   "execution_count": 6,
   "id": "d61da093-055b-4bfb-b550-9b68cb07ed0b",
   "metadata": {
    "collapsed": true,
    "jupyter": {
     "outputs_hidden": true
    },
    "tags": []
   },
   "outputs": [
    {
     "name": "stdout",
     "output_type": "stream",
     "text": [
      "{\n",
      "   \"timestamp\": \"2022-05-22T15:07:43.407Z\",\n",
      "   \"lastBlock\": 14824063,\n",
      "   \"avgTime\": 14.919597989949748,\n",
      "   \"avgTx\": 193.58,\n",
      "   \"avgGas\": 89328.31450977795,\n",
      "   \"speeds\": [\n",
      "      {\n",
      "         \"acceptance\": 0.35,\n",
      "         \"gasPrice\": 23.685655783,\n",
      "         \"estimatedFee\": 4.301188070742412\n",
      "      },\n",
      "      {\n",
      "         \"acceptance\": 0.6,\n",
      "         \"gasPrice\": 26.847431485,\n",
      "         \"estimatedFee\": 4.875349582519777\n",
      "      },\n",
      "      {\n",
      "         \"acceptance\": 0.9,\n",
      "         \"gasPrice\": 34.512459774,\n",
      "         \"estimatedFee\": 6.267277614430665\n",
      "      },\n",
      "      {\n",
      "         \"acceptance\": 1,\n",
      "         \"gasPrice\": 43.908389253,\n",
      "         \"estimatedFee\": 7.973528020113671\n",
      "      }\n",
      "   ],\n",
      "   \"baseFee\": 24.641038892489984\n",
      "}\n"
     ]
    }
   ],
   "source": [
    "# ETH Gas Price Data\n",
    "eth_gas_url = f\"https://owlracle.info/eth/gas\"\n",
    "eth_gas_response = requests.get(eth_gas_url).json()\n",
    "print(json.dumps(eth_gas_response, indent=3))"
   ]
  },
  {
   "cell_type": "code",
   "execution_count": 7,
   "id": "46d86030-71c0-4792-8a89-d9410881ffe4",
   "metadata": {},
   "outputs": [],
   "source": [
    "eth_gas_gwei = eth_gas_response[\"speeds\"][1][\"gasPrice\"]\n",
    "gwei_to_eth = eth_gas_gwei/1000000000"
   ]
  },
  {
   "cell_type": "code",
   "execution_count": 8,
   "id": "2e35b334-b979-4af7-891d-ed6a5b69f289",
   "metadata": {},
   "outputs": [
    {
     "name": "stdout",
     "output_type": "stream",
     "text": [
      "The current price of ETH gas 26.85 gwei or 0.00000003 ETH\n"
     ]
    }
   ],
   "source": [
    "print(f\"The current price of ETH gas {eth_gas_gwei:.2f} gwei or {gwei_to_eth:.8f} ETH\")"
   ]
  },
  {
   "cell_type": "code",
   "execution_count": 9,
   "id": "c34fbd60-3f52-4cd1-aa0f-be02d2f335b0",
   "metadata": {
    "collapsed": true,
    "jupyter": {
     "outputs_hidden": true
    },
    "tags": []
   },
   "outputs": [
    {
     "name": "stdout",
     "output_type": "stream",
     "text": [
      "{\n",
      "   \"timestamp\": \"2022-05-22T15:07:44.195Z\",\n",
      "   \"lastBlock\": 15034081,\n",
      "   \"avgTime\": 2,\n",
      "   \"avgTx\": 8.155,\n",
      "   \"avgGas\": 191285.16081717983,\n",
      "   \"speeds\": [\n",
      "      {\n",
      "         \"acceptance\": 0.395,\n",
      "         \"gasPrice\": 26,\n",
      "         \"estimatedFee\": 0.16596283122820155\n",
      "      },\n",
      "      {\n",
      "         \"acceptance\": 0.895,\n",
      "         \"gasPrice\": 26.5,\n",
      "         \"estimatedFee\": 0.1691544241364362\n",
      "      },\n",
      "      {\n",
      "         \"acceptance\": 0.9,\n",
      "         \"gasPrice\": 26.600000007,\n",
      "         \"estimatedFee\": 0.16979274276276543\n",
      "      },\n",
      "      {\n",
      "         \"acceptance\": 1,\n",
      "         \"gasPrice\": 600,\n",
      "         \"estimatedFee\": 3.8299114898815745\n",
      "      }\n",
      "   ],\n",
      "   \"baseFee\": 25.01539410606218\n",
      "}\n"
     ]
    }
   ],
   "source": [
    "# AVAX Gas Price Data\n",
    "avax_gas_url = f\"https://owlracle.info/avax/gas\"\n",
    "avax_gas_response = requests.get(avax_gas_url).json()\n",
    "print(json.dumps(avax_gas_response, indent=3))"
   ]
  },
  {
   "cell_type": "code",
   "execution_count": 10,
   "id": "52b23777-6a09-4cf4-a554-0f62b947b4db",
   "metadata": {},
   "outputs": [],
   "source": [
    "avax_gas_gwei = avax_gas_response[\"speeds\"][1][\"gasPrice\"]\n",
    "gwei_to_avax = avax_gas_gwei*.00000006"
   ]
  },
  {
   "cell_type": "code",
   "execution_count": 55,
   "id": "fae40d4f-f789-4bff-80e4-7b4687808f34",
   "metadata": {},
   "outputs": [
    {
     "name": "stdout",
     "output_type": "stream",
     "text": [
      "The current price of AVAX gas 26.50 gwei or 0.00000159 AVAX\n"
     ]
    }
   ],
   "source": [
    "print(f\"The current price of AVAX gas {avax_gas_gwei:.2f} gwei or {gwei_to_avax:.8f} AVAX\")"
   ]
  },
  {
   "cell_type": "code",
   "execution_count": 12,
   "id": "e0e37567-3683-4b73-9564-0fd1973a1df2",
   "metadata": {
    "collapsed": true,
    "jupyter": {
     "outputs_hidden": true
    },
    "tags": []
   },
   "outputs": [
    {
     "name": "stdout",
     "output_type": "stream",
     "text": [
      "{\n",
      "   \"timestamp\": \"2022-05-22T15:07:44.963Z\",\n",
      "   \"lastBlock\": 18026369,\n",
      "   \"avgTime\": 3,\n",
      "   \"avgTx\": 178.73,\n",
      "   \"avgGas\": 133611.90439394035,\n",
      "   \"speeds\": [\n",
      "      {\n",
      "         \"acceptance\": 0.995,\n",
      "         \"gasPrice\": 5,\n",
      "         \"estimatedFee\": 0.2002441611151984\n",
      "      },\n",
      "      {\n",
      "         \"acceptance\": 0.995,\n",
      "         \"gasPrice\": 5,\n",
      "         \"estimatedFee\": 0.2002441611151984\n",
      "      },\n",
      "      {\n",
      "         \"acceptance\": 0.995,\n",
      "         \"gasPrice\": 5,\n",
      "         \"estimatedFee\": 0.2002441611151984\n",
      "      },\n",
      "      {\n",
      "         \"acceptance\": 1,\n",
      "         \"gasPrice\": 6,\n",
      "         \"estimatedFee\": 0.24029299333823811\n",
      "      }\n",
      "   ]\n",
      "}\n"
     ]
    }
   ],
   "source": [
    "# BSC Gas Price Data\n",
    "bsc_gas_url = f\"https://owlracle.info/bsc/gas\"\n",
    "bsc_gas_response = requests.get(bsc_gas_url).json()\n",
    "print(json.dumps(bsc_gas_response, indent=3))"
   ]
  },
  {
   "cell_type": "code",
   "execution_count": 13,
   "id": "d89b3801-18ec-4b9b-9690-72e0d791c7b7",
   "metadata": {},
   "outputs": [],
   "source": [
    "bsc_gas_gwei = bsc_gas_response[\"speeds\"][1][\"gasPrice\"]\n",
    "gwei_to_bsc = bsc_gas_gwei*.00000001"
   ]
  },
  {
   "cell_type": "code",
   "execution_count": 14,
   "id": "d685cebd-3473-4101-bea6-4fbd0ee7a46e",
   "metadata": {},
   "outputs": [
    {
     "name": "stdout",
     "output_type": "stream",
     "text": [
      "The current price of BNB gas 5.00 gwei or 0.00000005 BNB\n"
     ]
    }
   ],
   "source": [
    "print(f\"The current price of BNB gas {bsc_gas_gwei:.2f} gwei or {gwei_to_bsc:.8f} BNB\")"
   ]
  },
  {
   "cell_type": "code",
   "execution_count": 15,
   "id": "91f46bf7-6404-46cf-b244-7cc90c72916b",
   "metadata": {
    "collapsed": true,
    "jupyter": {
     "outputs_hidden": true
    },
    "tags": []
   },
   "outputs": [
    {
     "name": "stdout",
     "output_type": "stream",
     "text": [
      "{\n",
      "   \"timestamp\": \"2022-05-22T15:07:45.742Z\",\n",
      "   \"lastBlock\": 28634118,\n",
      "   \"avgTime\": 2.2964824120603016,\n",
      "   \"avgTx\": 68.555,\n",
      "   \"avgGas\": 262747.87704908004,\n",
      "   \"speeds\": [\n",
      "      {\n",
      "         \"acceptance\": 0.35,\n",
      "         \"gasPrice\": 31.039022522,\n",
      "         \"estimatedFee\": 0.005679895066199889\n",
      "      },\n",
      "      {\n",
      "         \"acceptance\": 0.6,\n",
      "         \"gasPrice\": 32.500951734,\n",
      "         \"estimatedFee\": 0.005947416522859383\n",
      "      },\n",
      "      {\n",
      "         \"acceptance\": 0.9,\n",
      "         \"gasPrice\": 41,\n",
      "         \"estimatedFee\": 0.007502674981118899\n",
      "      },\n",
      "      {\n",
      "         \"acceptance\": 1,\n",
      "         \"gasPrice\": 49.044698943,\n",
      "         \"estimatedFee\": 0.008974791115028162\n",
      "      }\n",
      "   ],\n",
      "   \"baseFee\": 0.01687812576000002\n",
      "}\n"
     ]
    }
   ],
   "source": [
    "# POLY Gas Price Data\n",
    "poly_gas_url = f\"https://owlracle.info/poly/gas\"\n",
    "poly_gas_response = requests.get(poly_gas_url).json()\n",
    "print(json.dumps(poly_gas_response, indent=3))"
   ]
  },
  {
   "cell_type": "code",
   "execution_count": 16,
   "id": "019d569c-2d67-44ef-944c-9940e7baa2c4",
   "metadata": {},
   "outputs": [],
   "source": [
    "poly_gas_gwei = poly_gas_response[\"speeds\"][1][\"gasPrice\"]\n",
    "gwei_to_poly = poly_gas_gwei*.00000354"
   ]
  },
  {
   "cell_type": "code",
   "execution_count": 17,
   "id": "dce1da66-c6a1-48ef-b5a7-325fa2c14218",
   "metadata": {},
   "outputs": [
    {
     "name": "stdout",
     "output_type": "stream",
     "text": [
      "The current price of Polygon/MATIC gas is 32.50 gwei or 0.00011505 MATIC\n"
     ]
    }
   ],
   "source": [
    "print(f\"The current price of Polygon/MATIC gas is {poly_gas_gwei:.2f} gwei or {gwei_to_poly:.8f} MATIC\")"
   ]
  },
  {
   "cell_type": "code",
   "execution_count": 18,
   "id": "8e0f9374-6f5c-4763-b416-a845872fcc30",
   "metadata": {},
   "outputs": [],
   "source": [
    "coin_list = ['eth','avax','poly']"
   ]
  },
  {
   "cell_type": "code",
   "execution_count": 46,
   "id": "47a9a19e-c5e7-47e4-8423-e0b4500bf269",
   "metadata": {
    "tags": []
   },
   "outputs": [],
   "source": [
    "def create_gas_chart(coin):\n",
    "    historic_gas_url = f\"https://owlracle.info/{str(coin).lower()}/history\"\n",
    "    historic_gas_response = requests.get(historic_gas_url).json()\n",
    "    coin_df = pd.DataFrame(historic_gas_response)\n",
    "    coin_df = coin_df[['timestamp', 'gasPrice']]\n",
    "    timeframe = coin_df['timestamp']\n",
    "    gas_stats = []\n",
    "    for row in coin_df['gasPrice']:\n",
    "        gas_stats.append(row['close'])\n",
    "    gas_df = pd.DataFrame(gas_stats)\n",
    "    index = pd.to_datetime(timeframe.astype(str))\n",
    "    gas_df.index = index\n",
    "\n",
    "    gas_df #.hvplot(title='Gas Trends for {str(coin).upper()}', value_label='Gas in gwei', legend='top', height=500, width=700, color='black')\n",
    "        \n",
    "    return"
   ]
  },
  {
   "cell_type": "code",
   "execution_count": 47,
   "id": "dc06b4db-401a-4024-ad2c-50cd872a7e6e",
   "metadata": {
    "tags": []
   },
   "outputs": [],
   "source": [
    "create_gas_chart('eth')"
   ]
  },
  {
   "cell_type": "code",
   "execution_count": 49,
   "id": "35db719b-17b7-4e52-8d2e-d853dd26905a",
   "metadata": {
    "tags": []
   },
   "outputs": [
    {
     "data": {
      "text/html": [
       "<div>\n",
       "<style scoped>\n",
       "    .dataframe tbody tr th:only-of-type {\n",
       "        vertical-align: middle;\n",
       "    }\n",
       "\n",
       "    .dataframe tbody tr th {\n",
       "        vertical-align: top;\n",
       "    }\n",
       "\n",
       "    .dataframe thead th {\n",
       "        text-align: right;\n",
       "    }\n",
       "</style>\n",
       "<table border=\"1\" class=\"dataframe\">\n",
       "  <thead>\n",
       "    <tr style=\"text-align: right;\">\n",
       "      <th></th>\n",
       "      <th>gasPrice</th>\n",
       "      <th>avgGas</th>\n",
       "      <th>timestamp</th>\n",
       "      <th>samples</th>\n",
       "    </tr>\n",
       "  </thead>\n",
       "  <tbody>\n",
       "    <tr>\n",
       "      <th>0</th>\n",
       "      <td>{'open': 18.46, 'close': 30.23, 'low': 13.54, ...</td>\n",
       "      <td>91172.060544</td>\n",
       "      <td>2022-05-22T17:09:10.821Z</td>\n",
       "      <td>45</td>\n",
       "    </tr>\n",
       "    <tr>\n",
       "      <th>1</th>\n",
       "      <td>{'open': 27, 'close': 28.48, 'low': 12, 'high'...</td>\n",
       "      <td>96025.704460</td>\n",
       "      <td>2022-05-22T16:39:10.913Z</td>\n",
       "      <td>43</td>\n",
       "    </tr>\n",
       "    <tr>\n",
       "      <th>2</th>\n",
       "      <td>{'open': 26.73, 'close': 38.29, 'low': 14.63, ...</td>\n",
       "      <td>97685.920764</td>\n",
       "      <td>2022-05-22T16:10:09.403Z</td>\n",
       "      <td>44</td>\n",
       "    </tr>\n",
       "    <tr>\n",
       "      <th>3</th>\n",
       "      <td>{'open': 30.49, 'close': 26.13, 'low': 20.64, ...</td>\n",
       "      <td>94538.104843</td>\n",
       "      <td>2022-05-22T15:40:07.113Z</td>\n",
       "      <td>42</td>\n",
       "    </tr>\n",
       "    <tr>\n",
       "      <th>4</th>\n",
       "      <td>{'open': 32.98, 'close': 18.95, 'low': 18.34, ...</td>\n",
       "      <td>80891.577179</td>\n",
       "      <td>2022-05-22T15:10:04.598Z</td>\n",
       "      <td>43</td>\n",
       "    </tr>\n",
       "    <tr>\n",
       "      <th>...</th>\n",
       "      <td>...</td>\n",
       "      <td>...</td>\n",
       "      <td>...</td>\n",
       "      <td>...</td>\n",
       "    </tr>\n",
       "    <tr>\n",
       "      <th>95</th>\n",
       "      <td>{'open': 39.83, 'close': 32.54, 'low': 20.49, ...</td>\n",
       "      <td>86890.090550</td>\n",
       "      <td>2022-05-20T17:39:21.353Z</td>\n",
       "      <td>44</td>\n",
       "    </tr>\n",
       "    <tr>\n",
       "      <th>96</th>\n",
       "      <td>{'open': 29.45, 'close': 69.57, 'low': 27.4, '...</td>\n",
       "      <td>83323.702164</td>\n",
       "      <td>2022-05-20T17:09:22.099Z</td>\n",
       "      <td>47</td>\n",
       "    </tr>\n",
       "    <tr>\n",
       "      <th>97</th>\n",
       "      <td>{'open': 67.51, 'close': 34.57, 'low': 33.72, ...</td>\n",
       "      <td>80916.314415</td>\n",
       "      <td>2022-05-20T16:39:18.451Z</td>\n",
       "      <td>46</td>\n",
       "    </tr>\n",
       "    <tr>\n",
       "      <th>98</th>\n",
       "      <td>{'open': 45.9, 'close': 65.65, 'low': 25, 'hig...</td>\n",
       "      <td>89476.769845</td>\n",
       "      <td>2022-05-20T16:09:17.917Z</td>\n",
       "      <td>47</td>\n",
       "    </tr>\n",
       "    <tr>\n",
       "      <th>99</th>\n",
       "      <td>{'open': 45.75, 'close': 61, 'low': 29.75, 'hi...</td>\n",
       "      <td>86222.388926</td>\n",
       "      <td>2022-05-20T15:39:15.067Z</td>\n",
       "      <td>46</td>\n",
       "    </tr>\n",
       "  </tbody>\n",
       "</table>\n",
       "<p>100 rows × 4 columns</p>\n",
       "</div>"
      ],
      "text/plain": [
       "                                             gasPrice        avgGas  \\\n",
       "0   {'open': 18.46, 'close': 30.23, 'low': 13.54, ...  91172.060544   \n",
       "1   {'open': 27, 'close': 28.48, 'low': 12, 'high'...  96025.704460   \n",
       "2   {'open': 26.73, 'close': 38.29, 'low': 14.63, ...  97685.920764   \n",
       "3   {'open': 30.49, 'close': 26.13, 'low': 20.64, ...  94538.104843   \n",
       "4   {'open': 32.98, 'close': 18.95, 'low': 18.34, ...  80891.577179   \n",
       "..                                                ...           ...   \n",
       "95  {'open': 39.83, 'close': 32.54, 'low': 20.49, ...  86890.090550   \n",
       "96  {'open': 29.45, 'close': 69.57, 'low': 27.4, '...  83323.702164   \n",
       "97  {'open': 67.51, 'close': 34.57, 'low': 33.72, ...  80916.314415   \n",
       "98  {'open': 45.9, 'close': 65.65, 'low': 25, 'hig...  89476.769845   \n",
       "99  {'open': 45.75, 'close': 61, 'low': 29.75, 'hi...  86222.388926   \n",
       "\n",
       "                   timestamp  samples  \n",
       "0   2022-05-22T17:09:10.821Z       45  \n",
       "1   2022-05-22T16:39:10.913Z       43  \n",
       "2   2022-05-22T16:10:09.403Z       44  \n",
       "3   2022-05-22T15:40:07.113Z       42  \n",
       "4   2022-05-22T15:10:04.598Z       43  \n",
       "..                       ...      ...  \n",
       "95  2022-05-20T17:39:21.353Z       44  \n",
       "96  2022-05-20T17:09:22.099Z       47  \n",
       "97  2022-05-20T16:39:18.451Z       46  \n",
       "98  2022-05-20T16:09:17.917Z       47  \n",
       "99  2022-05-20T15:39:15.067Z       46  \n",
       "\n",
       "[100 rows x 4 columns]"
      ]
     },
     "execution_count": 49,
     "metadata": {},
     "output_type": "execute_result"
    }
   ],
   "source": [
    "historic_gas_url = f\"https://owlracle.info/eth/history\"\n",
    "historic_gas_response = requests.get(historic_gas_url).json()\n",
    "eth_df = pd.DataFrame(historic_gas_response)  \n",
    "eth_df"
   ]
  },
  {
   "cell_type": "code",
   "execution_count": 58,
   "id": "c59dca84-7d16-434e-83f2-f4bb981eaf99",
   "metadata": {
    "tags": []
   },
   "outputs": [
    {
     "data": {},
     "metadata": {},
     "output_type": "display_data"
    },
    {
     "data": {
      "application/vnd.holoviews_exec.v0+json": "",
      "text/html": [
       "<div id='3387'>\n",
       "\n",
       "\n",
       "\n",
       "\n",
       "\n",
       "  <div class=\"bk-root\" id=\"c0701ec9-2041-4089-a4a2-7c08d815cf61\" data-root-id=\"3387\"></div>\n",
       "</div>\n",
       "<script type=\"application/javascript\">(function(root) {\n",
       "  function embed_document(root) {\n",
       "    var docs_json = {\"228d4c0c-d9dc-4012-b43b-816f09444dfb\":{\"defs\":[{\"extends\":null,\"module\":null,\"name\":\"ReactiveHTML1\",\"overrides\":[],\"properties\":[]},{\"extends\":null,\"module\":null,\"name\":\"FlexBox1\",\"overrides\":[],\"properties\":[{\"default\":\"flex-start\",\"kind\":null,\"name\":\"align_content\"},{\"default\":\"flex-start\",\"kind\":null,\"name\":\"align_items\"},{\"default\":\"row\",\"kind\":null,\"name\":\"flex_direction\"},{\"default\":\"wrap\",\"kind\":null,\"name\":\"flex_wrap\"},{\"default\":\"flex-start\",\"kind\":null,\"name\":\"justify_content\"}]},{\"extends\":null,\"module\":null,\"name\":\"GridStack1\",\"overrides\":[],\"properties\":[{\"default\":\"warn\",\"kind\":null,\"name\":\"mode\"},{\"default\":null,\"kind\":null,\"name\":\"ncols\"},{\"default\":null,\"kind\":null,\"name\":\"nrows\"},{\"default\":true,\"kind\":null,\"name\":\"allow_resize\"},{\"default\":true,\"kind\":null,\"name\":\"allow_drag\"},{\"default\":[],\"kind\":null,\"name\":\"state\"}]},{\"extends\":null,\"module\":null,\"name\":\"click1\",\"overrides\":[],\"properties\":[{\"default\":\"\",\"kind\":null,\"name\":\"terminal_output\"},{\"default\":\"\",\"kind\":null,\"name\":\"debug_name\"},{\"default\":0,\"kind\":null,\"name\":\"clears\"}]},{\"extends\":null,\"module\":null,\"name\":\"TemplateActions1\",\"overrides\":[],\"properties\":[{\"default\":0,\"kind\":null,\"name\":\"open_modal\"},{\"default\":0,\"kind\":null,\"name\":\"close_modal\"}]},{\"extends\":null,\"module\":null,\"name\":\"MaterialTemplateActions1\",\"overrides\":[],\"properties\":[{\"default\":0,\"kind\":null,\"name\":\"open_modal\"},{\"default\":0,\"kind\":null,\"name\":\"close_modal\"}]}],\"roots\":{\"references\":[{\"attributes\":{\"coordinates\":null,\"data_source\":{\"id\":\"3535\"},\"glyph\":{\"id\":\"3538\"},\"group\":null,\"hover_glyph\":null,\"muted_glyph\":{\"id\":\"3540\"},\"nonselection_glyph\":{\"id\":\"3539\"},\"selection_glyph\":{\"id\":\"3572\"},\"view\":{\"id\":\"3542\"}},\"id\":\"3541\",\"type\":\"GlyphRenderer\"},{\"attributes\":{\"above\":[{\"id\":\"3462\"}],\"below\":[{\"id\":\"3405\"}],\"center\":[{\"id\":\"3408\"},{\"id\":\"3412\"}],\"height\":500,\"left\":[{\"id\":\"3409\"}],\"margin\":[5,5,5,5],\"min_border_bottom\":10,\"min_border_left\":10,\"min_border_right\":10,\"min_border_top\":10,\"renderers\":[{\"id\":\"3438\"},{\"id\":\"3471\"},{\"id\":\"3505\"},{\"id\":\"3541\"},{\"id\":\"3579\"}],\"sizing_mode\":\"fixed\",\"title\":{\"id\":\"3397\"},\"toolbar\":{\"id\":\"3419\"},\"width\":700,\"x_range\":{\"id\":\"3389\"},\"x_scale\":{\"id\":\"3401\"},\"y_range\":{\"id\":\"3390\"},\"y_scale\":{\"id\":\"3403\"}},\"id\":\"3396\",\"subtype\":\"Figure\",\"type\":\"Plot\"},{\"attributes\":{\"overlay\":{\"id\":\"3418\"}},\"id\":\"3416\",\"type\":\"BoxZoomTool\"},{\"attributes\":{},\"id\":\"3556\",\"type\":\"UnionRenderers\"},{\"attributes\":{\"line_alpha\":0.2,\"line_color\":\"gold\",\"line_width\":2,\"x\":{\"field\":\"timestamp\"},\"y\":{\"field\":\"Gas in gwei\"}},\"id\":\"3540\",\"type\":\"Line\"},{\"attributes\":{},\"id\":\"3417\",\"type\":\"ResetTool\"},{\"attributes\":{},\"id\":\"3461\",\"type\":\"YearsTicker\"},{\"attributes\":{\"line_width\":2,\"x\":{\"field\":\"timestamp\"},\"y\":{\"field\":\"Gas in gwei\"}},\"id\":\"3468\",\"type\":\"Line\"},{\"attributes\":{\"num_minor_ticks\":5,\"tickers\":[{\"id\":\"3450\"},{\"id\":\"3451\"},{\"id\":\"3452\"},{\"id\":\"3453\"},{\"id\":\"3454\"},{\"id\":\"3455\"},{\"id\":\"3456\"},{\"id\":\"3457\"},{\"id\":\"3458\"},{\"id\":\"3459\"},{\"id\":\"3460\"},{\"id\":\"3461\"}]},\"id\":\"3406\",\"type\":\"DatetimeTicker\"},{\"attributes\":{},\"id\":\"3403\",\"type\":\"LinearScale\"},{\"attributes\":{\"line_width\":2,\"x\":{\"field\":\"timestamp\"},\"y\":{\"field\":\"Gas in gwei\"}},\"id\":\"3464\",\"type\":\"Line\"},{\"attributes\":{\"axis\":{\"id\":\"3405\"},\"coordinates\":null,\"grid_line_color\":null,\"group\":null,\"ticker\":null},\"id\":\"3408\",\"type\":\"Grid\"},{\"attributes\":{\"source\":{\"id\":\"3535\"}},\"id\":\"3542\",\"type\":\"CDSView\"},{\"attributes\":{},\"id\":\"3427\",\"type\":\"DatetimeTickFormatter\"},{\"attributes\":{},\"id\":\"3430\",\"type\":\"BasicTickFormatter\"},{\"attributes\":{\"label\":{\"value\":\"BSC\"},\"renderers\":[{\"id\":\"3541\"}]},\"id\":\"3571\",\"type\":\"LegendItem\"},{\"attributes\":{\"line_alpha\":0.1,\"line_width\":2,\"x\":{\"field\":\"timestamp\"},\"y\":{\"field\":\"Gas in gwei\"}},\"id\":\"3469\",\"type\":\"Line\"},{\"attributes\":{\"coordinates\":null,\"data_source\":{\"id\":\"3432\"},\"glyph\":{\"id\":\"3435\"},\"group\":null,\"hover_glyph\":null,\"muted_glyph\":{\"id\":\"3437\"},\"nonselection_glyph\":{\"id\":\"3436\"},\"selection_glyph\":{\"id\":\"3464\"},\"view\":{\"id\":\"3439\"}},\"id\":\"3438\",\"type\":\"GlyphRenderer\"},{\"attributes\":{\"line_width\":2,\"x\":{\"field\":\"timestamp\"},\"y\":{\"field\":\"Gas in gwei\"}},\"id\":\"3498\",\"type\":\"Line\"},{\"attributes\":{\"line_alpha\":0.1,\"line_width\":2,\"x\":{\"field\":\"timestamp\"},\"y\":{\"field\":\"Gas in gwei\"}},\"id\":\"3436\",\"type\":\"Line\"},{\"attributes\":{\"line_alpha\":0.2,\"line_width\":2,\"x\":{\"field\":\"timestamp\"},\"y\":{\"field\":\"Gas in gwei\"}},\"id\":\"3470\",\"type\":\"Line\"},{\"attributes\":{},\"id\":\"3401\",\"type\":\"LinearScale\"},{\"attributes\":{\"line_color\":\"gold\",\"line_width\":2,\"x\":{\"field\":\"timestamp\"},\"y\":{\"field\":\"Gas in gwei\"}},\"id\":\"3572\",\"type\":\"Line\"},{\"attributes\":{\"line_alpha\":0.2,\"line_color\":\"purple\",\"line_width\":2,\"x\":{\"field\":\"timestamp\"},\"y\":{\"field\":\"Gas in gwei\"}},\"id\":\"3578\",\"type\":\"Line\"},{\"attributes\":{},\"id\":\"3410\",\"type\":\"BasicTicker\"},{\"attributes\":{\"tools\":[{\"id\":\"3391\"},{\"id\":\"3413\"},{\"id\":\"3414\"},{\"id\":\"3415\"},{\"id\":\"3416\"},{\"id\":\"3417\"}]},\"id\":\"3419\",\"type\":\"Toolbar\"},{\"attributes\":{},\"id\":\"3482\",\"type\":\"UnionRenderers\"},{\"attributes\":{},\"id\":\"3574\",\"type\":\"Selection\"},{\"attributes\":{\"axis_label\":\"timestamp\",\"coordinates\":null,\"formatter\":{\"id\":\"3427\"},\"group\":null,\"major_label_policy\":{\"id\":\"3428\"},\"ticker\":{\"id\":\"3406\"}},\"id\":\"3405\",\"type\":\"DatetimeAxis\"},{\"attributes\":{},\"id\":\"3518\",\"type\":\"UnionRenderers\"},{\"attributes\":{\"source\":{\"id\":\"3573\"}},\"id\":\"3580\",\"type\":\"CDSView\"},{\"attributes\":{\"click_policy\":\"mute\",\"coordinates\":null,\"group\":null,\"items\":[{\"id\":\"3463\"},{\"id\":\"3497\"},{\"id\":\"3533\"},{\"id\":\"3571\"},{\"id\":\"3611\"}],\"location\":[0,0],\"orientation\":\"horizontal\",\"title\":\"Variable\"},\"id\":\"3462\",\"type\":\"Legend\"},{\"attributes\":{\"coordinates\":null,\"data_source\":{\"id\":\"3573\"},\"glyph\":{\"id\":\"3576\"},\"group\":null,\"hover_glyph\":null,\"muted_glyph\":{\"id\":\"3578\"},\"nonselection_glyph\":{\"id\":\"3577\"},\"selection_glyph\":{\"id\":\"3612\"},\"view\":{\"id\":\"3580\"}},\"id\":\"3579\",\"type\":\"GlyphRenderer\"},{\"attributes\":{},\"id\":\"3466\",\"type\":\"Selection\"},{\"attributes\":{},\"id\":\"3447\",\"type\":\"UnionRenderers\"},{\"attributes\":{\"callback\":null,\"formatters\":{\"@{timestamp}\":\"datetime\"},\"renderers\":[{\"id\":\"3438\"},{\"id\":\"3471\"},{\"id\":\"3505\"},{\"id\":\"3541\"},{\"id\":\"3579\"}],\"tags\":[\"hv_created\"],\"tooltips\":[[\"Variable\",\"@{Variable}\"],[\"timestamp\",\"@{timestamp}{%F %T}\"],[\"Gas in gwei\",\"@{Gas_in_gwei}\"]]},\"id\":\"3391\",\"type\":\"HoverTool\"},{\"attributes\":{\"source\":{\"id\":\"3465\"}},\"id\":\"3472\",\"type\":\"CDSView\"},{\"attributes\":{\"margin\":[5,5,5,5],\"name\":\"HSpacer05062\",\"sizing_mode\":\"stretch_width\"},\"id\":\"3388\",\"type\":\"Spacer\"},{\"attributes\":{\"axis\":{\"id\":\"3409\"},\"coordinates\":null,\"dimension\":1,\"grid_line_color\":null,\"group\":null,\"ticker\":null},\"id\":\"3412\",\"type\":\"Grid\"},{\"attributes\":{\"line_alpha\":0.2,\"line_width\":2,\"x\":{\"field\":\"timestamp\"},\"y\":{\"field\":\"Gas in gwei\"}},\"id\":\"3437\",\"type\":\"Line\"},{\"attributes\":{\"line_color\":\"purple\",\"line_width\":2,\"x\":{\"field\":\"timestamp\"},\"y\":{\"field\":\"Gas in gwei\"}},\"id\":\"3576\",\"type\":\"Line\"},{\"attributes\":{\"children\":[{\"id\":\"3388\"},{\"id\":\"3396\"},{\"id\":\"3883\"}],\"margin\":[0,0,0,0],\"name\":\"Row05058\",\"tags\":[\"embedded\"]},\"id\":\"3387\",\"type\":\"Row\"},{\"attributes\":{\"label\":{\"value\":\"ETH\"},\"renderers\":[{\"id\":\"3471\"}]},\"id\":\"3497\",\"type\":\"LegendItem\"},{\"attributes\":{\"coordinates\":null,\"data_source\":{\"id\":\"3465\"},\"glyph\":{\"id\":\"3468\"},\"group\":null,\"hover_glyph\":null,\"muted_glyph\":{\"id\":\"3470\"},\"nonselection_glyph\":{\"id\":\"3469\"},\"selection_glyph\":{\"id\":\"3498\"},\"view\":{\"id\":\"3472\"}},\"id\":\"3471\",\"type\":\"GlyphRenderer\"},{\"attributes\":{},\"id\":\"3431\",\"type\":\"AllLabels\"},{\"attributes\":{\"line_alpha\":0.1,\"line_color\":\"purple\",\"line_width\":2,\"x\":{\"field\":\"timestamp\"},\"y\":{\"field\":\"Gas in gwei\"}},\"id\":\"3577\",\"type\":\"Line\"},{\"attributes\":{\"line_color\":\"red\",\"line_width\":2,\"x\":{\"field\":\"timestamp\"},\"y\":{\"field\":\"Gas in gwei\"}},\"id\":\"3502\",\"type\":\"Line\"},{\"attributes\":{\"data\":{\"Gas in gwei\":{\"__ndarray__\":\"AAAAAAAAFEAAAAAAAAAUQAAAAAAAABRAAAAAAAAAFEAAAAAAAAAUQAAAAAAAABRAAAAAAAAAFEAAAAAAAAAUQAAAAAAAABRAAAAAAAAAFEAAAAAAAAAUQAAAAAAAABRAAAAAAAAAFEAAAAAAAAAUQAAAAAAAABRAcT0K16NwFUAAAAAAAAAUQAAAAAAAABRAAAAAAAAAFEAAAAAAAAAUQAAAAAAAABRAAAAAAAAAFEAAAAAAAAAUQAAAAAAAABRAAAAAAAAAFEAAAAAAAAAUQAAAAAAAABRAAAAAAAAAFEAAAAAAAAAUQAAAAAAAABRAAAAAAAAAFEAAAAAAAAAUQAAAAAAAABRAAAAAAAAAFEAAAAAAAAAUQAAAAAAAABRAAAAAAAAAFEAAAAAAAAAUQAAAAAAAABRAAAAAAAAAFEAAAAAAAAAUQAAAAAAAABRAAAAAAAAAFEAAAAAAAAAUQAAAAAAAABRAAAAAAAAAFEAAAAAAAAAUQAAAAAAAABRAAAAAAAAAFEAAAAAAAAAUQAAAAAAAABRAAAAAAAAAFEAAAAAAAAAUQAAAAAAAABRAAAAAAAAAFEAAAAAAAAAUQAAAAAAAABRAAAAAAAAAFEAAAAAAAAAUQAAAAAAAABRAAAAAAAAAFEAAAAAAAAAUQAAAAAAAABRAAAAAAAAAFEAAAAAAAAAUQAAAAAAAABRAAAAAAAAAFEAAAAAAAAAUQAAAAAAAABRAAAAAAAAAFEAAAAAAAAAUQAAAAAAAABRAAAAAAAAAFEAAAAAAAAAUQAAAAAAAABRAAAAAAAAAFEAAAAAAAAAUQAAAAAAAABRAAAAAAAAAFEAAAAAAAAAUQAAAAAAAABRAAAAAAAAAFEAAAAAAAAAUQAAAAAAAABRAAAAAAAAAFEAAAAAAAAAUQAAAAAAAABRAAAAAAAAAFEAAAAAAAAAUQAAAAAAAABRAAAAAAAAAFEAAAAAAAAAUQAAAAAAAABRAAAAAAAAAFEAAAAAAAAAUQAAAAAAAABRAAAAAAAAAFEAAAAAAAAAUQAAAAAAAABRAAAAAAAAAFEA=\",\"dtype\":\"float64\",\"order\":\"little\",\"shape\":[100]},\"Gas_in_gwei\":{\"__ndarray__\":\"AAAAAAAAFEAAAAAAAAAUQAAAAAAAABRAAAAAAAAAFEAAAAAAAAAUQAAAAAAAABRAAAAAAAAAFEAAAAAAAAAUQAAAAAAAABRAAAAAAAAAFEAAAAAAAAAUQAAAAAAAABRAAAAAAAAAFEAAAAAAAAAUQAAAAAAAABRAcT0K16NwFUAAAAAAAAAUQAAAAAAAABRAAAAAAAAAFEAAAAAAAAAUQAAAAAAAABRAAAAAAAAAFEAAAAAAAAAUQAAAAAAAABRAAAAAAAAAFEAAAAAAAAAUQAAAAAAAABRAAAAAAAAAFEAAAAAAAAAUQAAAAAAAABRAAAAAAAAAFEAAAAAAAAAUQAAAAAAAABRAAAAAAAAAFEAAAAAAAAAUQAAAAAAAABRAAAAAAAAAFEAAAAAAAAAUQAAAAAAAABRAAAAAAAAAFEAAAAAAAAAUQAAAAAAAABRAAAAAAAAAFEAAAAAAAAAUQAAAAAAAABRAAAAAAAAAFEAAAAAAAAAUQAAAAAAAABRAAAAAAAAAFEAAAAAAAAAUQAAAAAAAABRAAAAAAAAAFEAAAAAAAAAUQAAAAAAAABRAAAAAAAAAFEAAAAAAAAAUQAAAAAAAABRAAAAAAAAAFEAAAAAAAAAUQAAAAAAAABRAAAAAAAAAFEAAAAAAAAAUQAAAAAAAABRAAAAAAAAAFEAAAAAAAAAUQAAAAAAAABRAAAAAAAAAFEAAAAAAAAAUQAAAAAAAABRAAAAAAAAAFEAAAAAAAAAUQAAAAAAAABRAAAAAAAAAFEAAAAAAAAAUQAAAAAAAABRAAAAAAAAAFEAAAAAAAAAUQAAAAAAAABRAAAAAAAAAFEAAAAAAAAAUQAAAAAAAABRAAAAAAAAAFEAAAAAAAAAUQAAAAAAAABRAAAAAAAAAFEAAAAAAAAAUQAAAAAAAABRAAAAAAAAAFEAAAAAAAAAUQAAAAAAAABRAAAAAAAAAFEAAAAAAAAAUQAAAAAAAABRAAAAAAAAAFEAAAAAAAAAUQAAAAAAAABRAAAAAAAAAFEAAAAAAAAAUQAAAAAAAABRAAAAAAAAAFEA=\",\"dtype\":\"float64\",\"order\":\"little\",\"shape\":[100]},\"Variable\":[\"BSC\",\"BSC\",\"BSC\",\"BSC\",\"BSC\",\"BSC\",\"BSC\",\"BSC\",\"BSC\",\"BSC\",\"BSC\",\"BSC\",\"BSC\",\"BSC\",\"BSC\",\"BSC\",\"BSC\",\"BSC\",\"BSC\",\"BSC\",\"BSC\",\"BSC\",\"BSC\",\"BSC\",\"BSC\",\"BSC\",\"BSC\",\"BSC\",\"BSC\",\"BSC\",\"BSC\",\"BSC\",\"BSC\",\"BSC\",\"BSC\",\"BSC\",\"BSC\",\"BSC\",\"BSC\",\"BSC\",\"BSC\",\"BSC\",\"BSC\",\"BSC\",\"BSC\",\"BSC\",\"BSC\",\"BSC\",\"BSC\",\"BSC\",\"BSC\",\"BSC\",\"BSC\",\"BSC\",\"BSC\",\"BSC\",\"BSC\",\"BSC\",\"BSC\",\"BSC\",\"BSC\",\"BSC\",\"BSC\",\"BSC\",\"BSC\",\"BSC\",\"BSC\",\"BSC\",\"BSC\",\"BSC\",\"BSC\",\"BSC\",\"BSC\",\"BSC\",\"BSC\",\"BSC\",\"BSC\",\"BSC\",\"BSC\",\"BSC\",\"BSC\",\"BSC\",\"BSC\",\"BSC\",\"BSC\",\"BSC\",\"BSC\",\"BSC\",\"BSC\",\"BSC\",\"BSC\",\"BSC\",\"BSC\",\"BSC\",\"BSC\",\"BSC\",\"BSC\",\"BSC\",\"BSC\",\"BSC\"],\"timestamp\":{\"__ndarray__\":\"AEBwgi4OeEIA4EQ6MA54QgCgEPIxDnhCANDTqTMOeEIAYHhhNQ54QgCwGBk3DnhCALBszDgOeEIAoP6DOg54QgDgBUA8DnhCAHAX9D0OeEIAcLmrPw54QgCQBGdBDnhCAIAaG0MOeEIAkKjSRA54QgAQt41GDnhCAMDSQUgOeEIA0Oz8SQ54QgAgybJLDnhCABByak0OeEIAQI4oTw54QgAgH+BQDnhCADAjkVIOeEIAUGdPVA54QgBg9wZWDnhCADDlt1cOeEIA0CZ2WQ54QgDQCCdbDnhCAECU3lwOeEIAIBKdXg54QgDwv01gDnhCAMBOBWIOeEIAECbEYw54QgDgH3VlDnhCABCsLGcOeEIAkA7raA54QgCwz5tqDnhCAADGS2wOeEIAwGIDbg54QgBgALtvDnhCAMCRcnEOeEIAEDYqcw54QgBg4eF0DnhCAJCCmXYOeEIAcCFReA54QgBAuAh6DnhCALB/wHsOeEIAQB14fQ54QgCwrC9/DnhCALA/54AOeEIAAOeegg54QgAAd1aEDnhCABAYDoYOeEIAYLHFhw54QgBwSn2JDnhCAODbNIsOeEIAkHPsjA54QgCQyKSODnhCACB9XJAOeEIAABQUkg54QgAwsMuTDnhCAEBUg5UOeEIAsPI6lw54QgDwmvKYDnhCAAAsqpoOeEIA4MVhnA54QgCQXRmeDnhCACAO0Z8OeEIAkMqKoQ54QgBwYkKjDnhCAED8+aQOeEIAMJ6xpg54QgDgNmmoDnhCAMD5HKoOeEIAYI7Yqw54QgBAGoytDnhCAKCmQ68OeEIA4Gj/sA54QgAg2LKyDnhCAJBparQOeEIAcGEmtg54QgAQ+923DnhCABCTlbkOeEIAAClNuw54QgAgugS9DnhCAIBtvL4OeEIAUEh0wA54QgAgAizCDnhCAFAx48MOeEIA8FSbxQ54QgDQsVPHDnhCALBNC8kOeEIAcInDyg54QgAQg3rMDnhCAOARMs4OeEIAgGbqzw54QgBQMKHRDnhCAHD8StMOeEIAwI0C1Q54QgBAKrrWDnhCAKC8cdgOeEI=\",\"dtype\":\"float64\",\"order\":\"little\",\"shape\":[100]}},\"selected\":{\"id\":\"3536\"},\"selection_policy\":{\"id\":\"3556\"}},\"id\":\"3535\",\"type\":\"ColumnDataSource\"},{\"attributes\":{},\"id\":\"3428\",\"type\":\"AllLabels\"},{\"attributes\":{},\"id\":\"3596\",\"type\":\"UnionRenderers\"},{\"attributes\":{\"label\":{\"value\":\"0\"},\"renderers\":[{\"id\":\"3438\"}]},\"id\":\"3463\",\"type\":\"LegendItem\"},{\"attributes\":{\"coordinates\":null,\"data_source\":{\"id\":\"3499\"},\"glyph\":{\"id\":\"3502\"},\"group\":null,\"hover_glyph\":null,\"muted_glyph\":{\"id\":\"3504\"},\"nonselection_glyph\":{\"id\":\"3503\"},\"selection_glyph\":{\"id\":\"3534\"},\"view\":{\"id\":\"3506\"}},\"id\":\"3505\",\"type\":\"GlyphRenderer\"},{\"attributes\":{\"base\":60,\"mantissas\":[1,2,5,10,15,20,30],\"max_interval\":1800000.0,\"min_interval\":1000.0,\"num_minor_ticks\":0},\"id\":\"3451\",\"type\":\"AdaptiveTicker\"},{\"attributes\":{\"line_color\":\"red\",\"line_width\":2,\"x\":{\"field\":\"timestamp\"},\"y\":{\"field\":\"Gas in gwei\"}},\"id\":\"3534\",\"type\":\"Line\"},{\"attributes\":{\"end\":247.0,\"reset_end\":247.0,\"reset_start\":-17.0,\"start\":-17.0,\"tags\":[[[\"Gas in gwei\",\"Gas in gwei\",null]]]},\"id\":\"3390\",\"type\":\"Range1d\"},{\"attributes\":{\"mantissas\":[1,2,5],\"max_interval\":500.0,\"num_minor_ticks\":0},\"id\":\"3450\",\"type\":\"AdaptiveTicker\"},{\"attributes\":{\"line_color\":\"purple\",\"line_width\":2,\"x\":{\"field\":\"timestamp\"},\"y\":{\"field\":\"Gas in gwei\"}},\"id\":\"3612\",\"type\":\"Line\"},{\"attributes\":{},\"id\":\"3413\",\"type\":\"SaveTool\"},{\"attributes\":{},\"id\":\"3536\",\"type\":\"Selection\"},{\"attributes\":{\"label\":{\"value\":\"POLY\"},\"renderers\":[{\"id\":\"3579\"}]},\"id\":\"3611\",\"type\":\"LegendItem\"},{\"attributes\":{\"label\":{\"value\":\"AVAX\"},\"renderers\":[{\"id\":\"3505\"}]},\"id\":\"3533\",\"type\":\"LegendItem\"},{\"attributes\":{},\"id\":\"3414\",\"type\":\"PanTool\"},{\"attributes\":{},\"id\":\"3433\",\"type\":\"Selection\"},{\"attributes\":{\"data\":{\"Gas in gwei\":{\"__ndarray__\":\"AAAAAAAAOUAAAAAAAAA6QAAAAAAAgDpAMzMzMzMzPkAAAAAAAIA6QAAAAAAAgDtAAAAAAAAgbEAAAAAAAKBOQAAAAAAAwEJAAAAAAADAQkAAAAAAAAA5QAAAAAAAQDlAMzMzMzNzO0AAAAAAAAA6QAAAAAAAgDpAAAAAAAAAOkAAAAAAAAA6QAAAAAAAgDtASOF6FK5HO0AAAAAAAAA5QOF6FK5HYUJAAAAAAAAAOkCamZmZmVk7QGZmZmZmJjtArkfhehRuO0AAAAAAAAA5QAAAAAAAgDpAAAAAAAAAOkAAAAAAAIA6QAAAAAAAgDpAcT0K16PwOkAAAAAAAAA6QAAAAAAAADpArkfhehRuO0AAAAAAAIA6QOxRuB6F6zpAAAAAAAAAOkAAAAAAAIBLQAAAAAAAgDpAAAAAAACAOkAAAAAAAIA6QAAAAAAAgDpAAAAAAAAAOkAAAAAAAIA6QAAAAAAAAElAAAAAAAAAOkAAAAAAAIA6QAAAAAAAgDpAAAAAAACAOkAAAAAAAAA6QAAAAAAAgDpAAAAAAACAOkAAAAAAAAA6QAAAAAAAADpAj8L1KFyPOkAAAAAAAAA5QAAAAAAAgDpAAAAAAAAAOkAAAAAAAIA6QAAAAAAAADlAAAAAAACAOkAAAAAAAIA6QAAAAAAAgDpAAAAAAAAAOUAAAAAAAAA6QAAAAAAAgDpAAAAAAAAAOkAAAAAAAAA5QAAAAAAAgDpAAAAAAACASkAAAAAAAAA5QAAAAAAAADlAAAAAAACAOkAAAAAAAAA6QPYoXI/CtTlAAAAAAAAAPkAAAAAAAIA6QAAAAAAAgDpAmpmZmZkZOkDNzMzMzIw5QAAAAAAAwEpAAAAAAAAAOUAAAAAAAAA5QAAAAAAAgDpAAAAAAACAO0AAAAAAAAA5QAAAAAAAgDpAAAAAAACAOkAAAAAAAIA6QAAAAAAAgDpAAAAAAACAOkAAAAAAAIA6QAAAAAAAADlAAAAAAAAAOUAAAAAAAIA6QAAAAAAAgDpAAAAAAACAOkAAAAAAAIA7QClcj8L1aDpAAAAAAACAOkA=\",\"dtype\":\"float64\",\"order\":\"little\",\"shape\":[100]},\"Gas_in_gwei\":{\"__ndarray__\":\"AAAAAAAAOUAAAAAAAAA6QAAAAAAAgDpAMzMzMzMzPkAAAAAAAIA6QAAAAAAAgDtAAAAAAAAgbEAAAAAAAKBOQAAAAAAAwEJAAAAAAADAQkAAAAAAAAA5QAAAAAAAQDlAMzMzMzNzO0AAAAAAAAA6QAAAAAAAgDpAAAAAAAAAOkAAAAAAAAA6QAAAAAAAgDtASOF6FK5HO0AAAAAAAAA5QOF6FK5HYUJAAAAAAAAAOkCamZmZmVk7QGZmZmZmJjtArkfhehRuO0AAAAAAAAA5QAAAAAAAgDpAAAAAAAAAOkAAAAAAAIA6QAAAAAAAgDpAcT0K16PwOkAAAAAAAAA6QAAAAAAAADpArkfhehRuO0AAAAAAAIA6QOxRuB6F6zpAAAAAAAAAOkAAAAAAAIBLQAAAAAAAgDpAAAAAAACAOkAAAAAAAIA6QAAAAAAAgDpAAAAAAAAAOkAAAAAAAIA6QAAAAAAAAElAAAAAAAAAOkAAAAAAAIA6QAAAAAAAgDpAAAAAAACAOkAAAAAAAAA6QAAAAAAAgDpAAAAAAACAOkAAAAAAAAA6QAAAAAAAADpAj8L1KFyPOkAAAAAAAAA5QAAAAAAAgDpAAAAAAAAAOkAAAAAAAIA6QAAAAAAAADlAAAAAAACAOkAAAAAAAIA6QAAAAAAAgDpAAAAAAAAAOUAAAAAAAAA6QAAAAAAAgDpAAAAAAAAAOkAAAAAAAAA5QAAAAAAAgDpAAAAAAACASkAAAAAAAAA5QAAAAAAAADlAAAAAAACAOkAAAAAAAAA6QPYoXI/CtTlAAAAAAAAAPkAAAAAAAIA6QAAAAAAAgDpAmpmZmZkZOkDNzMzMzIw5QAAAAAAAwEpAAAAAAAAAOUAAAAAAAAA5QAAAAAAAgDpAAAAAAACAO0AAAAAAAAA5QAAAAAAAgDpAAAAAAACAOkAAAAAAAIA6QAAAAAAAgDpAAAAAAACAOkAAAAAAAIA6QAAAAAAAADlAAAAAAAAAOUAAAAAAAIA6QAAAAAAAgDpAAAAAAACAOkAAAAAAAIA7QClcj8L1aDpAAAAAAACAOkA=\",\"dtype\":\"float64\",\"order\":\"little\",\"shape\":[100]},\"Variable\":[\"AVAX\",\"AVAX\",\"AVAX\",\"AVAX\",\"AVAX\",\"AVAX\",\"AVAX\",\"AVAX\",\"AVAX\",\"AVAX\",\"AVAX\",\"AVAX\",\"AVAX\",\"AVAX\",\"AVAX\",\"AVAX\",\"AVAX\",\"AVAX\",\"AVAX\",\"AVAX\",\"AVAX\",\"AVAX\",\"AVAX\",\"AVAX\",\"AVAX\",\"AVAX\",\"AVAX\",\"AVAX\",\"AVAX\",\"AVAX\",\"AVAX\",\"AVAX\",\"AVAX\",\"AVAX\",\"AVAX\",\"AVAX\",\"AVAX\",\"AVAX\",\"AVAX\",\"AVAX\",\"AVAX\",\"AVAX\",\"AVAX\",\"AVAX\",\"AVAX\",\"AVAX\",\"AVAX\",\"AVAX\",\"AVAX\",\"AVAX\",\"AVAX\",\"AVAX\",\"AVAX\",\"AVAX\",\"AVAX\",\"AVAX\",\"AVAX\",\"AVAX\",\"AVAX\",\"AVAX\",\"AVAX\",\"AVAX\",\"AVAX\",\"AVAX\",\"AVAX\",\"AVAX\",\"AVAX\",\"AVAX\",\"AVAX\",\"AVAX\",\"AVAX\",\"AVAX\",\"AVAX\",\"AVAX\",\"AVAX\",\"AVAX\",\"AVAX\",\"AVAX\",\"AVAX\",\"AVAX\",\"AVAX\",\"AVAX\",\"AVAX\",\"AVAX\",\"AVAX\",\"AVAX\",\"AVAX\",\"AVAX\",\"AVAX\",\"AVAX\",\"AVAX\",\"AVAX\",\"AVAX\",\"AVAX\",\"AVAX\",\"AVAX\",\"AVAX\",\"AVAX\",\"AVAX\",\"AVAX\"],\"timestamp\":{\"__ndarray__\":\"AEBwgi4OeEIA4EQ6MA54QgCgEPIxDnhCANDTqTMOeEIAYHhhNQ54QgCwGBk3DnhCALBszDgOeEIAoP6DOg54QgDgBUA8DnhCAHAX9D0OeEIAcLmrPw54QgCQBGdBDnhCAIAaG0MOeEIAkKjSRA54QgAQt41GDnhCAMDSQUgOeEIA0Oz8SQ54QgAgybJLDnhCABByak0OeEIAQI4oTw54QgAgH+BQDnhCADAjkVIOeEIAUGdPVA54QgBg9wZWDnhCADDlt1cOeEIA0CZ2WQ54QgDQCCdbDnhCAECU3lwOeEIAIBKdXg54QgDwv01gDnhCAMBOBWIOeEIAECbEYw54QgDgH3VlDnhCABCsLGcOeEIAkA7raA54QgCwz5tqDnhCAADGS2wOeEIAwGIDbg54QgBgALtvDnhCAMCRcnEOeEIAEDYqcw54QgBg4eF0DnhCAJCCmXYOeEIAcCFReA54QgBAuAh6DnhCALB/wHsOeEIAQB14fQ54QgCwrC9/DnhCALA/54AOeEIAAOeegg54QgAAd1aEDnhCABAYDoYOeEIAYLHFhw54QgBwSn2JDnhCAODbNIsOeEIAkHPsjA54QgCQyKSODnhCACB9XJAOeEIAABQUkg54QgAwsMuTDnhCAEBUg5UOeEIAsPI6lw54QgDwmvKYDnhCAAAsqpoOeEIA4MVhnA54QgCQXRmeDnhCACAO0Z8OeEIAkMqKoQ54QgBwYkKjDnhCAED8+aQOeEIAMJ6xpg54QgDgNmmoDnhCAMD5HKoOeEIAYI7Yqw54QgBAGoytDnhCAKCmQ68OeEIA4Gj/sA54QgAg2LKyDnhCAJBparQOeEIAcGEmtg54QgAQ+923DnhCABCTlbkOeEIAAClNuw54QgAgugS9DnhCAIBtvL4OeEIAUEh0wA54QgAgAizCDnhCAFAx48MOeEIA8FSbxQ54QgDQsVPHDnhCALBNC8kOeEIAcInDyg54QgAQg3rMDnhCAOARMs4OeEIAgGbqzw54QgBQMKHRDnhCAHD8StMOeEIAwI0C1Q54QgBAKrrWDnhCAKC8cdgOeEI=\",\"dtype\":\"float64\",\"order\":\"little\",\"shape\":[100]}},\"selected\":{\"id\":\"3500\"},\"selection_policy\":{\"id\":\"3518\"}},\"id\":\"3499\",\"type\":\"ColumnDataSource\"},{\"attributes\":{\"source\":{\"id\":\"3499\"}},\"id\":\"3506\",\"type\":\"CDSView\"},{\"attributes\":{\"data\":{\"Gas in gwei\":{\"__ndarray__\":\"9ihcj8JVSUCkcD0K14NCQLgehetRODhA9ihcj8K1OECamZmZmVk6QAAAAAAAgDVAj8L1KFzPMkCamZmZmdk4QArXo3A9ijhAuB6F61GYRkBcj8L1KNwvQPYoXI/ChVJAcT0K16OgUUBmZmZmZiZDQFyPwvUoXDBAKVyPwvXoN0BxPQrXozA1QFyPwvUoXCpA16NwPQpXKUBxPQrXo7AwQArXo3A9Ci9AZmZmZmbmMUD2KFyPwnU1QIXrUbgehThAPQrXo3A9OUCPwvUoXE83QAAAAAAAwDRAmpmZmZmZKUCF61G4HoUuQDMzMzMzsydAH4XrUbgeM0CPwvUoXA8sQNejcD0K1yZAXI/C9ShcMEAAAAAAAAAoQK5H4XoUrjVAKVyPwvWoMUDNzMzMzMwxQK5H4XoUri9AXI/C9ShcP0A9CtejcL1HQMP1KFyPwi9AAAAAAACAK0ApXI/C9Sg1QArXo3A9yjdAXI/C9SjcOEB7FK5H4XpBQD0K16Nw/TdASOF6FK5HL0BI4XoUroc1QMP1KFyPwjVAzczMzMxMLECF61G4HgU4QDMzMzMzMypACtejcD0KL0BxPQrXo3AxQI/C9ShczzJAj8L1KFzPM0DhehSuR3FQQMP1KFyPAjlAj8L1KFxPMUDD9Shcj8IrQM3MzMzMzCpAUrgehevRL0DD9Shcj0ImQJqZmZmZmSxA16NwPQpXP0D2KFyPwnUvQIXrUbgeBTVAmpmZmZnZMEDXo3A9ChczQBSuR+F6FCxAH4XrUbieJkA9CtejcL0pQHE9CtejcDpAPQrXo3A9KEBcj8L1KFwyQEjhehSuRyVAAAAAAAAAMEBmZmZmZmYyQB+F61G4HihAzczMzMwMNUAUrkfhetQxQKRwPQrXIz9AZmZmZmbmP0CamZmZmRkxQIXrUbgexTFAFK5H4XqUPEDsUbgehStKQGZmZmZmZjtAhetRuB5lQ0DhehSuRyEwQHsUrkfh+jhAuB6F61H4OUBmZmZmZuY0QFK4HoXr0SdAPQrXo3A9MUDsUbgehSs/QNejcD0K90JAKVyPwvUoNEA=\",\"dtype\":\"float64\",\"order\":\"little\",\"shape\":[100]},\"Gas_in_gwei\":{\"__ndarray__\":\"9ihcj8JVSUCkcD0K14NCQLgehetRODhA9ihcj8K1OECamZmZmVk6QAAAAAAAgDVAj8L1KFzPMkCamZmZmdk4QArXo3A9ijhAuB6F61GYRkBcj8L1KNwvQPYoXI/ChVJAcT0K16OgUUBmZmZmZiZDQFyPwvUoXDBAKVyPwvXoN0BxPQrXozA1QFyPwvUoXCpA16NwPQpXKUBxPQrXo7AwQArXo3A9Ci9AZmZmZmbmMUD2KFyPwnU1QIXrUbgehThAPQrXo3A9OUCPwvUoXE83QAAAAAAAwDRAmpmZmZmZKUCF61G4HoUuQDMzMzMzsydAH4XrUbgeM0CPwvUoXA8sQNejcD0K1yZAXI/C9ShcMEAAAAAAAAAoQK5H4XoUrjVAKVyPwvWoMUDNzMzMzMwxQK5H4XoUri9AXI/C9ShcP0A9CtejcL1HQMP1KFyPwi9AAAAAAACAK0ApXI/C9Sg1QArXo3A9yjdAXI/C9SjcOEB7FK5H4XpBQD0K16Nw/TdASOF6FK5HL0BI4XoUroc1QMP1KFyPwjVAzczMzMxMLECF61G4HgU4QDMzMzMzMypACtejcD0KL0BxPQrXo3AxQI/C9ShczzJAj8L1KFzPM0DhehSuR3FQQMP1KFyPAjlAj8L1KFxPMUDD9Shcj8IrQM3MzMzMzCpAUrgehevRL0DD9Shcj0ImQJqZmZmZmSxA16NwPQpXP0D2KFyPwnUvQIXrUbgeBTVAmpmZmZnZMEDXo3A9ChczQBSuR+F6FCxAH4XrUbieJkA9CtejcL0pQHE9CtejcDpAPQrXo3A9KEBcj8L1KFwyQEjhehSuRyVAAAAAAAAAMEBmZmZmZmYyQB+F61G4HihAzczMzMwMNUAUrkfhetQxQKRwPQrXIz9AZmZmZmbmP0CamZmZmRkxQIXrUbgexTFAFK5H4XqUPEDsUbgehStKQGZmZmZmZjtAhetRuB5lQ0DhehSuRyEwQHsUrkfh+jhAuB6F61H4OUBmZmZmZuY0QFK4HoXr0SdAPQrXo3A9MUDsUbgehSs/QNejcD0K90JAKVyPwvUoNEA=\",\"dtype\":\"float64\",\"order\":\"little\",\"shape\":[100]},\"Variable\":[\"0\",\"0\",\"0\",\"0\",\"0\",\"0\",\"0\",\"0\",\"0\",\"0\",\"0\",\"0\",\"0\",\"0\",\"0\",\"0\",\"0\",\"0\",\"0\",\"0\",\"0\",\"0\",\"0\",\"0\",\"0\",\"0\",\"0\",\"0\",\"0\",\"0\",\"0\",\"0\",\"0\",\"0\",\"0\",\"0\",\"0\",\"0\",\"0\",\"0\",\"0\",\"0\",\"0\",\"0\",\"0\",\"0\",\"0\",\"0\",\"0\",\"0\",\"0\",\"0\",\"0\",\"0\",\"0\",\"0\",\"0\",\"0\",\"0\",\"0\",\"0\",\"0\",\"0\",\"0\",\"0\",\"0\",\"0\",\"0\",\"0\",\"0\",\"0\",\"0\",\"0\",\"0\",\"0\",\"0\",\"0\",\"0\",\"0\",\"0\",\"0\",\"0\",\"0\",\"0\",\"0\",\"0\",\"0\",\"0\",\"0\",\"0\",\"0\",\"0\",\"0\",\"0\",\"0\",\"0\",\"0\",\"0\",\"0\",\"0\"],\"timestamp\":{\"__ndarray__\":\"AEBwgi4OeEIA4EQ6MA54QgCgEPIxDnhCANDTqTMOeEIAYHhhNQ54QgCwGBk3DnhCALBszDgOeEIAoP6DOg54QgDgBUA8DnhCAHAX9D0OeEIAcLmrPw54QgCQBGdBDnhCAIAaG0MOeEIAkKjSRA54QgAQt41GDnhCAMDSQUgOeEIA0Oz8SQ54QgAgybJLDnhCABByak0OeEIAQI4oTw54QgAgH+BQDnhCADAjkVIOeEIAUGdPVA54QgBg9wZWDnhCADDlt1cOeEIA0CZ2WQ54QgDQCCdbDnhCAECU3lwOeEIAIBKdXg54QgDwv01gDnhCAMBOBWIOeEIAECbEYw54QgDgH3VlDnhCABCsLGcOeEIAkA7raA54QgCwz5tqDnhCAADGS2wOeEIAwGIDbg54QgBgALtvDnhCAMCRcnEOeEIAEDYqcw54QgBg4eF0DnhCAJCCmXYOeEIAcCFReA54QgBAuAh6DnhCALB/wHsOeEIAQB14fQ54QgCwrC9/DnhCALA/54AOeEIAAOeegg54QgAAd1aEDnhCABAYDoYOeEIAYLHFhw54QgBwSn2JDnhCAODbNIsOeEIAkHPsjA54QgCQyKSODnhCACB9XJAOeEIAABQUkg54QgAwsMuTDnhCAEBUg5UOeEIAsPI6lw54QgDwmvKYDnhCAAAsqpoOeEIA4MVhnA54QgCQXRmeDnhCACAO0Z8OeEIAkMqKoQ54QgBwYkKjDnhCAED8+aQOeEIAMJ6xpg54QgDgNmmoDnhCAMD5HKoOeEIAYI7Yqw54QgBAGoytDnhCAKCmQ68OeEIA4Gj/sA54QgAg2LKyDnhCAJBparQOeEIAcGEmtg54QgAQ+923DnhCABCTlbkOeEIAAClNuw54QgAgugS9DnhCAIBtvL4OeEIAUEh0wA54QgAgAizCDnhCAFAx48MOeEIA8FSbxQ54QgDQsVPHDnhCALBNC8kOeEIAcInDyg54QgAQg3rMDnhCAOARMs4OeEIAgGbqzw54QgBQMKHRDnhCAHD8StMOeEIAwI0C1Q54QgBAKrrWDnhCAKC8cdgOeEI=\",\"dtype\":\"float64\",\"order\":\"little\",\"shape\":[100]}},\"selected\":{\"id\":\"3433\"},\"selection_policy\":{\"id\":\"3447\"}},\"id\":\"3432\",\"type\":\"ColumnDataSource\"},{\"attributes\":{\"coordinates\":null,\"group\":null,\"text\":\"Gas Trends for ETH, AVAX, BSC & POLY\",\"text_color\":\"black\",\"text_font_size\":\"12pt\"},\"id\":\"3397\",\"type\":\"Title\"},{\"attributes\":{\"axis_label\":\"Gas in gwei\",\"coordinates\":null,\"formatter\":{\"id\":\"3430\"},\"group\":null,\"major_label_policy\":{\"id\":\"3431\"},\"ticker\":{\"id\":\"3410\"}},\"id\":\"3409\",\"type\":\"LinearAxis\"},{\"attributes\":{\"data\":{\"Gas in gwei\":{\"__ndarray__\":\"9ihcj8JVSUCkcD0K14NCQLgehetRODhA9ihcj8K1OECamZmZmVk6QAAAAAAAgDVAj8L1KFzPMkCamZmZmdk4QArXo3A9ijhAuB6F61GYRkBcj8L1KNwvQPYoXI/ChVJAcT0K16OgUUBmZmZmZiZDQFyPwvUoXDBAKVyPwvXoN0BxPQrXozA1QFyPwvUoXCpA16NwPQpXKUBxPQrXo7AwQArXo3A9Ci9AZmZmZmbmMUD2KFyPwnU1QIXrUbgehThAPQrXo3A9OUCPwvUoXE83QAAAAAAAwDRAmpmZmZmZKUCF61G4HoUuQDMzMzMzsydAH4XrUbgeM0CPwvUoXA8sQNejcD0K1yZAXI/C9ShcMEAAAAAAAAAoQK5H4XoUrjVAKVyPwvWoMUDNzMzMzMwxQK5H4XoUri9AXI/C9ShcP0A9CtejcL1HQMP1KFyPwi9AAAAAAACAK0ApXI/C9Sg1QArXo3A9yjdAXI/C9SjcOEB7FK5H4XpBQD0K16Nw/TdASOF6FK5HL0BI4XoUroc1QMP1KFyPwjVAzczMzMxMLECF61G4HgU4QDMzMzMzMypACtejcD0KL0BxPQrXo3AxQI/C9ShczzJAj8L1KFzPM0DhehSuR3FQQMP1KFyPAjlAj8L1KFxPMUDD9Shcj8IrQM3MzMzMzCpAUrgehevRL0DD9Shcj0ImQJqZmZmZmSxA16NwPQpXP0D2KFyPwnUvQIXrUbgeBTVAmpmZmZnZMEDXo3A9ChczQBSuR+F6FCxAH4XrUbieJkA9CtejcL0pQHE9CtejcDpAPQrXo3A9KEBcj8L1KFwyQEjhehSuRyVAAAAAAAAAMEBmZmZmZmYyQB+F61G4HihAzczMzMwMNUAUrkfhetQxQKRwPQrXIz9AZmZmZmbmP0CamZmZmRkxQIXrUbgexTFAFK5H4XqUPEDsUbgehStKQGZmZmZmZjtAhetRuB5lQ0DhehSuRyEwQHsUrkfh+jhAuB6F61H4OUBmZmZmZuY0QFK4HoXr0SdAPQrXo3A9MUDsUbgehSs/QNejcD0K90JAKVyPwvUoNEA=\",\"dtype\":\"float64\",\"order\":\"little\",\"shape\":[100]},\"Gas_in_gwei\":{\"__ndarray__\":\"9ihcj8JVSUCkcD0K14NCQLgehetRODhA9ihcj8K1OECamZmZmVk6QAAAAAAAgDVAj8L1KFzPMkCamZmZmdk4QArXo3A9ijhAuB6F61GYRkBcj8L1KNwvQPYoXI/ChVJAcT0K16OgUUBmZmZmZiZDQFyPwvUoXDBAKVyPwvXoN0BxPQrXozA1QFyPwvUoXCpA16NwPQpXKUBxPQrXo7AwQArXo3A9Ci9AZmZmZmbmMUD2KFyPwnU1QIXrUbgehThAPQrXo3A9OUCPwvUoXE83QAAAAAAAwDRAmpmZmZmZKUCF61G4HoUuQDMzMzMzsydAH4XrUbgeM0CPwvUoXA8sQNejcD0K1yZAXI/C9ShcMEAAAAAAAAAoQK5H4XoUrjVAKVyPwvWoMUDNzMzMzMwxQK5H4XoUri9AXI/C9ShcP0A9CtejcL1HQMP1KFyPwi9AAAAAAACAK0ApXI/C9Sg1QArXo3A9yjdAXI/C9SjcOEB7FK5H4XpBQD0K16Nw/TdASOF6FK5HL0BI4XoUroc1QMP1KFyPwjVAzczMzMxMLECF61G4HgU4QDMzMzMzMypACtejcD0KL0BxPQrXo3AxQI/C9ShczzJAj8L1KFzPM0DhehSuR3FQQMP1KFyPAjlAj8L1KFxPMUDD9Shcj8IrQM3MzMzMzCpAUrgehevRL0DD9Shcj0ImQJqZmZmZmSxA16NwPQpXP0D2KFyPwnUvQIXrUbgeBTVAmpmZmZnZMEDXo3A9ChczQBSuR+F6FCxAH4XrUbieJkA9CtejcL0pQHE9CtejcDpAPQrXo3A9KEBcj8L1KFwyQEjhehSuRyVAAAAAAAAAMEBmZmZmZmYyQB+F61G4HihAzczMzMwMNUAUrkfhetQxQKRwPQrXIz9AZmZmZmbmP0CamZmZmRkxQIXrUbgexTFAFK5H4XqUPEDsUbgehStKQGZmZmZmZjtAhetRuB5lQ0DhehSuRyEwQHsUrkfh+jhAuB6F61H4OUBmZmZmZuY0QFK4HoXr0SdAPQrXo3A9MUDsUbgehSs/QNejcD0K90JAKVyPwvUoNEA=\",\"dtype\":\"float64\",\"order\":\"little\",\"shape\":[100]},\"Variable\":[\"ETH\",\"ETH\",\"ETH\",\"ETH\",\"ETH\",\"ETH\",\"ETH\",\"ETH\",\"ETH\",\"ETH\",\"ETH\",\"ETH\",\"ETH\",\"ETH\",\"ETH\",\"ETH\",\"ETH\",\"ETH\",\"ETH\",\"ETH\",\"ETH\",\"ETH\",\"ETH\",\"ETH\",\"ETH\",\"ETH\",\"ETH\",\"ETH\",\"ETH\",\"ETH\",\"ETH\",\"ETH\",\"ETH\",\"ETH\",\"ETH\",\"ETH\",\"ETH\",\"ETH\",\"ETH\",\"ETH\",\"ETH\",\"ETH\",\"ETH\",\"ETH\",\"ETH\",\"ETH\",\"ETH\",\"ETH\",\"ETH\",\"ETH\",\"ETH\",\"ETH\",\"ETH\",\"ETH\",\"ETH\",\"ETH\",\"ETH\",\"ETH\",\"ETH\",\"ETH\",\"ETH\",\"ETH\",\"ETH\",\"ETH\",\"ETH\",\"ETH\",\"ETH\",\"ETH\",\"ETH\",\"ETH\",\"ETH\",\"ETH\",\"ETH\",\"ETH\",\"ETH\",\"ETH\",\"ETH\",\"ETH\",\"ETH\",\"ETH\",\"ETH\",\"ETH\",\"ETH\",\"ETH\",\"ETH\",\"ETH\",\"ETH\",\"ETH\",\"ETH\",\"ETH\",\"ETH\",\"ETH\",\"ETH\",\"ETH\",\"ETH\",\"ETH\",\"ETH\",\"ETH\",\"ETH\",\"ETH\"],\"timestamp\":{\"__ndarray__\":\"AEBwgi4OeEIA4EQ6MA54QgCgEPIxDnhCANDTqTMOeEIAYHhhNQ54QgCwGBk3DnhCALBszDgOeEIAoP6DOg54QgDgBUA8DnhCAHAX9D0OeEIAcLmrPw54QgCQBGdBDnhCAIAaG0MOeEIAkKjSRA54QgAQt41GDnhCAMDSQUgOeEIA0Oz8SQ54QgAgybJLDnhCABByak0OeEIAQI4oTw54QgAgH+BQDnhCADAjkVIOeEIAUGdPVA54QgBg9wZWDnhCADDlt1cOeEIA0CZ2WQ54QgDQCCdbDnhCAECU3lwOeEIAIBKdXg54QgDwv01gDnhCAMBOBWIOeEIAECbEYw54QgDgH3VlDnhCABCsLGcOeEIAkA7raA54QgCwz5tqDnhCAADGS2wOeEIAwGIDbg54QgBgALtvDnhCAMCRcnEOeEIAEDYqcw54QgBg4eF0DnhCAJCCmXYOeEIAcCFReA54QgBAuAh6DnhCALB/wHsOeEIAQB14fQ54QgCwrC9/DnhCALA/54AOeEIAAOeegg54QgAAd1aEDnhCABAYDoYOeEIAYLHFhw54QgBwSn2JDnhCAODbNIsOeEIAkHPsjA54QgCQyKSODnhCACB9XJAOeEIAABQUkg54QgAwsMuTDnhCAEBUg5UOeEIAsPI6lw54QgDwmvKYDnhCAAAsqpoOeEIA4MVhnA54QgCQXRmeDnhCACAO0Z8OeEIAkMqKoQ54QgBwYkKjDnhCAED8+aQOeEIAMJ6xpg54QgDgNmmoDnhCAMD5HKoOeEIAYI7Yqw54QgBAGoytDnhCAKCmQ68OeEIA4Gj/sA54QgAg2LKyDnhCAJBparQOeEIAcGEmtg54QgAQ+923DnhCABCTlbkOeEIAAClNuw54QgAgugS9DnhCAIBtvL4OeEIAUEh0wA54QgAgAizCDnhCAFAx48MOeEIA8FSbxQ54QgDQsVPHDnhCALBNC8kOeEIAcInDyg54QgAQg3rMDnhCAOARMs4OeEIAgGbqzw54QgBQMKHRDnhCAHD8StMOeEIAwI0C1Q54QgBAKrrWDnhCAKC8cdgOeEI=\",\"dtype\":\"float64\",\"order\":\"little\",\"shape\":[100]}},\"selected\":{\"id\":\"3466\"},\"selection_policy\":{\"id\":\"3482\"}},\"id\":\"3465\",\"type\":\"ColumnDataSource\"},{\"attributes\":{\"source\":{\"id\":\"3432\"}},\"id\":\"3439\",\"type\":\"CDSView\"},{\"attributes\":{\"margin\":[5,5,5,5],\"name\":\"HSpacer05063\",\"sizing_mode\":\"stretch_width\"},\"id\":\"3883\",\"type\":\"Spacer\"},{\"attributes\":{\"line_alpha\":0.1,\"line_color\":\"red\",\"line_width\":2,\"x\":{\"field\":\"timestamp\"},\"y\":{\"field\":\"Gas in gwei\"}},\"id\":\"3503\",\"type\":\"Line\"},{\"attributes\":{\"base\":24,\"mantissas\":[1,2,4,6,8,12],\"max_interval\":43200000.0,\"min_interval\":3600000.0,\"num_minor_ticks\":0},\"id\":\"3452\",\"type\":\"AdaptiveTicker\"},{\"attributes\":{},\"id\":\"3415\",\"type\":\"WheelZoomTool\"},{\"attributes\":{},\"id\":\"3500\",\"type\":\"Selection\"},{\"attributes\":{\"bottom_units\":\"screen\",\"coordinates\":null,\"fill_alpha\":0.5,\"fill_color\":\"lightgrey\",\"group\":null,\"left_units\":\"screen\",\"level\":\"overlay\",\"line_alpha\":1.0,\"line_color\":\"black\",\"line_dash\":[4,4],\"line_width\":2,\"right_units\":\"screen\",\"syncable\":false,\"top_units\":\"screen\"},\"id\":\"3418\",\"type\":\"BoxAnnotation\"},{\"attributes\":{\"days\":[1,2,3,4,5,6,7,8,9,10,11,12,13,14,15,16,17,18,19,20,21,22,23,24,25,26,27,28,29,30,31]},\"id\":\"3453\",\"type\":\"DaysTicker\"},{\"attributes\":{\"line_width\":2,\"x\":{\"field\":\"timestamp\"},\"y\":{\"field\":\"Gas in gwei\"}},\"id\":\"3435\",\"type\":\"Line\"},{\"attributes\":{\"line_alpha\":0.2,\"line_color\":\"red\",\"line_width\":2,\"x\":{\"field\":\"timestamp\"},\"y\":{\"field\":\"Gas in gwei\"}},\"id\":\"3504\",\"type\":\"Line\"},{\"attributes\":{\"days\":[1,4,7,10,13,16,19,22,25,28]},\"id\":\"3454\",\"type\":\"DaysTicker\"},{\"attributes\":{\"line_color\":\"gold\",\"line_width\":2,\"x\":{\"field\":\"timestamp\"},\"y\":{\"field\":\"Gas in gwei\"}},\"id\":\"3538\",\"type\":\"Line\"},{\"attributes\":{\"days\":[1,8,15,22]},\"id\":\"3455\",\"type\":\"DaysTicker\"},{\"attributes\":{\"days\":[1,15]},\"id\":\"3456\",\"type\":\"DaysTicker\"},{\"attributes\":{\"line_alpha\":0.1,\"line_color\":\"gold\",\"line_width\":2,\"x\":{\"field\":\"timestamp\"},\"y\":{\"field\":\"Gas in gwei\"}},\"id\":\"3539\",\"type\":\"Line\"},{\"attributes\":{\"data\":{\"Gas in gwei\":{\"__ndarray__\":\"rkfhehSuREDXo3A9CldOQKRwPQrXo0FA16NwPQp3QEDNzMzMzAxFQAAAAAAAAERAhetRuB7FQEBSuB6F6xE/QD0K16NwvUBA9ihcj8J1QUAAAAAAAIBLQAAAAAAAAERAUrgehesxRUBmZmZmZmZDQClcj8L1KD9APQrXo3B9QEDsUbgehctCQFK4HoXrET9ACtejcD1qQkAAAAAAAABEQAAAAAAAgEtAcT0K16OwQ0A9CtejcH1AQAAAAAAAAERAPQrXo3C9PkBxPQrXo7BBQAAAAAAAAERA7FG4HoVrPkCamZmZmflAQArXo3A9CkJAXI/C9ShcP0AAAAAAAAA/QClcj8L1CElAcT0K16MwQUBmZmZmZuY/QAAAAAAAAENAAAAAAAAAQEA9CtejcF1CQD0K16NwvT5AH4XrUbgeQUAAAAAAAABEQAAAAAAAAEBA16NwPQpXRkAK16NwPYpDQAAAAAAAgEFAZmZmZmYmQUCamZmZmRk+QPYoXI/CVUFAzczMzMwMSkAAAAAAAIBFQDMzMzMzg1JAAAAAAAAASUAfhetRuL5AQJqZmZmZOUFAXI/C9ShcP0AAAAAAAAA/QM3MzMzMDEFAAAAAAAAAQkAzMzMzMzNEQAAAAAAAAERAmpmZmZn5QEDsUbgehYtAQClcj8L1KD9AmpmZmZm5QECF61G4HsVAQEjhehSup0NAAAAAAACASEBSuB6F6xE+QK5H4XoUzkBAuB6F61F4RUAAAAAAAAA/QHE9CtejsEFAAAAAAACAQEBxPQrXo3A/QAAAAAAAAERAmpmZmZk5QEDXo3A9ChdOQArXo3A9Cj9AcT0K16NQQUBcj8L1KBw+QArXo3A9ikBA7FG4HoWrPkAK16NwPYpAQHE9CtejcD5AmpmZmZmZQ0DsUbgehas/QAAAAAAAAD9AhetRuB7FR0AzMzMzM/NIQDMzMzMzsz5AAAAAAAAAREAAAAAAAIBBQM3MzMzMDEpArkfhehQOQkCF61G4HoU/QJqZmZmZWUFAAAAAAAAAQkBxPQrXo1BAQAAAAAAAAERA4XoUrkehQkA=\",\"dtype\":\"float64\",\"order\":\"little\",\"shape\":[100]},\"Gas_in_gwei\":{\"__ndarray__\":\"rkfhehSuREDXo3A9CldOQKRwPQrXo0FA16NwPQp3QEDNzMzMzAxFQAAAAAAAAERAhetRuB7FQEBSuB6F6xE/QD0K16NwvUBA9ihcj8J1QUAAAAAAAIBLQAAAAAAAAERAUrgehesxRUBmZmZmZmZDQClcj8L1KD9APQrXo3B9QEDsUbgehctCQFK4HoXrET9ACtejcD1qQkAAAAAAAABEQAAAAAAAgEtAcT0K16OwQ0A9CtejcH1AQAAAAAAAAERAPQrXo3C9PkBxPQrXo7BBQAAAAAAAAERA7FG4HoVrPkCamZmZmflAQArXo3A9CkJAXI/C9ShcP0AAAAAAAAA/QClcj8L1CElAcT0K16MwQUBmZmZmZuY/QAAAAAAAAENAAAAAAAAAQEA9CtejcF1CQD0K16NwvT5AH4XrUbgeQUAAAAAAAABEQAAAAAAAAEBA16NwPQpXRkAK16NwPYpDQAAAAAAAgEFAZmZmZmYmQUCamZmZmRk+QPYoXI/CVUFAzczMzMwMSkAAAAAAAIBFQDMzMzMzg1JAAAAAAAAASUAfhetRuL5AQJqZmZmZOUFAXI/C9ShcP0AAAAAAAAA/QM3MzMzMDEFAAAAAAAAAQkAzMzMzMzNEQAAAAAAAAERAmpmZmZn5QEDsUbgehYtAQClcj8L1KD9AmpmZmZm5QECF61G4HsVAQEjhehSup0NAAAAAAACASEBSuB6F6xE+QK5H4XoUzkBAuB6F61F4RUAAAAAAAAA/QHE9CtejsEFAAAAAAACAQEBxPQrXo3A/QAAAAAAAAERAmpmZmZk5QEDXo3A9ChdOQArXo3A9Cj9AcT0K16NQQUBcj8L1KBw+QArXo3A9ikBA7FG4HoWrPkAK16NwPYpAQHE9CtejcD5AmpmZmZmZQ0DsUbgehas/QAAAAAAAAD9AhetRuB7FR0AzMzMzM/NIQDMzMzMzsz5AAAAAAAAAREAAAAAAAIBBQM3MzMzMDEpArkfhehQOQkCF61G4HoU/QJqZmZmZWUFAAAAAAAAAQkBxPQrXo1BAQAAAAAAAAERA4XoUrkehQkA=\",\"dtype\":\"float64\",\"order\":\"little\",\"shape\":[100]},\"Variable\":[\"POLY\",\"POLY\",\"POLY\",\"POLY\",\"POLY\",\"POLY\",\"POLY\",\"POLY\",\"POLY\",\"POLY\",\"POLY\",\"POLY\",\"POLY\",\"POLY\",\"POLY\",\"POLY\",\"POLY\",\"POLY\",\"POLY\",\"POLY\",\"POLY\",\"POLY\",\"POLY\",\"POLY\",\"POLY\",\"POLY\",\"POLY\",\"POLY\",\"POLY\",\"POLY\",\"POLY\",\"POLY\",\"POLY\",\"POLY\",\"POLY\",\"POLY\",\"POLY\",\"POLY\",\"POLY\",\"POLY\",\"POLY\",\"POLY\",\"POLY\",\"POLY\",\"POLY\",\"POLY\",\"POLY\",\"POLY\",\"POLY\",\"POLY\",\"POLY\",\"POLY\",\"POLY\",\"POLY\",\"POLY\",\"POLY\",\"POLY\",\"POLY\",\"POLY\",\"POLY\",\"POLY\",\"POLY\",\"POLY\",\"POLY\",\"POLY\",\"POLY\",\"POLY\",\"POLY\",\"POLY\",\"POLY\",\"POLY\",\"POLY\",\"POLY\",\"POLY\",\"POLY\",\"POLY\",\"POLY\",\"POLY\",\"POLY\",\"POLY\",\"POLY\",\"POLY\",\"POLY\",\"POLY\",\"POLY\",\"POLY\",\"POLY\",\"POLY\",\"POLY\",\"POLY\",\"POLY\",\"POLY\",\"POLY\",\"POLY\",\"POLY\",\"POLY\",\"POLY\",\"POLY\",\"POLY\",\"POLY\"],\"timestamp\":{\"__ndarray__\":\"AEBwgi4OeEIA4EQ6MA54QgCgEPIxDnhCANDTqTMOeEIAYHhhNQ54QgCwGBk3DnhCALBszDgOeEIAoP6DOg54QgDgBUA8DnhCAHAX9D0OeEIAcLmrPw54QgCQBGdBDnhCAIAaG0MOeEIAkKjSRA54QgAQt41GDnhCAMDSQUgOeEIA0Oz8SQ54QgAgybJLDnhCABByak0OeEIAQI4oTw54QgAgH+BQDnhCADAjkVIOeEIAUGdPVA54QgBg9wZWDnhCADDlt1cOeEIA0CZ2WQ54QgDQCCdbDnhCAECU3lwOeEIAIBKdXg54QgDwv01gDnhCAMBOBWIOeEIAECbEYw54QgDgH3VlDnhCABCsLGcOeEIAkA7raA54QgCwz5tqDnhCAADGS2wOeEIAwGIDbg54QgBgALtvDnhCAMCRcnEOeEIAEDYqcw54QgBg4eF0DnhCAJCCmXYOeEIAcCFReA54QgBAuAh6DnhCALB/wHsOeEIAQB14fQ54QgCwrC9/DnhCALA/54AOeEIAAOeegg54QgAAd1aEDnhCABAYDoYOeEIAYLHFhw54QgBwSn2JDnhCAODbNIsOeEIAkHPsjA54QgCQyKSODnhCACB9XJAOeEIAABQUkg54QgAwsMuTDnhCAEBUg5UOeEIAsPI6lw54QgDwmvKYDnhCAAAsqpoOeEIA4MVhnA54QgCQXRmeDnhCACAO0Z8OeEIAkMqKoQ54QgBwYkKjDnhCAED8+aQOeEIAMJ6xpg54QgDgNmmoDnhCAMD5HKoOeEIAYI7Yqw54QgBAGoytDnhCAKCmQ68OeEIA4Gj/sA54QgAg2LKyDnhCAJBparQOeEIAcGEmtg54QgAQ+923DnhCABCTlbkOeEIAAClNuw54QgAgugS9DnhCAIBtvL4OeEIAUEh0wA54QgAgAizCDnhCAFAx48MOeEIA8FSbxQ54QgDQsVPHDnhCALBNC8kOeEIAcInDyg54QgAQg3rMDnhCAOARMs4OeEIAgGbqzw54QgBQMKHRDnhCAHD8StMOeEIAwI0C1Q54QgBAKrrWDnhCAKC8cdgOeEI=\",\"dtype\":\"float64\",\"order\":\"little\",\"shape\":[100]}},\"selected\":{\"id\":\"3574\"},\"selection_policy\":{\"id\":\"3596\"}},\"id\":\"3573\",\"type\":\"ColumnDataSource\"},{\"attributes\":{\"months\":[0,1,2,3,4,5,6,7,8,9,10,11]},\"id\":\"3457\",\"type\":\"MonthsTicker\"},{\"attributes\":{\"end\":1653252496329.9998,\"reset_end\":1653252496329.9998,\"reset_start\":1653074306820.0,\"start\":1653074306820.0,\"tags\":[[[\"timestamp\",\"timestamp\",null]]]},\"id\":\"3389\",\"type\":\"Range1d\"},{\"attributes\":{\"months\":[0,2,4,6,8,10]},\"id\":\"3458\",\"type\":\"MonthsTicker\"},{\"attributes\":{\"months\":[0,6]},\"id\":\"3460\",\"type\":\"MonthsTicker\"},{\"attributes\":{\"months\":[0,4,8]},\"id\":\"3459\",\"type\":\"MonthsTicker\"}],\"root_ids\":[\"3387\"]},\"title\":\"Bokeh Application\",\"version\":\"2.4.1\"}};\n",
       "    var render_items = [{\"docid\":\"228d4c0c-d9dc-4012-b43b-816f09444dfb\",\"root_ids\":[\"3387\"],\"roots\":{\"3387\":\"c0701ec9-2041-4089-a4a2-7c08d815cf61\"}}];\n",
       "    root.Bokeh.embed.embed_items_notebook(docs_json, render_items);\n",
       "  }\n",
       "  if (root.Bokeh !== undefined && root.Bokeh.Panel !== undefined) {\n",
       "    embed_document(root);\n",
       "  } else {\n",
       "    var attempts = 0;\n",
       "    var timer = setInterval(function(root) {\n",
       "      if (root.Bokeh !== undefined && root.Bokeh.Panel !== undefined) {\n",
       "        clearInterval(timer);\n",
       "        embed_document(root);\n",
       "      } else if (document.readyState == \"complete\") {\n",
       "        attempts++;\n",
       "        if (attempts > 200) {\n",
       "          clearInterval(timer);\n",
       "          console.log(\"Bokeh: ERROR: Unable to run BokehJS code because BokehJS library is missing\");\n",
       "        }\n",
       "      }\n",
       "    }, 25, root)\n",
       "  }\n",
       "})(window);</script>"
      ],
      "text/plain": [
       ":NdOverlay   [Variable]\n",
       "   :Curve   [timestamp]   (Gas in gwei)"
      ]
     },
     "execution_count": 58,
     "metadata": {
      "application/vnd.holoviews_exec.v0+json": {
       "id": "3387"
      }
     },
     "output_type": "execute_result"
    }
   ],
   "source": [
    "eth_historic_gas_url = f\"https://owlracle.info/eth/history\"\n",
    "eth_historic_gas_response = requests.get(eth_historic_gas_url).json()\n",
    "eth_df = pd.DataFrame(eth_historic_gas_response)\n",
    "eth_df = eth_df[['timestamp', 'gasPrice']]\n",
    "timeframe = eth_df['timestamp']\n",
    "gas_stats_eth = []\n",
    "for row in eth_df['gasPrice']:\n",
    "    gas_stats_eth.append(row['close'])\n",
    "gas_df = pd.DataFrame(gas_stats_eth)\n",
    "gas_df['ETH'] = gas_df\n",
    "index = pd.to_datetime(timeframe.astype(str))\n",
    "gas_df.index = index\n",
    "\n",
    "avax_historic_gas_url = f\"https://owlracle.info/avax/history\"\n",
    "avax_historic_gas_response = requests.get(avax_historic_gas_url).json()\n",
    "avax_df = pd.DataFrame(avax_historic_gas_response)\n",
    "avax_df = avax_df[['timestamp', 'gasPrice']]\n",
    "timeframe = avax_df['timestamp']\n",
    "gas_stats_avax = []\n",
    "for row in avax_df['gasPrice']:\n",
    "    gas_stats_avax.append(row['close'])\n",
    "gas_df['AVAX'] = gas_stats_avax\n",
    "index = pd.to_datetime(timeframe.astype(str))\n",
    "gas_df.index = index\n",
    "\n",
    "bsc_historic_gas_url = f\"https://owlracle.info/bsc/history\"\n",
    "bsc_historic_gas_response = requests.get(bsc_historic_gas_url).json()\n",
    "bsc_df = pd.DataFrame(bsc_historic_gas_response)\n",
    "bsf_df = bsc_df[['timestamp', 'gasPrice']]\n",
    "timeframe = bsc_df['timestamp']\n",
    "gas_stats_bsc = []\n",
    "for row in bsc_df['gasPrice']:\n",
    "    gas_stats_bsc.append(row['close'])\n",
    "gas_df['BSC'] = gas_stats_bsc\n",
    "index = pd.to_datetime(timeframe.astype(str))\n",
    "gas_df.index = index\n",
    "\n",
    "poly_historic_gas_url = f\"https://owlracle.info/poly/history\"\n",
    "poly_historic_gas_response = requests.get(poly_historic_gas_url).json()\n",
    "poly_df = pd.DataFrame(poly_historic_gas_response)\n",
    "poly_df = poly_df[['timestamp', 'gasPrice']]\n",
    "timeframe = poly_df['timestamp']\n",
    "gas_stats_poly = []\n",
    "for row in poly_df['gasPrice']:\n",
    "    gas_stats_poly.append(row['close'])\n",
    "gas_df['POLY'] = gas_stats_poly\n",
    "index = pd.to_datetime(timeframe.astype(str))\n",
    "gas_df.index = index\n",
    "\n",
    "gas_df.hvplot(title='Gas Trends for ETH, AVAX, BSC & POLY', value_label='Gas in gwei', legend='top', height=500, width=700, color=['black','black','red','gold','purple'])"
   ]
  },
  {
   "cell_type": "code",
   "execution_count": null,
   "id": "cbccca1a-38e3-4e7e-92d2-13ab0fdbcc6a",
   "metadata": {
    "tags": []
   },
   "outputs": [],
   "source": [
    "# ETH Gas Price History\n",
    "eth_historic_gas_url = f\"https://owlracle.info/eth/history\"\n",
    "eth_historic_gas_response = requests.get(eth_historic_gas_url).json()\n",
    "print(json.dumps(eth_historic_gas_response, indent=3))"
   ]
  },
  {
   "cell_type": "code",
   "execution_count": null,
   "id": "e42bc06f-d492-4455-8ef4-b104de08b010",
   "metadata": {
    "tags": []
   },
   "outputs": [],
   "source": [
    "# AVAX Gas Price History\n",
    "avax_historic_gas_url = f\"https://owlracle.info/avax/history\"\n",
    "avax_historic_gas_response = requests.get(avax_historic_gas_url).json()\n",
    "print(json.dumps(avax_historic_gas_response, indent=3))"
   ]
  },
  {
   "cell_type": "code",
   "execution_count": null,
   "id": "6018b68a-23c8-4ff7-ada6-a86a7da685fd",
   "metadata": {
    "tags": []
   },
   "outputs": [],
   "source": [
    "# BNB Gas Price History\n",
    "bsc_historic_gas_url = f\"https://owlracle.info/bsc/history\"\n",
    "bsc_historic_gas_response = requests.get(bsc_historic_gas_url).json()\n",
    "print(json.dumps(bsc_historic_gas_response, indent=3))"
   ]
  },
  {
   "cell_type": "code",
   "execution_count": null,
   "id": "71444239-9a8f-402d-89e4-7af2b5315560",
   "metadata": {
    "tags": []
   },
   "outputs": [],
   "source": [
    "# Polygon Gas Price History\n",
    "poly_historic_gas_url = f\"https://owlracle.info/poly/history\"\n",
    "poly_historic_gas_response = requests.get(poly_historic_gas_url).json()\n",
    "print(json.dumps(poly_historic_gas_response, indent=3))"
   ]
  },
  {
   "cell_type": "code",
   "execution_count": null,
   "id": "5c2f1ac0-a0e4-4645-b7f1-2dc9c700219d",
   "metadata": {
    "tags": []
   },
   "outputs": [],
   "source": [
    "eth_historic_gas_response"
   ]
  },
  {
   "cell_type": "code",
   "execution_count": null,
   "id": "ab4ea65c-0341-4171-90ee-9bee685e827b",
   "metadata": {},
   "outputs": [],
   "source": []
  },
  {
   "cell_type": "code",
   "execution_count": null,
   "id": "ce9cb16d-cd5a-42c2-b658-a96a6dd56916",
   "metadata": {},
   "outputs": [],
   "source": [
    "eth_gas_history_df = pd.DataFrame(eth_historic_gas_response)"
   ]
  },
  {
   "cell_type": "code",
   "execution_count": null,
   "id": "060a5fa8-b08f-48cd-a90a-25569827c248",
   "metadata": {
    "tags": []
   },
   "outputs": [],
   "source": [
    "close = []\n",
    "for row in eth_gas_history_df['gasPrice']:\n",
    "    close.append(row['close'])\n",
    "close"
   ]
  },
  {
   "cell_type": "code",
   "execution_count": null,
   "id": "536165a7-1cb4-41d6-912f-3a145b925092",
   "metadata": {},
   "outputs": [],
   "source": [
    "eth_gas_price_df = eth_gas_history_df[[\"timestamp\",\"gasPrice\"]]"
   ]
  },
  {
   "cell_type": "code",
   "execution_count": null,
   "id": "9d1e5b15-d7b2-4f56-8dee-a1b3f0f08444",
   "metadata": {
    "tags": []
   },
   "outputs": [],
   "source": [
    "eth_gas_price_df"
   ]
  },
  {
   "cell_type": "code",
   "execution_count": null,
   "id": "3995c7e6-6e55-425f-863c-104d06805794",
   "metadata": {
    "tags": []
   },
   "outputs": [],
   "source": [
    "eth_gas_price_df[\"gasPrice\"]"
   ]
  },
  {
   "cell_type": "code",
   "execution_count": null,
   "id": "23fd6c20-de58-4132-a9f2-cf997964e57e",
   "metadata": {},
   "outputs": [],
   "source": [
    "eth_gas_stats = []\n",
    "for row in eth_gas_price_df[\"gasPrice\"]:\n",
    "    eth_gas_stats.append(pd.Series(row))    "
   ]
  },
  {
   "cell_type": "code",
   "execution_count": null,
   "id": "8b31aa19-490f-45d5-89c7-3a0e9a8448cd",
   "metadata": {},
   "outputs": [],
   "source": [
    "eth_gas_stats_df = pd.DataFrame(eth_gas_stats)"
   ]
  },
  {
   "cell_type": "code",
   "execution_count": null,
   "id": "b74faf59-b1e7-43fd-ba78-b4536913ee71",
   "metadata": {},
   "outputs": [],
   "source": [
    "eth_gas_close_df = eth_gas_stats_df.drop(columns=[\"open\",\"low\",\"high\"])"
   ]
  },
  {
   "cell_type": "code",
   "execution_count": null,
   "id": "73f079f4-d255-4460-8cf2-d327079b9de0",
   "metadata": {},
   "outputs": [],
   "source": [
    "eth_gas_close_df.plot.line(\n",
    "    color=\"purple\",\n",
    "    title=\"Average daily ETH gas prices in gwei\",\n",
    "    rot=90\n",
    ")    "
   ]
  },
  {
   "cell_type": "code",
   "execution_count": null,
   "id": "c044697f-2fa6-41e6-bc23-58329f811643",
   "metadata": {},
   "outputs": [],
   "source": [
    "avax_gas_history_df = pd.DataFrame(avax_historic_gas_response)"
   ]
  },
  {
   "cell_type": "code",
   "execution_count": null,
   "id": "35473ce9-3c8e-4cc3-bd85-696a20606faa",
   "metadata": {
    "tags": []
   },
   "outputs": [],
   "source": [
    "avax_gas_history_df"
   ]
  },
  {
   "cell_type": "code",
   "execution_count": null,
   "id": "5a951552-2027-4902-9d90-dae06159a78e",
   "metadata": {},
   "outputs": [],
   "source": [
    "avax_gas_price_df = avax_gas_history_df[[\"timestamp\",\"gasPrice\"]]"
   ]
  },
  {
   "cell_type": "code",
   "execution_count": null,
   "id": "626119cf-f53a-4355-b969-22634d6ae46a",
   "metadata": {
    "tags": []
   },
   "outputs": [],
   "source": [
    "avax_gas_price_df"
   ]
  },
  {
   "cell_type": "code",
   "execution_count": null,
   "id": "beb1ddaf-c267-4018-8c19-49881c17fa94",
   "metadata": {
    "tags": []
   },
   "outputs": [],
   "source": [
    "avax_gas_price_df[\"gasPrice\"]"
   ]
  },
  {
   "cell_type": "code",
   "execution_count": null,
   "id": "4fbd4645-7b67-4582-9f22-b32130fe69af",
   "metadata": {},
   "outputs": [],
   "source": [
    "avax_gas_stats = []\n",
    "for close in avax_gas_price_df[\"gasPrice\"]:\n",
    "    avax_gas_stats.append(pd.Series(close))  "
   ]
  },
  {
   "cell_type": "code",
   "execution_count": null,
   "id": "651d5197-1446-4d31-901b-e0171542ceb8",
   "metadata": {},
   "outputs": [],
   "source": [
    "avax_gas_stats_df = pd.DataFrame(avax_gas_stats)"
   ]
  },
  {
   "cell_type": "code",
   "execution_count": null,
   "id": "3cf4d293-e09e-4897-95dd-472fe93f0665",
   "metadata": {},
   "outputs": [],
   "source": [
    "avax_gas_close_df = avax_gas_stats_df.drop(columns=[\"open\",\"low\",\"high\"])"
   ]
  },
  {
   "cell_type": "code",
   "execution_count": null,
   "id": "4e93315a-342a-4a56-bd77-c4412f3dbcf5",
   "metadata": {},
   "outputs": [],
   "source": [
    "avax_gas_close_df.plot.line(\n",
    "    color=\"blue\",\n",
    "    title=\"Average daily AVAX gas prices in gwei\",\n",
    "    rot=90\n",
    ") "
   ]
  },
  {
   "cell_type": "code",
   "execution_count": null,
   "id": "ed8d124d-f830-426d-9a42-e3b39c46dbe4",
   "metadata": {},
   "outputs": [],
   "source": [
    "bsc_historic_gas_response"
   ]
  },
  {
   "cell_type": "code",
   "execution_count": null,
   "id": "b14653ca-03ec-4225-8e14-8279dbe8d296",
   "metadata": {},
   "outputs": [],
   "source": [
    "bsc_gas_history_df = pd.DataFrame(bsc_historic_gas_response)"
   ]
  },
  {
   "cell_type": "code",
   "execution_count": null,
   "id": "8204237d-0d03-49a6-9683-b7820a476707",
   "metadata": {
    "tags": []
   },
   "outputs": [],
   "source": [
    "bsc_gas_history_df"
   ]
  },
  {
   "cell_type": "code",
   "execution_count": null,
   "id": "beb4be35-867f-4254-a5e6-72a395c44e0b",
   "metadata": {},
   "outputs": [],
   "source": [
    "bsc_gas_price_df = bsc_gas_history_df[[\"timestamp\",\"gasPrice\"]]"
   ]
  },
  {
   "cell_type": "code",
   "execution_count": null,
   "id": "f8b3bc93-a7e2-44be-82ec-6ed6f4a2a2bb",
   "metadata": {
    "tags": []
   },
   "outputs": [],
   "source": [
    "bsc_gas_price_df"
   ]
  },
  {
   "cell_type": "code",
   "execution_count": null,
   "id": "85c8e091-4731-49e0-bc76-f9e6009a30d6",
   "metadata": {},
   "outputs": [],
   "source": [
    "timeframe = bsc_gas_price_df[\"timestamp\"]"
   ]
  },
  {
   "cell_type": "code",
   "execution_count": null,
   "id": "6561838f-a2c7-4810-af20-2013a9341e00",
   "metadata": {},
   "outputs": [],
   "source": [
    "DateTime = pd.to_datetime(timeframe.astype(str))"
   ]
  },
  {
   "cell_type": "code",
   "execution_count": null,
   "id": "c4b47089-c3fd-483f-9d4d-c5f96894b3eb",
   "metadata": {
    "tags": []
   },
   "outputs": [],
   "source": [
    "DateTime"
   ]
  },
  {
   "cell_type": "code",
   "execution_count": null,
   "id": "092d392b-e731-4761-beb7-a63dd91f281f",
   "metadata": {
    "tags": []
   },
   "outputs": [],
   "source": [
    "bsc_gas_price_df[\"gasPrice\"]"
   ]
  },
  {
   "cell_type": "code",
   "execution_count": null,
   "id": "295044e5-bc17-4e78-ba0a-d540fa90b8ed",
   "metadata": {},
   "outputs": [],
   "source": [
    "bsc_gas_stats = []\n",
    "for close in bsc_gas_price_df[\"gasPrice\"]:\n",
    "    bsc_gas_stats.append(pd.Series(close)) "
   ]
  },
  {
   "cell_type": "code",
   "execution_count": null,
   "id": "2ba61fd3-c66a-477c-8117-2aee96974e6b",
   "metadata": {},
   "outputs": [],
   "source": [
    "bsc_gas_stats_df = pd.DataFrame(bsc_gas_stats)"
   ]
  },
  {
   "cell_type": "code",
   "execution_count": null,
   "id": "b888bc0e-eeb7-417e-a1c7-8c68800e9c9c",
   "metadata": {},
   "outputs": [],
   "source": [
    "bsc_gas_close_df = bsc_gas_stats_df.drop(columns=[\"open\",\"low\",\"high\"])"
   ]
  },
  {
   "cell_type": "code",
   "execution_count": null,
   "id": "65b8e372-e247-4bf6-a55f-42e2ed1598ec",
   "metadata": {
    "tags": []
   },
   "outputs": [],
   "source": [
    "bsc_gas_close_df.plot.line(\n",
    "    color=\"green\",\n",
    "    title=\"Average daily BNB gas prices in gwei\",\n",
    "    rot=90\n",
    ") "
   ]
  },
  {
   "cell_type": "code",
   "execution_count": null,
   "id": "fe6f50ea-9bfb-4c9a-85bc-14cab4f0ebc7",
   "metadata": {},
   "outputs": [],
   "source": [
    "poly_gas_history_df = pd.DataFrame(poly_historic_gas_response)"
   ]
  },
  {
   "cell_type": "code",
   "execution_count": null,
   "id": "6fa023eb-757a-4755-9d88-9011e11b1a1e",
   "metadata": {
    "tags": []
   },
   "outputs": [],
   "source": [
    "poly_gas_history_df"
   ]
  },
  {
   "cell_type": "code",
   "execution_count": null,
   "id": "bbc41d54-2489-4d69-b4d5-c1577658110b",
   "metadata": {},
   "outputs": [],
   "source": [
    "poly_gas_price_df = poly_gas_history_df[[\"timestamp\",\"gasPrice\"]]"
   ]
  },
  {
   "cell_type": "code",
   "execution_count": null,
   "id": "58a8ac9f-0394-4357-9b80-d09a56078863",
   "metadata": {
    "tags": []
   },
   "outputs": [],
   "source": [
    "poly_gas_price_df"
   ]
  },
  {
   "cell_type": "code",
   "execution_count": null,
   "id": "81c2fe78-c2a6-4c5c-9df0-6f495f22bc89",
   "metadata": {
    "tags": []
   },
   "outputs": [],
   "source": [
    "poly_gas_price_df[\"gasPrice\"]"
   ]
  },
  {
   "cell_type": "code",
   "execution_count": null,
   "id": "befaf90d-a9b1-46c4-8358-68706bb4f71f",
   "metadata": {},
   "outputs": [],
   "source": [
    "poly_gas_stats = []\n",
    "for close in poly_gas_price_df[\"gasPrice\"]:\n",
    "    poly_gas_stats.append(pd.Series(close)) "
   ]
  },
  {
   "cell_type": "code",
   "execution_count": null,
   "id": "19c33b5a-f34f-44e4-8b80-f5c7d978448f",
   "metadata": {},
   "outputs": [],
   "source": [
    "poly_gas_stats_df = pd.DataFrame(poly_gas_stats)"
   ]
  },
  {
   "cell_type": "code",
   "execution_count": null,
   "id": "af9d8d12-cc24-4fc0-8e97-e52cba9cca68",
   "metadata": {},
   "outputs": [],
   "source": [
    "poly_gas_close_df = poly_gas_stats_df.drop(columns=[\"open\",\"low\",\"high\"])"
   ]
  },
  {
   "cell_type": "code",
   "execution_count": null,
   "id": "d5361e35-9685-4082-8586-012f3132919d",
   "metadata": {
    "tags": []
   },
   "outputs": [],
   "source": [
    "poly_gas_close_df"
   ]
  },
  {
   "cell_type": "code",
   "execution_count": null,
   "id": "3153b794-15d9-4137-8cfc-5f5d4b1cd774",
   "metadata": {},
   "outputs": [],
   "source": [
    "poly_gas_close_df.plot.line(\n",
    "    color=\"orange\",\n",
    "    title=\"Average daily POLY gas prices in gwei\",\n",
    "    rot=90\n",
    ") "
   ]
  },
  {
   "cell_type": "code",
   "execution_count": null,
   "id": "bd58199e-2905-4483-997f-d454d0806946",
   "metadata": {},
   "outputs": [],
   "source": [
    "combined_gas_overview_df = pd.concat(\n",
    "    [timeframe, eth_gas_close_df['close'], avax_gas_close_df['close'], bsc_gas_close_df['close'], poly_gas_close_df['close']], \n",
    "    axis=1,\n",
    "    keys=[\"DateTime\",\"ETH\",\"AVAX\",\"BNB\",\"POLY\"]\n",
    ")"
   ]
  },
  {
   "cell_type": "code",
   "execution_count": null,
   "id": "54208c0f-185d-4714-9367-13fded78a3c0",
   "metadata": {},
   "outputs": [],
   "source": [
    "combined_gas_overview_df"
   ]
  },
  {
   "cell_type": "code",
   "execution_count": null,
   "id": "aa9a6efa-553e-416b-baa1-47a66bf4fefb",
   "metadata": {},
   "outputs": [],
   "source": [
    "combined_gas_df = combined_gas_overview_df.sort_values(by=\"DateTime\",\n",
    "                                     ascending=True\n",
    "                                    ) "
   ]
  },
  {
   "cell_type": "code",
   "execution_count": null,
   "id": "12029553-6ce5-4d0b-85c7-fbb7701b2835",
   "metadata": {},
   "outputs": [],
   "source": [
    "combined_gas_df"
   ]
  },
  {
   "cell_type": "code",
   "execution_count": null,
   "id": "aae4bd48-5a1d-426f-8968-292c97c2b925",
   "metadata": {},
   "outputs": [],
   "source": [
    "combined_gas_df.hvplot()"
   ]
  },
  {
   "cell_type": "code",
   "execution_count": null,
   "id": "1e3025ec-40da-4932-92de-5ab09cb8300b",
   "metadata": {},
   "outputs": [],
   "source": [
    "combined_gas_df.plot.line(\n",
    "    x=0,\n",
    "    xlabel=\"Time\",\n",
    "    ylabel=\"gwei\",\n",
    "    title=\"Average daily gas prices of ETH, AVAX, BNB, and POLY in gwei\",\n",
    "    color=[\"black\",\"red\",\"gold\",\"purple\"],\n",
    "    figsize=(10,5),\n",
    "    rot=90\n",
    ")"
   ]
  },
  {
   "cell_type": "code",
   "execution_count": null,
   "id": "75061c98-5c1c-4a51-b8d5-e3daadf48102",
   "metadata": {
    "tags": []
   },
   "outputs": [],
   "source": [
    "print(f\"The current price of ETH gas is {eth_gas_gwei:.2f} gwei or {gwei_to_eth:.8f} ETH\")\n",
    "print(f\"The current price of AVAX gas is {avax_gas_gwei:.2f} gwei or {gwei_to_avax:.8f} AVAX\")\n",
    "print(f\"The current price of BNB gas is {bsc_gas_gwei:.2f} gwei or {gwei_to_bsc:.8f} BNB\")\n",
    "print(f\"The current price of Polygon/MATIC gas is {poly_gas_gwei:.2f} gwei or {gwei_to_poly:.8f} MATIC\")"
   ]
  },
  {
   "cell_type": "code",
   "execution_count": null,
   "id": "824471df-21fc-4399-823a-89e792992028",
   "metadata": {},
   "outputs": [],
   "source": []
  },
  {
   "cell_type": "code",
   "execution_count": null,
   "id": "c8b5b2ad-df69-4af7-8fcb-0c205aa87c13",
   "metadata": {},
   "outputs": [],
   "source": []
  },
  {
   "cell_type": "code",
   "execution_count": null,
   "id": "4558ab79-7e94-40fa-bf56-b3393e52619f",
   "metadata": {},
   "outputs": [],
   "source": [
    "\n",
    "    "
   ]
  },
  {
   "cell_type": "code",
   "execution_count": null,
   "id": "69af3672-dde9-4261-aea3-d56271b0441c",
   "metadata": {},
   "outputs": [],
   "source": []
  }
 ],
 "metadata": {
  "kernelspec": {
   "display_name": "Python 3 (ipykernel)",
   "language": "python",
   "name": "python3"
  },
  "language_info": {
   "codemirror_mode": {
    "name": "ipython",
    "version": 3
   },
   "file_extension": ".py",
   "mimetype": "text/x-python",
   "name": "python",
   "nbconvert_exporter": "python",
   "pygments_lexer": "ipython3",
   "version": "3.7.11"
  }
 },
 "nbformat": 4,
 "nbformat_minor": 5
}
