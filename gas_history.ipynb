{
 "cells": [
  {
   "cell_type": "code",
   "execution_count": 8,
   "id": "8bc9bfd5-8223-4e2e-bce8-33f39ce559c9",
   "metadata": {},
   "outputs": [],
   "source": [
    "import pandas as pd\n",
    "import hvplot.pandas\n",
    "from pathlib import Path\n",
    "import os\n",
    "import json\n",
    "import requests\n",
    "from dotenv import load_dotenv\n",
    "import matplotlib.pyplot as plt"
   ]
  },
  {
   "cell_type": "code",
   "execution_count": 9,
   "id": "5f87467b-3539-4d3a-acc4-2ead8248f557",
   "metadata": {},
   "outputs": [
    {
     "data": {
      "text/plain": [
       "True"
      ]
     },
     "execution_count": 9,
     "metadata": {},
     "output_type": "execute_result"
    }
   ],
   "source": [
    "load_dotenv()"
   ]
  },
  {
   "cell_type": "code",
   "execution_count": 10,
   "id": "4144c689-5384-4d6d-8f1e-eb404e13a0ec",
   "metadata": {},
   "outputs": [],
   "source": [
    "def create_gas_chart():\n",
    "    eth_historic_gas_url = f\"https://owlracle.info/eth/history\"\n",
    "    eth_historic_gas_response = requests.get(eth_historic_gas_url).json()\n",
    "    eth_df = pd.DataFrame(eth_historic_gas_response)\n",
    "    eth_df = eth_df[['timestamp', 'gasPrice']]\n",
    "    timeframe = eth_df['timestamp']\n",
    "    gas_stats_eth = []\n",
    "    for row in eth_df['gasPrice']:\n",
    "        gas_stats_eth.append(row['close'])\n",
    "    gas_df = pd.DataFrame(gas_stats_eth)\n",
    "    gas_df['ETH'] = gas_df\n",
    "    index = pd.to_datetime(timeframe.astype(str))\n",
    "    gas_df.index = index\n",
    "\n",
    "    avax_historic_gas_url = f\"https://owlracle.info/avax/history\"\n",
    "    avax_historic_gas_response = requests.get(avax_historic_gas_url).json()\n",
    "    avax_df = pd.DataFrame(avax_historic_gas_response)\n",
    "    avax_df = avax_df[['timestamp', 'gasPrice']]\n",
    "    timeframe = avax_df['timestamp']\n",
    "    gas_stats_avax = []\n",
    "    for row in avax_df['gasPrice']:\n",
    "        gas_stats_avax.append(row['close'])\n",
    "    gas_df['AVAX'] = gas_stats_avax\n",
    "    index = pd.to_datetime(timeframe.astype(str))\n",
    "    gas_df.index = index\n",
    "\n",
    "    bsc_historic_gas_url = f\"https://owlracle.info/bsc/history\"\n",
    "    bsc_historic_gas_response = requests.get(bsc_historic_gas_url).json()\n",
    "    bsc_df = pd.DataFrame(bsc_historic_gas_response)\n",
    "    bsf_df = bsc_df[['timestamp', 'gasPrice']]\n",
    "    timeframe = bsc_df['timestamp']\n",
    "    gas_stats_bsc = []\n",
    "    for row in bsc_df['gasPrice']:\n",
    "        gas_stats_bsc.append(row['close'])\n",
    "    gas_df['BSC'] = gas_stats_bsc\n",
    "    index = pd.to_datetime(timeframe.astype(str))\n",
    "    gas_df.index = index\n",
    "\n",
    "    poly_historic_gas_url = f\"https://owlracle.info/poly/history\"\n",
    "    poly_historic_gas_response = requests.get(poly_historic_gas_url).json()\n",
    "    poly_df = pd.DataFrame(poly_historic_gas_response)\n",
    "    poly_df = poly_df[['timestamp', 'gasPrice']]\n",
    "    timeframe = poly_df['timestamp']\n",
    "    gas_stats_poly = []\n",
    "    for row in poly_df['gasPrice']:\n",
    "        gas_stats_poly.append(row['close'])\n",
    "    gas_df['POLY'] = gas_stats_poly\n",
    "    index = pd.to_datetime(timeframe.astype(str))\n",
    "    gas_df.index = index\n",
    "\n",
    "    gas_df.hvplot(title='Gas Trends for ETH, AVAX, BSC & POLY', value_label='Gas in gwei', legend='top', height=500, width=700, color=['black','black','red','gold','purple'])"
   ]
  },
  {
   "cell_type": "code",
   "execution_count": 11,
   "id": "fd3d74c6-3f72-47df-b6c3-7beaf58c7258",
   "metadata": {},
   "outputs": [
    {
     "data": {
      "text/plain": [
       "<function __main__.create_gas_chart()>"
      ]
     },
     "execution_count": 11,
     "metadata": {},
     "output_type": "execute_result"
    }
   ],
   "source": [
    "create_gas_chart"
   ]
  },
  {
   "cell_type": "code",
   "execution_count": null,
   "id": "45e802a5-9f4c-4b9c-8cb5-910ee1ce1f5a",
   "metadata": {},
   "outputs": [],
   "source": []
  }
 ],
 "metadata": {
  "kernelspec": {
   "display_name": "Python 3 (ipykernel)",
   "language": "python",
   "name": "python3"
  },
  "language_info": {
   "codemirror_mode": {
    "name": "ipython",
    "version": 3
   },
   "file_extension": ".py",
   "mimetype": "text/x-python",
   "name": "python",
   "nbconvert_exporter": "python",
   "pygments_lexer": "ipython3",
   "version": "3.7.11"
  }
 },
 "nbformat": 4,
 "nbformat_minor": 5
}
