{
 "cells": [
  {
   "cell_type": "code",
   "execution_count": null,
   "id": "0f437183-d122-4954-bfda-8a1602cb87ce",
   "metadata": {},
   "outputs": [],
   "source": [
    "##Necessary Imports"
   ]
  },
  {
   "cell_type": "code",
   "execution_count": 22,
   "id": "c701db28-9875-43dc-9318-e863db701fd8",
   "metadata": {},
   "outputs": [],
   "source": [
    "import pandas as pd\n",
    "from pathlib import Path\n",
    "import numpy as np\n",
    "import os\n",
    "import requests\n",
    "import json\n",
    "from dotenv import load_dotenv\n",
    "import alpaca_trade_api as tradeapi\n",
    "from MCForecastTools import MCSimulation\n",
    "%matplotlib inline"
   ]
  },
  {
   "cell_type": "code",
   "execution_count": 23,
   "id": "982db0e1-e638-41c6-9913-ffe58254180f",
   "metadata": {},
   "outputs": [
    {
     "data": {
      "text/plain": [
       "True"
      ]
     },
     "execution_count": 23,
     "metadata": {},
     "output_type": "execute_result"
    }
   ],
   "source": [
    "load_dotenv()"
   ]
  },
  {
   "cell_type": "code",
   "execution_count": 24,
   "id": "63849efa-6a43-4c14-8ec9-d105b5edc971",
   "metadata": {},
   "outputs": [],
   "source": [
    "# Set the variables for the Alpaca API and secret keys\n",
    "alpaca_api_key = os.getenv(\"ALPACA_API_KEY\")\n",
    "alpaca_secret_key = os.getenv(\"ALPACA_SECRET_KEY\")\n",
    "\n",
    "# Create the Alpaca tradeapi.REST object\n",
    "alpaca = tradeapi.REST(\n",
    "    alpaca_api_key,\n",
    "    alpaca_secret_key,\n",
    "    api_version=\"v2\")"
   ]
  },
  {
   "cell_type": "code",
   "execution_count": null,
   "id": "d69537aa-940a-44ad-9a0d-f1044bb790f4",
   "metadata": {},
   "outputs": [],
   "source": [
    "#ETH APIs"
   ]
  },
  {
   "cell_type": "code",
   "execution_count": 26,
   "id": "e9bb9413-dbf4-4e70-9d33-55a834a68719",
   "metadata": {},
   "outputs": [],
   "source": [
    "eth_burn_url =\"https://api.cryptoquant.com/v1/eth/network-data/fees-burnt?window=day\""
   ]
  },
  {
   "cell_type": "code",
   "execution_count": 28,
   "id": "3421630b-9050-48a5-ad52-bd4875c8b7d7",
   "metadata": {},
   "outputs": [],
   "source": [
    "eth_burn = requests.get(eth_burn_url).json()"
   ]
  },
  {
   "cell_type": "code",
   "execution_count": 30,
   "id": "436b6425-f4de-49f3-95a2-6449a1174069",
   "metadata": {},
   "outputs": [
    {
     "name": "stdout",
     "output_type": "stream",
     "text": [
      "{\n",
      "    \"result\": {},\n",
      "    \"status\": {\n",
      "        \"code\": 401,\n",
      "        \"description\": \"401 Unauthorized: Token does not exist.\",\n",
      "        \"message\": \"unauthorized\"\n",
      "    }\n",
      "}\n"
     ]
    }
   ],
   "source": [
    "print(json.dumps(eth_burn, indent=4, sort_keys=True))"
   ]
  },
  {
   "cell_type": "code",
   "execution_count": 31,
   "id": "0a732c19-2292-467e-af16-e38aee51e7f7",
   "metadata": {},
   "outputs": [],
   "source": [
    "tickers = [\"ETHUSD\"]\n",
    "\n",
    "# Set timeframe\n",
    "timeframe = \"1Day\"\n",
    "\n",
    "# Format current date as ISO format\n",
    "start_date = pd.Timestamp(\"2022-03-25\", tz=\"America/New_York\").isoformat()\n",
    "end_date = pd.Timestamp(\"2022-04-25\", tz=\"America/New_York\").isoformat()"
   ]
  },
  {
   "cell_type": "code",
   "execution_count": 32,
   "id": "2ac0a005-ea9f-4a6e-a702-59b4d3922320",
   "metadata": {},
   "outputs": [
    {
     "data": {
      "text/html": [
       "<div>\n",
       "<style scoped>\n",
       "    .dataframe tbody tr th:only-of-type {\n",
       "        vertical-align: middle;\n",
       "    }\n",
       "\n",
       "    .dataframe tbody tr th {\n",
       "        vertical-align: top;\n",
       "    }\n",
       "\n",
       "    .dataframe thead th {\n",
       "        text-align: right;\n",
       "    }\n",
       "</style>\n",
       "<table border=\"1\" class=\"dataframe\">\n",
       "  <thead>\n",
       "    <tr style=\"text-align: right;\">\n",
       "      <th></th>\n",
       "    </tr>\n",
       "  </thead>\n",
       "  <tbody>\n",
       "  </tbody>\n",
       "</table>\n",
       "</div>"
      ],
      "text/plain": [
       "Empty DataFrame\n",
       "Columns: []\n",
       "Index: []"
      ]
     },
     "execution_count": 32,
     "metadata": {},
     "output_type": "execute_result"
    }
   ],
   "source": [
    "df_portfolio = alpaca.get_bars(\n",
    "    tickers,\n",
    "    timeframe,\n",
    "    start = start_date,\n",
    "    end = end_date\n",
    ").df\n",
    "\n",
    "# Reorganize the DataFrame\n",
    "# Separate ticker data\n",
    "#ETHUSD = df_portfolio[df_portfolio['symbol']=='ETHUSD'].drop('symbol', axis=1)\n",
    "\n",
    "df_portfolio"
   ]
  },
  {
   "cell_type": "code",
   "execution_count": null,
   "id": "f5c062a1-bdda-4705-b28e-acb27b3be1fe",
   "metadata": {},
   "outputs": [],
   "source": [
    "##analyzes ethereum burn rate"
   ]
  },
  {
   "cell_type": "code",
   "execution_count": null,
   "id": "0841afe8-e7f5-4608-ba60-d1770197907a",
   "metadata": {},
   "outputs": [],
   "source": []
  },
  {
   "cell_type": "code",
   "execution_count": null,
   "id": "c1eadf84-2491-48e2-ba57-fa9263e34384",
   "metadata": {},
   "outputs": [],
   "source": [
    "##production rate  "
   ]
  },
  {
   "cell_type": "code",
   "execution_count": null,
   "id": "05a9b40d-26d7-4e9d-8316-9cae5194c420",
   "metadata": {},
   "outputs": [],
   "source": []
  },
  {
   "cell_type": "code",
   "execution_count": null,
   "id": "6e2ae917-807b-4848-b650-ec9d2dbf7615",
   "metadata": {},
   "outputs": [],
   "source": [
    "## difference between the two and historical effects/correlations with price"
   ]
  },
  {
   "cell_type": "code",
   "execution_count": null,
   "id": "9046cc03-89c3-472d-9baf-3395f3dc470b",
   "metadata": {},
   "outputs": [],
   "source": []
  },
  {
   "cell_type": "code",
   "execution_count": null,
   "id": "58bf680a-c4b0-4ce8-b284-93633d0b3ee0",
   "metadata": {},
   "outputs": [],
   "source": [
    "##General Ethereum analysis"
   ]
  },
  {
   "cell_type": "code",
   "execution_count": null,
   "id": "17711cab-47e3-4558-92ff-4546c945b3f3",
   "metadata": {},
   "outputs": [],
   "source": []
  },
  {
   "cell_type": "code",
   "execution_count": null,
   "id": "d102167f-595d-478c-8797-23feb63a86e3",
   "metadata": {},
   "outputs": [],
   "source": [
    "##std deviation"
   ]
  },
  {
   "cell_type": "code",
   "execution_count": null,
   "id": "20bbcfa1-33db-4a01-ab2f-49fc3c11165c",
   "metadata": {},
   "outputs": [],
   "source": []
  },
  {
   "cell_type": "code",
   "execution_count": null,
   "id": "24cc4fca-edfd-471c-aff4-99c9cb2fb0d6",
   "metadata": {},
   "outputs": [],
   "source": [
    "##monte carlo of future returns based on mean reversion."
   ]
  },
  {
   "cell_type": "code",
   "execution_count": null,
   "id": "8147c195-b62c-4a0b-b7a5-4503deaeddd1",
   "metadata": {},
   "outputs": [],
   "source": [
    "# Configure the Monte Carlo simulation to forecast 30 years cumulative returns\n",
    "# The weights should be split 40% to AGG and 60% to SPY.\n",
    "# Run 500 samples.\n",
    "MC_eth = MCSimulation(\n",
    "    portfolio_data = df_portfolio,\n",
    "    weights = [.60,.40],\n",
    "    num_simulation = 500,\n",
    "    num_trading_days = 252*30\n",
    ")\n",
    "\n",
    "# Review the simulation input data\n",
    "MC_eth.portfolio_data.head()"
   ]
  },
  {
   "cell_type": "code",
   "execution_count": null,
   "id": "12239f5d-afe1-4cdf-858a-7fa1d1cdcb73",
   "metadata": {},
   "outputs": [],
   "source": [
    "MC_eth.calc_cumulative_return()"
   ]
  },
  {
   "cell_type": "code",
   "execution_count": null,
   "id": "3824097c-8aed-43f6-981f-d19a97b7cdc3",
   "metadata": {},
   "outputs": [],
   "source": [
    "eth_line_plot = MC_eth.plot_simulation()"
   ]
  },
  {
   "cell_type": "code",
   "execution_count": null,
   "id": "861b69c0-7f6d-46cb-a88b-ed445de9aa91",
   "metadata": {},
   "outputs": [],
   "source": [
    "eth_distribution_plot = MC_eth.plot_distribution()"
   ]
  },
  {
   "cell_type": "code",
   "execution_count": null,
   "id": "09c16758-9e9d-4856-9c5f-0a0f9a296276",
   "metadata": {},
   "outputs": [],
   "source": [
    "MC_eth.summarize_cumulative_return()"
   ]
  },
  {
   "cell_type": "code",
   "execution_count": null,
   "id": "c459846b-c7eb-415c-b0cc-63a1c3e01fa2",
   "metadata": {},
   "outputs": [],
   "source": [
    "##Parse all of this into functions for modularization."
   ]
  },
  {
   "cell_type": "code",
   "execution_count": null,
   "id": "a26782a7-facf-4607-8056-0b36b42d2b82",
   "metadata": {},
   "outputs": [],
   "source": []
  }
 ],
 "metadata": {
  "kernelspec": {
   "display_name": "Python 3 (ipykernel)",
   "language": "python",
   "name": "python3"
  },
  "language_info": {
   "codemirror_mode": {
    "name": "ipython",
    "version": 3
   },
   "file_extension": ".py",
   "mimetype": "text/x-python",
   "name": "python",
   "nbconvert_exporter": "python",
   "pygments_lexer": "ipython3",
   "version": "3.9.7"
  }
 },
 "nbformat": 4,
 "nbformat_minor": 5
}
