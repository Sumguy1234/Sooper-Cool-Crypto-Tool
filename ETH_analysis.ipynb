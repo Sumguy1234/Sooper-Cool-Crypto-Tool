{
 "cells": [
  {
   "cell_type": "code",
   "execution_count": null,
   "id": "0f437183-d122-4954-bfda-8a1602cb87ce",
   "metadata": {},
   "outputs": [],
   "source": [
    "##Necessary Imports"
   ]
  },
  {
   "cell_type": "code",
   "execution_count": 63,
   "id": "c701db28-9875-43dc-9318-e863db701fd8",
   "metadata": {},
   "outputs": [],
   "source": [
    "import pandas as pd\n",
    "from pathlib import Path\n",
    "import numpy as np\n",
    "import os\n",
    "import requests\n",
    "import json\n",
    "from dotenv import load_dotenv\n",
    "import alpaca_trade_api as tradeapi\n",
    "from MCForecastTools import MCSimulation\n",
    "%matplotlib inline"
   ]
  },
  {
   "cell_type": "code",
   "execution_count": 3,
   "id": "982db0e1-e638-41c6-9913-ffe58254180f",
   "metadata": {},
   "outputs": [
    {
     "data": {
      "text/plain": [
       "True"
      ]
     },
     "execution_count": 3,
     "metadata": {},
     "output_type": "execute_result"
    }
   ],
   "source": [
    "load_dotenv()"
   ]
  },
  {
   "cell_type": "code",
   "execution_count": 4,
   "id": "63849efa-6a43-4c14-8ec9-d105b5edc971",
   "metadata": {},
   "outputs": [],
   "source": [
    "# Set the variables for the Alpaca API and secret keys\n",
    "alpaca_api_key = os.getenv(\"ALPACA_API_KEY\")\n",
    "alpaca_secret_key = os.getenv(\"ALPACA_SECRET_KEY\")\n",
    "\n",
    "# Create the Alpaca tradeapi.REST object\n",
    "alpaca = tradeapi.REST(\n",
    "    alpaca_api_key,\n",
    "    alpaca_secret_key,\n",
    "    api_version=\"v2\")"
   ]
  },
  {
   "cell_type": "code",
   "execution_count": null,
   "id": "d69537aa-940a-44ad-9a0d-f1044bb790f4",
   "metadata": {},
   "outputs": [],
   "source": [
    "#ETH APIs"
   ]
  },
  {
   "cell_type": "code",
   "execution_count": 49,
   "id": "e9bb9413-dbf4-4e70-9d33-55a834a68719",
   "metadata": {},
   "outputs": [
    {
     "ename": "NameError",
     "evalue": "name 'access_token' is not defined",
     "output_type": "error",
     "traceback": [
      "\u001b[1;31m---------------------------------------------------------------------------\u001b[0m",
      "\u001b[1;31mNameError\u001b[0m                                 Traceback (most recent call last)",
      "\u001b[1;32m~\\AppData\\Local\\Temp/ipykernel_26888/3359342726.py\u001b[0m in \u001b[0;36m<module>\u001b[1;34m\u001b[0m\n\u001b[0;32m      1\u001b[0m \u001b[1;32mimport\u001b[0m \u001b[0mrequests\u001b[0m\u001b[1;33m\u001b[0m\u001b[1;33m\u001b[0m\u001b[0m\n\u001b[1;32m----> 2\u001b[1;33m \u001b[0mheaders\u001b[0m \u001b[1;33m=\u001b[0m \u001b[1;33m{\u001b[0m\u001b[1;34m'Authorization'\u001b[0m\u001b[1;33m:\u001b[0m \u001b[1;34m'Bearer '\u001b[0m \u001b[1;33m+\u001b[0m \u001b[0maccess_token\u001b[0m\u001b[1;33m}\u001b[0m\u001b[1;33m\u001b[0m\u001b[1;33m\u001b[0m\u001b[0m\n\u001b[0m\u001b[0;32m      3\u001b[0m \u001b[0meth_burn\u001b[0m \u001b[1;33m=\u001b[0m \u001b[1;34m\"https://api.cryptoquant.com/v1/eth/network-data/fees-burnt?window=day\"\u001b[0m\u001b[1;33m\u001b[0m\u001b[1;33m\u001b[0m\u001b[0m\n\u001b[0;32m      4\u001b[0m \u001b[0mprint\u001b[0m\u001b[1;33m(\u001b[0m\u001b[0mrequests\u001b[0m\u001b[1;33m.\u001b[0m\u001b[0mget\u001b[0m\u001b[1;33m(\u001b[0m\u001b[0murl\u001b[0m\u001b[1;33m,\u001b[0m \u001b[0mheaders\u001b[0m\u001b[1;33m=\u001b[0m\u001b[0mheaders\u001b[0m\u001b[1;33m)\u001b[0m\u001b[1;33m.\u001b[0m\u001b[0mjson\u001b[0m\u001b[1;33m(\u001b[0m\u001b[1;33m)\u001b[0m\u001b[1;33m)\u001b[0m\u001b[1;33m\u001b[0m\u001b[1;33m\u001b[0m\u001b[0m\n",
      "\u001b[1;31mNameError\u001b[0m: name 'access_token' is not defined"
     ]
    }
   ],
   "source": [
    "import requests\n",
    "headers = {'Authorization': 'Bearer ' + access_token}\n",
    "eth_burn = \"https://api.cryptoquant.com/v1/eth/network-data/fees-burnt?window=day\"\n",
    "print(requests.get(url, headers=headers).json())"
   ]
  },
  {
   "cell_type": "code",
   "execution_count": 6,
   "id": "3421630b-9050-48a5-ad52-bd4875c8b7d7",
   "metadata": {},
   "outputs": [],
   "source": [
    "eth_burn = requests.get(eth_burn_url).json()"
   ]
  },
  {
   "cell_type": "code",
   "execution_count": 7,
   "id": "436b6425-f4de-49f3-95a2-6449a1174069",
   "metadata": {},
   "outputs": [
    {
     "name": "stdout",
     "output_type": "stream",
     "text": [
      "{\n",
      "    \"result\": {},\n",
      "    \"status\": {\n",
      "        \"code\": 401,\n",
      "        \"description\": \"401 Unauthorized: Token does not exist.\",\n",
      "        \"message\": \"unauthorized\"\n",
      "    }\n",
      "}\n"
     ]
    }
   ],
   "source": [
    "print(json.dumps(eth_burn, indent=4, sort_keys=True))"
   ]
  },
  {
   "cell_type": "code",
   "execution_count": 50,
   "id": "0a732c19-2292-467e-af16-e38aee51e7f7",
   "metadata": {},
   "outputs": [],
   "source": [
    "tickers = [\"ETHUSD\"]\n",
    "\n",
    "# Set timeframe\n",
    "timeframe = \"1Day\"\n",
    "\n",
    "# Format current date as ISO format\n",
    "start_date = pd.Timestamp(\"2020-04-25\", tz=\"America/New_York\").isoformat()\n",
    "end_date = pd.Timestamp(\"2022-04-25\", tz=\"America/New_York\").isoformat()"
   ]
  },
  {
   "cell_type": "code",
   "execution_count": 61,
   "id": "2ac0a005-ea9f-4a6e-a702-59b4d3922320",
   "metadata": {},
   "outputs": [
    {
     "data": {
      "text/html": [
       "<div>\n",
       "<style scoped>\n",
       "    .dataframe tbody tr th:only-of-type {\n",
       "        vertical-align: middle;\n",
       "    }\n",
       "\n",
       "    .dataframe tbody tr th {\n",
       "        vertical-align: top;\n",
       "    }\n",
       "\n",
       "    .dataframe thead th {\n",
       "        text-align: right;\n",
       "    }\n",
       "</style>\n",
       "<table border=\"1\" class=\"dataframe\">\n",
       "  <thead>\n",
       "    <tr style=\"text-align: right;\">\n",
       "      <th></th>\n",
       "      <th>exchange</th>\n",
       "      <th>open</th>\n",
       "      <th>high</th>\n",
       "      <th>low</th>\n",
       "      <th>close</th>\n",
       "      <th>volume</th>\n",
       "      <th>trade_count</th>\n",
       "      <th>vwap</th>\n",
       "      <th>symbol</th>\n",
       "    </tr>\n",
       "    <tr>\n",
       "      <th>timestamp</th>\n",
       "      <th></th>\n",
       "      <th></th>\n",
       "      <th></th>\n",
       "      <th></th>\n",
       "      <th></th>\n",
       "      <th></th>\n",
       "      <th></th>\n",
       "      <th></th>\n",
       "      <th></th>\n",
       "    </tr>\n",
       "  </thead>\n",
       "  <tbody>\n",
       "    <tr>\n",
       "      <th>2020-04-25 05:00:00+00:00</th>\n",
       "      <td>CBSE</td>\n",
       "      <td>194.42</td>\n",
       "      <td>196.04</td>\n",
       "      <td>193.71</td>\n",
       "      <td>194.60</td>\n",
       "      <td>24324.842137</td>\n",
       "      <td>6805</td>\n",
       "      <td>195.115700</td>\n",
       "      <td>ETHUSD</td>\n",
       "    </tr>\n",
       "    <tr>\n",
       "      <th>2020-04-26 05:00:00+00:00</th>\n",
       "      <td>CBSE</td>\n",
       "      <td>197.80</td>\n",
       "      <td>199.41</td>\n",
       "      <td>196.61</td>\n",
       "      <td>197.74</td>\n",
       "      <td>34826.159206</td>\n",
       "      <td>7765</td>\n",
       "      <td>197.880861</td>\n",
       "      <td>ETHUSD</td>\n",
       "    </tr>\n",
       "    <tr>\n",
       "      <th>2020-04-27 05:00:00+00:00</th>\n",
       "      <td>CBSE</td>\n",
       "      <td>197.72</td>\n",
       "      <td>197.82</td>\n",
       "      <td>189.60</td>\n",
       "      <td>196.78</td>\n",
       "      <td>129753.688775</td>\n",
       "      <td>29131</td>\n",
       "      <td>194.079907</td>\n",
       "      <td>ETHUSD</td>\n",
       "    </tr>\n",
       "    <tr>\n",
       "      <th>2020-04-28 05:00:00+00:00</th>\n",
       "      <td>CBSE</td>\n",
       "      <td>196.64</td>\n",
       "      <td>200.00</td>\n",
       "      <td>196.64</td>\n",
       "      <td>199.10</td>\n",
       "      <td>37908.443267</td>\n",
       "      <td>8363</td>\n",
       "      <td>198.435146</td>\n",
       "      <td>ETHUSD</td>\n",
       "    </tr>\n",
       "    <tr>\n",
       "      <th>2020-04-29 05:00:00+00:00</th>\n",
       "      <td>CBSE</td>\n",
       "      <td>215.74</td>\n",
       "      <td>226.28</td>\n",
       "      <td>214.60</td>\n",
       "      <td>223.05</td>\n",
       "      <td>97995.751189</td>\n",
       "      <td>16774</td>\n",
       "      <td>220.691436</td>\n",
       "      <td>ETHUSD</td>\n",
       "    </tr>\n",
       "    <tr>\n",
       "      <th>...</th>\n",
       "      <td>...</td>\n",
       "      <td>...</td>\n",
       "      <td>...</td>\n",
       "      <td>...</td>\n",
       "      <td>...</td>\n",
       "      <td>...</td>\n",
       "      <td>...</td>\n",
       "      <td>...</td>\n",
       "      <td>...</td>\n",
       "    </tr>\n",
       "    <tr>\n",
       "      <th>2022-04-23 05:00:00+00:00</th>\n",
       "      <td>ERSX</td>\n",
       "      <td>2947.50</td>\n",
       "      <td>2977.60</td>\n",
       "      <td>2922.90</td>\n",
       "      <td>2952.80</td>\n",
       "      <td>342.013445</td>\n",
       "      <td>204</td>\n",
       "      <td>2945.310501</td>\n",
       "      <td>ETHUSD</td>\n",
       "    </tr>\n",
       "    <tr>\n",
       "      <th>2022-04-23 05:00:00+00:00</th>\n",
       "      <td>FTXU</td>\n",
       "      <td>2947.30</td>\n",
       "      <td>2978.90</td>\n",
       "      <td>2921.20</td>\n",
       "      <td>2952.00</td>\n",
       "      <td>5242.460000</td>\n",
       "      <td>3496</td>\n",
       "      <td>2943.934503</td>\n",
       "      <td>ETHUSD</td>\n",
       "    </tr>\n",
       "    <tr>\n",
       "      <th>2022-04-24 05:00:00+00:00</th>\n",
       "      <td>CBSE</td>\n",
       "      <td>2952.64</td>\n",
       "      <td>2968.31</td>\n",
       "      <td>2841.28</td>\n",
       "      <td>2865.89</td>\n",
       "      <td>80512.158789</td>\n",
       "      <td>455015</td>\n",
       "      <td>2903.325740</td>\n",
       "      <td>ETHUSD</td>\n",
       "    </tr>\n",
       "    <tr>\n",
       "      <th>2022-04-24 05:00:00+00:00</th>\n",
       "      <td>ERSX</td>\n",
       "      <td>2948.50</td>\n",
       "      <td>2968.05</td>\n",
       "      <td>2843.73</td>\n",
       "      <td>2867.31</td>\n",
       "      <td>955.461937</td>\n",
       "      <td>595</td>\n",
       "      <td>2914.961541</td>\n",
       "      <td>ETHUSD</td>\n",
       "    </tr>\n",
       "    <tr>\n",
       "      <th>2022-04-24 05:00:00+00:00</th>\n",
       "      <td>FTXU</td>\n",
       "      <td>2951.10</td>\n",
       "      <td>2967.50</td>\n",
       "      <td>2843.80</td>\n",
       "      <td>2868.50</td>\n",
       "      <td>11768.267000</td>\n",
       "      <td>7365</td>\n",
       "      <td>2889.201708</td>\n",
       "      <td>ETHUSD</td>\n",
       "    </tr>\n",
       "  </tbody>\n",
       "</table>\n",
       "<p>1654 rows × 9 columns</p>\n",
       "</div>"
      ],
      "text/plain": [
       "                          exchange     open     high      low    close  \\\n",
       "timestamp                                                                \n",
       "2020-04-25 05:00:00+00:00     CBSE   194.42   196.04   193.71   194.60   \n",
       "2020-04-26 05:00:00+00:00     CBSE   197.80   199.41   196.61   197.74   \n",
       "2020-04-27 05:00:00+00:00     CBSE   197.72   197.82   189.60   196.78   \n",
       "2020-04-28 05:00:00+00:00     CBSE   196.64   200.00   196.64   199.10   \n",
       "2020-04-29 05:00:00+00:00     CBSE   215.74   226.28   214.60   223.05   \n",
       "...                            ...      ...      ...      ...      ...   \n",
       "2022-04-23 05:00:00+00:00     ERSX  2947.50  2977.60  2922.90  2952.80   \n",
       "2022-04-23 05:00:00+00:00     FTXU  2947.30  2978.90  2921.20  2952.00   \n",
       "2022-04-24 05:00:00+00:00     CBSE  2952.64  2968.31  2841.28  2865.89   \n",
       "2022-04-24 05:00:00+00:00     ERSX  2948.50  2968.05  2843.73  2867.31   \n",
       "2022-04-24 05:00:00+00:00     FTXU  2951.10  2967.50  2843.80  2868.50   \n",
       "\n",
       "                                  volume  trade_count         vwap  symbol  \n",
       "timestamp                                                                   \n",
       "2020-04-25 05:00:00+00:00   24324.842137         6805   195.115700  ETHUSD  \n",
       "2020-04-26 05:00:00+00:00   34826.159206         7765   197.880861  ETHUSD  \n",
       "2020-04-27 05:00:00+00:00  129753.688775        29131   194.079907  ETHUSD  \n",
       "2020-04-28 05:00:00+00:00   37908.443267         8363   198.435146  ETHUSD  \n",
       "2020-04-29 05:00:00+00:00   97995.751189        16774   220.691436  ETHUSD  \n",
       "...                                  ...          ...          ...     ...  \n",
       "2022-04-23 05:00:00+00:00     342.013445          204  2945.310501  ETHUSD  \n",
       "2022-04-23 05:00:00+00:00    5242.460000         3496  2943.934503  ETHUSD  \n",
       "2022-04-24 05:00:00+00:00   80512.158789       455015  2903.325740  ETHUSD  \n",
       "2022-04-24 05:00:00+00:00     955.461937          595  2914.961541  ETHUSD  \n",
       "2022-04-24 05:00:00+00:00   11768.267000         7365  2889.201708  ETHUSD  \n",
       "\n",
       "[1654 rows x 9 columns]"
      ]
     },
     "execution_count": 61,
     "metadata": {},
     "output_type": "execute_result"
    }
   ],
   "source": [
    "df_eth = alpaca.get_crypto_bars(\n",
    "    tickers,\n",
    "    timeframe,\n",
    "    start = start_date,\n",
    "    end = end_date\n",
    ").df\n",
    "\n",
    "# Reorganize the DataFrame\n",
    "# Separate ticker data\n",
    "ETHUSD = df_eth[df_eth['symbol']=='ETHUSD'].drop('symbol', axis=1)\n",
    "\n",
    "#df_portfolio = pd.concat([ETHUSD, BTCUSD],axis=1, keys=['ETHUSD','BTCUSD'])\n",
    "\n",
    "\n",
    "df_eth"
   ]
  },
  {
   "cell_type": "code",
   "execution_count": 65,
   "id": "d6dd10df-9043-45bc-89e5-2e2eb24e3b73",
   "metadata": {},
   "outputs": [
    {
     "data": {
      "text/plain": [
       "<AxesSubplot:xlabel='volume'>"
      ]
     },
     "execution_count": 65,
     "metadata": {},
     "output_type": "execute_result"
    },
    {
     "data": {
      "image/png": "[encoded data removed]",
      "text/plain": [
       "<Figure size 432x288 with 1 Axes>"
      ]
     },
     "metadata": {
      "needs_background": "light"
     },
     "output_type": "display_data"
    }
   ],
   "source": [
    "df_eth.plot(y='close', x='volume')"
   ]
  },
  {
   "cell_type": "code",
   "execution_count": null,
   "id": "f5c062a1-bdda-4705-b28e-acb27b3be1fe",
   "metadata": {},
   "outputs": [],
   "source": [
    "##analyzes ethereum burn rate"
   ]
  },
  {
   "cell_type": "code",
   "execution_count": 55,
   "id": "0841afe8-e7f5-4608-ba60-d1770197907a",
   "metadata": {},
   "outputs": [
    {
     "ename": "KeyError",
     "evalue": "'result'",
     "output_type": "error",
     "traceback": [
      "\u001b[1;31m---------------------------------------------------------------------------\u001b[0m",
      "\u001b[1;31mKeyError\u001b[0m                                  Traceback (most recent call last)",
      "\u001b[1;32m~\\AppData\\Local\\Temp/ipykernel_26888/312462866.py\u001b[0m in \u001b[0;36m<module>\u001b[1;34m\u001b[0m\n\u001b[1;32m----> 1\u001b[1;33m \u001b[0meth_burn\u001b[0m \u001b[1;33m=\u001b[0m \u001b[0meth_burn\u001b[0m\u001b[1;33m[\u001b[0m\u001b[1;34m\"result\"\u001b[0m\u001b[1;33m]\u001b[0m\u001b[1;33m\u001b[0m\u001b[1;33m\u001b[0m\u001b[0m\n\u001b[0m\u001b[0;32m      2\u001b[0m \u001b[0meth_burn\u001b[0m\u001b[1;33m\u001b[0m\u001b[1;33m\u001b[0m\u001b[0m\n",
      "\u001b[1;31mKeyError\u001b[0m: 'result'"
     ]
    }
   ],
   "source": [
    "eth_burn = eth_burn[\"result\"]"
   ]
  },
  {
   "cell_type": "code",
   "execution_count": null,
   "id": "c1eadf84-2491-48e2-ba57-fa9263e34384",
   "metadata": {},
   "outputs": [],
   "source": [
    "##production rate  "
   ]
  },
  {
   "cell_type": "code",
   "execution_count": 44,
   "id": "05a9b40d-26d7-4e9d-8316-9cae5194c420",
   "metadata": {},
   "outputs": [
    {
     "data": {
      "text/plain": [
       "2.9766265203073295e+18"
      ]
     },
     "execution_count": 44,
     "metadata": {},
     "output_type": "execute_result"
    }
   ],
   "source": [
    "value = 6285.00\n",
    "average_growth_rate = .097\n",
    "days=365\n",
    "production_rate = value*(1+average_growth_rate)**days\n",
    "production_rate"
   ]
  },
  {
   "cell_type": "code",
   "execution_count": null,
   "id": "6e2ae917-807b-4848-b650-ec9d2dbf7615",
   "metadata": {},
   "outputs": [],
   "source": [
    "## difference between the two and historical effects/correlations with price"
   ]
  },
  {
   "cell_type": "code",
   "execution_count": null,
   "id": "9046cc03-89c3-472d-9baf-3395f3dc470b",
   "metadata": {},
   "outputs": [],
   "source": []
  },
  {
   "cell_type": "code",
   "execution_count": null,
   "id": "58bf680a-c4b0-4ce8-b284-93633d0b3ee0",
   "metadata": {},
   "outputs": [],
   "source": [
    "##General Ethereum analysis"
   ]
  },
  {
   "cell_type": "code",
   "execution_count": 48,
   "id": "17711cab-47e3-4558-92ff-4546c945b3f3",
   "metadata": {},
   "outputs": [
    {
     "data": {
      "text/html": [
       "<div>\n",
       "<style scoped>\n",
       "    .dataframe tbody tr th:only-of-type {\n",
       "        vertical-align: middle;\n",
       "    }\n",
       "\n",
       "    .dataframe tbody tr th {\n",
       "        vertical-align: top;\n",
       "    }\n",
       "\n",
       "    .dataframe thead th {\n",
       "        text-align: right;\n",
       "    }\n",
       "</style>\n",
       "<table border=\"1\" class=\"dataframe\">\n",
       "  <thead>\n",
       "    <tr style=\"text-align: right;\">\n",
       "      <th></th>\n",
       "      <th>open</th>\n",
       "      <th>high</th>\n",
       "      <th>low</th>\n",
       "      <th>close</th>\n",
       "      <th>volume</th>\n",
       "      <th>trade_count</th>\n",
       "      <th>vwap</th>\n",
       "    </tr>\n",
       "  </thead>\n",
       "  <tbody>\n",
       "    <tr>\n",
       "      <th>count</th>\n",
       "      <td>3322.000000</td>\n",
       "      <td>3322.000000</td>\n",
       "      <td>3322.00000</td>\n",
       "      <td>3322.000000</td>\n",
       "      <td>3.322000e+03</td>\n",
       "      <td>3.322000e+03</td>\n",
       "      <td>3322.000000</td>\n",
       "    </tr>\n",
       "    <tr>\n",
       "      <th>mean</th>\n",
       "      <td>19397.310686</td>\n",
       "      <td>19906.030331</td>\n",
       "      <td>18839.67882</td>\n",
       "      <td>19398.772848</td>\n",
       "      <td>3.327126e+04</td>\n",
       "      <td>9.321070e+04</td>\n",
       "      <td>19392.823468</td>\n",
       "    </tr>\n",
       "    <tr>\n",
       "      <th>std</th>\n",
       "      <td>21038.411581</td>\n",
       "      <td>21587.277134</td>\n",
       "      <td>20434.00306</td>\n",
       "      <td>21038.111468</td>\n",
       "      <td>7.966390e+04</td>\n",
       "      <td>1.755414e+05</td>\n",
       "      <td>21030.106190</td>\n",
       "    </tr>\n",
       "    <tr>\n",
       "      <th>min</th>\n",
       "      <td>186.220000</td>\n",
       "      <td>191.680000</td>\n",
       "      <td>176.43000</td>\n",
       "      <td>185.930000</td>\n",
       "      <td>2.000000e-03</td>\n",
       "      <td>1.000000e+00</td>\n",
       "      <td>184.951296</td>\n",
       "    </tr>\n",
       "    <tr>\n",
       "      <th>25%</th>\n",
       "      <td>2481.237500</td>\n",
       "      <td>2587.450000</td>\n",
       "      <td>2357.53500</td>\n",
       "      <td>2479.887500</td>\n",
       "      <td>6.430394e+02</td>\n",
       "      <td>5.515000e+02</td>\n",
       "      <td>2479.231443</td>\n",
       "    </tr>\n",
       "    <tr>\n",
       "      <th>50%</th>\n",
       "      <td>8495.365000</td>\n",
       "      <td>8699.715000</td>\n",
       "      <td>8216.75000</td>\n",
       "      <td>8516.000000</td>\n",
       "      <td>4.278685e+03</td>\n",
       "      <td>6.731000e+03</td>\n",
       "      <td>8613.773173</td>\n",
       "    </tr>\n",
       "    <tr>\n",
       "      <th>75%</th>\n",
       "      <td>40231.065000</td>\n",
       "      <td>41500.000000</td>\n",
       "      <td>39041.28500</td>\n",
       "      <td>40263.760000</td>\n",
       "      <td>2.071571e+04</td>\n",
       "      <td>7.297550e+04</td>\n",
       "      <td>40277.256178</td>\n",
       "    </tr>\n",
       "    <tr>\n",
       "      <th>max</th>\n",
       "      <td>68192.000000</td>\n",
       "      <td>69091.200000</td>\n",
       "      <td>66303.20000</td>\n",
       "      <td>68157.000000</td>\n",
       "      <td>1.394960e+06</td>\n",
       "      <td>1.456757e+06</td>\n",
       "      <td>67207.637648</td>\n",
       "    </tr>\n",
       "  </tbody>\n",
       "</table>\n",
       "</div>"
      ],
      "text/plain": [
       "               open          high          low         close        volume  \\\n",
       "count   3322.000000   3322.000000   3322.00000   3322.000000  3.322000e+03   \n",
       "mean   19397.310686  19906.030331  18839.67882  19398.772848  3.327126e+04   \n",
       "std    21038.411581  21587.277134  20434.00306  21038.111468  7.966390e+04   \n",
       "min      186.220000    191.680000    176.43000    185.930000  2.000000e-03   \n",
       "25%     2481.237500   2587.450000   2357.53500   2479.887500  6.430394e+02   \n",
       "50%     8495.365000   8699.715000   8216.75000   8516.000000  4.278685e+03   \n",
       "75%    40231.065000  41500.000000  39041.28500  40263.760000  2.071571e+04   \n",
       "max    68192.000000  69091.200000  66303.20000  68157.000000  1.394960e+06   \n",
       "\n",
       "        trade_count          vwap  \n",
       "count  3.322000e+03   3322.000000  \n",
       "mean   9.321070e+04  19392.823468  \n",
       "std    1.755414e+05  21030.106190  \n",
       "min    1.000000e+00    184.951296  \n",
       "25%    5.515000e+02   2479.231443  \n",
       "50%    6.731000e+03   8613.773173  \n",
       "75%    7.297550e+04  40277.256178  \n",
       "max    1.456757e+06  67207.637648  "
      ]
     },
     "execution_count": 48,
     "metadata": {},
     "output_type": "execute_result"
    }
   ],
   "source": [
    "df_portfolio.describe()\n"
   ]
  },
  {
   "cell_type": "code",
   "execution_count": null,
   "id": "d102167f-595d-478c-8797-23feb63a86e3",
   "metadata": {},
   "outputs": [],
   "source": [
    "##std deviation"
   ]
  },
  {
   "cell_type": "code",
   "execution_count": null,
   "id": "20bbcfa1-33db-4a01-ab2f-49fc3c11165c",
   "metadata": {},
   "outputs": [],
   "source": []
  },
  {
   "cell_type": "code",
   "execution_count": null,
   "id": "24cc4fca-edfd-471c-aff4-99c9cb2fb0d6",
   "metadata": {},
   "outputs": [],
   "source": [
    "##monte carlo of future returns based on mean reversion."
   ]
  },
  {
   "cell_type": "code",
   "execution_count": 36,
   "id": "8147c195-b62c-4a0b-b7a5-4503deaeddd1",
   "metadata": {},
   "outputs": [
    {
     "ename": "IndexError",
     "evalue": "Too many levels: Index has only 1 level, not 2",
     "output_type": "error",
     "traceback": [
      "\u001b[1;31m---------------------------------------------------------------------------\u001b[0m",
      "\u001b[1;31mIndexError\u001b[0m                                Traceback (most recent call last)",
      "\u001b[1;32m~\\AppData\\Local\\Temp/ipykernel_26888/1843928112.py\u001b[0m in \u001b[0;36m<module>\u001b[1;34m\u001b[0m\n\u001b[1;32m----> 1\u001b[1;33m MC_eth = MCSimulation(\n\u001b[0m\u001b[0;32m      2\u001b[0m     \u001b[0mportfolio_data\u001b[0m \u001b[1;33m=\u001b[0m \u001b[0mdf_portfolio\u001b[0m\u001b[1;33m,\u001b[0m\u001b[1;33m\u001b[0m\u001b[1;33m\u001b[0m\u001b[0m\n\u001b[0;32m      3\u001b[0m     \u001b[0mweights\u001b[0m \u001b[1;33m=\u001b[0m \u001b[1;33m(\u001b[0m\u001b[1;36m.50\u001b[0m\u001b[1;33m,\u001b[0m \u001b[1;36m.50\u001b[0m\u001b[1;33m)\u001b[0m\u001b[1;33m,\u001b[0m\u001b[1;33m\u001b[0m\u001b[1;33m\u001b[0m\u001b[0m\n\u001b[0;32m      4\u001b[0m     \u001b[0mnum_simulation\u001b[0m \u001b[1;33m=\u001b[0m \u001b[1;36m500\u001b[0m\u001b[1;33m,\u001b[0m\u001b[1;33m\u001b[0m\u001b[1;33m\u001b[0m\u001b[0m\n\u001b[0;32m      5\u001b[0m     \u001b[0mnum_trading_days\u001b[0m \u001b[1;33m=\u001b[0m \u001b[1;36m365\u001b[0m\u001b[1;33m*\u001b[0m\u001b[1;36m3\u001b[0m\u001b[1;33m\u001b[0m\u001b[1;33m\u001b[0m\u001b[0m\n",
      "\u001b[1;32m~\\Desktop\\Challenges\\Project 1\\Sooper-Cool-Crypto-Tool\\MCForecastTools.py\u001b[0m in \u001b[0;36m__init__\u001b[1;34m(self, portfolio_data, weights, num_simulation, num_trading_days)\u001b[0m\n\u001b[0;32m     59\u001b[0m \u001b[1;33m\u001b[0m\u001b[0m\n\u001b[0;32m     60\u001b[0m         \u001b[1;31m# Calculate daily return if not within dataframe\u001b[0m\u001b[1;33m\u001b[0m\u001b[1;33m\u001b[0m\u001b[0m\n\u001b[1;32m---> 61\u001b[1;33m         \u001b[1;32mif\u001b[0m \u001b[1;32mnot\u001b[0m \u001b[1;34m\"daily_return\"\u001b[0m \u001b[1;32min\u001b[0m \u001b[0mportfolio_data\u001b[0m\u001b[1;33m.\u001b[0m\u001b[0mcolumns\u001b[0m\u001b[1;33m.\u001b[0m\u001b[0mget_level_values\u001b[0m\u001b[1;33m(\u001b[0m\u001b[1;36m1\u001b[0m\u001b[1;33m)\u001b[0m\u001b[1;33m.\u001b[0m\u001b[0munique\u001b[0m\u001b[1;33m(\u001b[0m\u001b[1;33m)\u001b[0m\u001b[1;33m:\u001b[0m\u001b[1;33m\u001b[0m\u001b[1;33m\u001b[0m\u001b[0m\n\u001b[0m\u001b[0;32m     62\u001b[0m             \u001b[0mclose_df\u001b[0m \u001b[1;33m=\u001b[0m \u001b[0mportfolio_data\u001b[0m\u001b[1;33m.\u001b[0m\u001b[0mxs\u001b[0m\u001b[1;33m(\u001b[0m\u001b[1;34m'close'\u001b[0m\u001b[1;33m,\u001b[0m\u001b[0mlevel\u001b[0m\u001b[1;33m=\u001b[0m\u001b[1;36m1\u001b[0m\u001b[1;33m,\u001b[0m\u001b[0maxis\u001b[0m\u001b[1;33m=\u001b[0m\u001b[1;36m1\u001b[0m\u001b[1;33m)\u001b[0m\u001b[1;33m.\u001b[0m\u001b[0mpct_change\u001b[0m\u001b[1;33m(\u001b[0m\u001b[1;33m)\u001b[0m\u001b[1;33m\u001b[0m\u001b[1;33m\u001b[0m\u001b[0m\n\u001b[0;32m     63\u001b[0m             \u001b[0mtickers\u001b[0m \u001b[1;33m=\u001b[0m \u001b[0mportfolio_data\u001b[0m\u001b[1;33m.\u001b[0m\u001b[0mcolumns\u001b[0m\u001b[1;33m.\u001b[0m\u001b[0mget_level_values\u001b[0m\u001b[1;33m(\u001b[0m\u001b[1;36m0\u001b[0m\u001b[1;33m)\u001b[0m\u001b[1;33m.\u001b[0m\u001b[0munique\u001b[0m\u001b[1;33m(\u001b[0m\u001b[1;33m)\u001b[0m\u001b[1;33m\u001b[0m\u001b[1;33m\u001b[0m\u001b[0m\n",
      "\u001b[1;32m~\\anaconda3\\envs\\dev\\lib\\site-packages\\pandas\\core\\indexes\\base.py\u001b[0m in \u001b[0;36m_get_level_values\u001b[1;34m(self, level)\u001b[0m\n\u001b[0;32m   2006\u001b[0m         \u001b[0mIndex\u001b[0m\u001b[1;33m(\u001b[0m\u001b[1;33m[\u001b[0m\u001b[1;34m'a'\u001b[0m\u001b[1;33m,\u001b[0m \u001b[1;34m'b'\u001b[0m\u001b[1;33m,\u001b[0m \u001b[1;34m'c'\u001b[0m\u001b[1;33m]\u001b[0m\u001b[1;33m,\u001b[0m \u001b[0mdtype\u001b[0m\u001b[1;33m=\u001b[0m\u001b[1;34m'object'\u001b[0m\u001b[1;33m)\u001b[0m\u001b[1;33m\u001b[0m\u001b[1;33m\u001b[0m\u001b[0m\n\u001b[0;32m   2007\u001b[0m         \"\"\"\n\u001b[1;32m-> 2008\u001b[1;33m         \u001b[0mself\u001b[0m\u001b[1;33m.\u001b[0m\u001b[0m_validate_index_level\u001b[0m\u001b[1;33m(\u001b[0m\u001b[0mlevel\u001b[0m\u001b[1;33m)\u001b[0m\u001b[1;33m\u001b[0m\u001b[1;33m\u001b[0m\u001b[0m\n\u001b[0m\u001b[0;32m   2009\u001b[0m         \u001b[1;32mreturn\u001b[0m \u001b[0mself\u001b[0m\u001b[1;33m\u001b[0m\u001b[1;33m\u001b[0m\u001b[0m\n\u001b[0;32m   2010\u001b[0m \u001b[1;33m\u001b[0m\u001b[0m\n",
      "\u001b[1;32m~\\anaconda3\\envs\\dev\\lib\\site-packages\\pandas\\core\\indexes\\base.py\u001b[0m in \u001b[0;36m_validate_index_level\u001b[1;34m(self, level)\u001b[0m\n\u001b[0;32m   1925\u001b[0m                 )\n\u001b[0;32m   1926\u001b[0m             \u001b[1;32melif\u001b[0m \u001b[0mlevel\u001b[0m \u001b[1;33m>\u001b[0m \u001b[1;36m0\u001b[0m\u001b[1;33m:\u001b[0m\u001b[1;33m\u001b[0m\u001b[1;33m\u001b[0m\u001b[0m\n\u001b[1;32m-> 1927\u001b[1;33m                 raise IndexError(\n\u001b[0m\u001b[0;32m   1928\u001b[0m                     \u001b[1;34mf\"Too many levels: Index has only 1 level, not {level + 1}\"\u001b[0m\u001b[1;33m\u001b[0m\u001b[1;33m\u001b[0m\u001b[0m\n\u001b[0;32m   1929\u001b[0m                 )\n",
      "\u001b[1;31mIndexError\u001b[0m: Too many levels: Index has only 1 level, not 2"
     ]
    }
   ],
   "source": [
    "MC_eth = MCSimulation(\n",
    "    portfolio_data = df_portfolio,\n",
    "    weights = (.50, .50),\n",
    "    num_simulation = 500,\n",
    "    num_trading_days = 365*3\n",
    ")\n",
    "\n",
    "# Review the simulation input data\n",
    "MC_eth.portfolio_data.head()"
   ]
  },
  {
   "cell_type": "code",
   "execution_count": null,
   "id": "12239f5d-afe1-4cdf-858a-7fa1d1cdcb73",
   "metadata": {},
   "outputs": [],
   "source": [
    "MC_eth.calc_cumulative_return()"
   ]
  },
  {
   "cell_type": "code",
   "execution_count": null,
   "id": "3824097c-8aed-43f6-981f-d19a97b7cdc3",
   "metadata": {},
   "outputs": [],
   "source": [
    "eth_line_plot = MC_eth.plot_simulation()"
   ]
  },
  {
   "cell_type": "code",
   "execution_count": null,
   "id": "861b69c0-7f6d-46cb-a88b-ed445de9aa91",
   "metadata": {},
   "outputs": [],
   "source": [
    "eth_distribution_plot = MC_eth.plot_distribution()"
   ]
  },
  {
   "cell_type": "code",
   "execution_count": null,
   "id": "09c16758-9e9d-4856-9c5f-0a0f9a296276",
   "metadata": {},
   "outputs": [],
   "source": [
    "MC_eth.summarize_cumulative_return()"
   ]
  },
  {
   "cell_type": "code",
   "execution_count": null,
   "id": "c459846b-c7eb-415c-b0cc-63a1c3e01fa2",
   "metadata": {},
   "outputs": [],
   "source": [
    "##Parse all of this into functions for modularization."
   ]
  },
  {
   "cell_type": "code",
   "execution_count": null,
   "id": "a26782a7-facf-4607-8056-0b36b42d2b82",
   "metadata": {},
   "outputs": [],
   "source": []
  }
 ],
 "metadata": {
  "kernelspec": {
   "display_name": "Python 3 (ipykernel)",
   "language": "python",
   "name": "python3"
  },
  "language_info": {
   "codemirror_mode": {
    "name": "ipython",
    "version": 3
   },
   "file_extension": ".py",
   "mimetype": "text/x-python",
   "name": "python",
   "nbconvert_exporter": "python",
   "pygments_lexer": "ipython3",
   "version": "3.9.7"
  }
 },
 "nbformat": 4,
 "nbformat_minor": 5
}
